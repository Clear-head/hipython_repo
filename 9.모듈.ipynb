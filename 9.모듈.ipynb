{
 "cells": [
  {
   "cell_type": "code",
   "execution_count": 1,
   "id": "ebfd48bf-d9b9-4dc1-8e7c-ce1f24e4e780",
   "metadata": {},
   "outputs": [
    {
     "name": "stdout",
     "output_type": "stream",
     "text": [
      "hello\n"
     ]
    }
   ],
   "source": [
    "import first as my\n",
    "\n",
    "my.my_func()"
   ]
  },
  {
   "cell_type": "code",
   "execution_count": 2,
   "id": "503d0cad-fe1e-4214-a085-0b458b03a2a4",
   "metadata": {},
   "outputs": [
    {
     "name": "stdout",
     "output_type": "stream",
     "text": [
      "hello1\n"
     ]
    }
   ],
   "source": [
    "from first import my_func1\n",
    "\n",
    "my_func1()\n"
   ]
  },
  {
   "cell_type": "code",
   "execution_count": 3,
   "id": "8310a747-942d-4de6-9c88-f050cd92d9dd",
   "metadata": {},
   "outputs": [
    {
     "data": {
      "text/plain": [
       "['__builtins__',\n",
       " '__cached__',\n",
       " '__doc__',\n",
       " '__file__',\n",
       " '__loader__',\n",
       " '__name__',\n",
       " '__package__',\n",
       " '__spec__',\n",
       " 'my_func',\n",
       " 'my_func1',\n",
       " 'my_func2',\n",
       " 'my_func3']"
      ]
     },
     "execution_count": 3,
     "metadata": {},
     "output_type": "execute_result"
    }
   ],
   "source": [
    "import first\n",
    "dir(first)"
   ]
  },
  {
   "cell_type": "markdown",
   "id": "8f70e97a-57ab-438f-99a6-50c09bf1d99b",
   "metadata": {},
   "source": [
    "# 모듈 실행 vs 모듈 import 구분\n",
    "\n",
    "- 모듈 단독 실행 시 호출되는 코드\n",
    "`\n",
    "if __name__ == \"__main__\": 실행함수\n",
    "else: 변수 설정`\n",
    "- 이렇게 하면 import 시에 실행 되지 않는 함수를 쓸 수 있다."
   ]
  },
  {
   "cell_type": "markdown",
   "id": "889ad1e0-d399-4ba8-b89e-8c6da0f671db",
   "metadata": {},
   "source": [
    "# 패키지 : 모듈의 묶음\n",
    "윈도우, 리눅스 : 폴더/디렉토리\n",
    "\n",
    "`import 폴더명.모듈명`"
   ]
  },
  {
   "cell_type": "code",
   "execution_count": null,
   "id": "f03faa8f-617a-4a17-9026-28313c3d6e3f",
   "metadata": {},
   "outputs": [],
   "source": []
  }
 ],
 "metadata": {
  "kernelspec": {
   "display_name": "Python 3 (ipykernel)",
   "language": "python",
   "name": "python3"
  },
  "language_info": {
   "codemirror_mode": {
    "name": "ipython",
    "version": 3
   },
   "file_extension": ".py",
   "mimetype": "text/x-python",
   "name": "python",
   "nbconvert_exporter": "python",
   "pygments_lexer": "ipython3",
   "version": "3.12.9"
  }
 },
 "nbformat": 4,
 "nbformat_minor": 5
}
