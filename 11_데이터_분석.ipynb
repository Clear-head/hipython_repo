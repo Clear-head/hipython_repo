{
 "cells": [
  {
   "cell_type": "markdown",
   "id": "348ec99e",
   "metadata": {},
   "source": [
    "# defaultdict"
   ]
  },
  {
   "cell_type": "code",
   "execution_count": 1,
   "id": "6c863248",
   "metadata": {},
   "outputs": [],
   "source": [
    "from collections import defaultdict"
   ]
  },
  {
   "cell_type": "code",
   "execution_count": 2,
   "id": "33f4ce45",
   "metadata": {},
   "outputs": [
    {
     "data": {
      "text/plain": [
       "0"
      ]
     },
     "execution_count": 2,
     "metadata": {},
     "output_type": "execute_result"
    }
   ],
   "source": [
    "dd = defaultdict(int)\n",
    "dd['a'] = 1\n",
    "dd['b']"
   ]
  },
  {
   "cell_type": "code",
   "execution_count": 9,
   "id": "7e8ed072",
   "metadata": {},
   "outputs": [
    {
     "name": "stdout",
     "output_type": "stream",
     "text": [
      "defaultdict(<class 'int'>, {'a': 1, 'b': 0})\n"
     ]
    }
   ],
   "source": [
    "print(dd)"
   ]
  },
  {
   "cell_type": "code",
   "execution_count": 12,
   "id": "ca43adb8",
   "metadata": {},
   "outputs": [
    {
     "name": "stdout",
     "output_type": "stream",
     "text": [
      "defaultdict(<class 'list'>, {'Alice': 90, 'bob': 80, 'charlie': 70})\n"
     ]
    }
   ],
   "source": [
    "scores = [(\"Alice\", 90), (\"bob\", 80), (\"charlie\", 70)]\n",
    "\n",
    "group = defaultdict(list)\n",
    "\n",
    "for i, j in scores:\n",
    "    group[i] = j\n",
    "\n",
    "\n",
    "print(group)\n",
    "\n"
   ]
  },
  {
   "cell_type": "code",
   "execution_count": 15,
   "id": "40407a48",
   "metadata": {},
   "outputs": [
    {
     "name": "stdout",
     "output_type": "stream",
     "text": [
      "defaultdict(<class 'int'>, {'b': 1, 'a': 3, 'n': 2})\n"
     ]
    }
   ],
   "source": [
    "s = 'banana'\n",
    "cnt = defaultdict(int)\n",
    "\n",
    "for i in s:\n",
    "    cnt[i] += 1\n",
    "\n",
    "print(cnt)"
   ]
  },
  {
   "cell_type": "code",
   "execution_count": null,
   "id": "5570e551",
   "metadata": {},
   "outputs": [
    {
     "data": {
      "text/plain": [
       "<function print(*args, sep=' ', end='\\n', file=None, flush=False)>"
      ]
     },
     "execution_count": 2,
     "metadata": {},
     "output_type": "execute_result"
    }
   ],
   "source": []
  },
  {
   "cell_type": "markdown",
   "id": "2c5d5304",
   "metadata": {},
   "source": [
    "# counter"
   ]
  },
  {
   "cell_type": "code",
   "execution_count": 38,
   "id": "3690ab08",
   "metadata": {},
   "outputs": [],
   "source": [
    "from collections import Counter\n",
    "import random\n",
    "\n",
    "list1 = [chr(random.randint(97, 110)) for i in range(26)]"
   ]
  },
  {
   "cell_type": "code",
   "execution_count": 39,
   "id": "213716a6",
   "metadata": {},
   "outputs": [
    {
     "name": "stdout",
     "output_type": "stream",
     "text": [
      "['f', 'd', 'h', 'd', 'e', 'g', 'h', 'f', 'm', 'k', 'e', 'd', 'k', 'd', 'h', 'h', 'b', 'i', 'g', 'i', 'n', 'b', 'c', 'l', 'l', 'l']\n",
      "Counter({'d': 4, 'h': 4, 'l': 3, 'f': 2, 'e': 2, 'g': 2, 'k': 2, 'b': 2, 'i': 2, 'm': 1, 'n': 1, 'c': 1})\n",
      "[('d', 4), ('h', 4), ('l', 3), ('f', 2), ('e', 2), ('g', 2), ('k', 2), ('b', 2), ('i', 2), ('m', 1), ('n', 1), ('c', 1)]\n"
     ]
    }
   ],
   "source": [
    "list2 = Counter(list1)\n",
    "\n",
    "print(list1)\n",
    "print(list2)\n",
    "print(list2.most_common())  # () 안의 인자 수 만큼 많은 순서대로 리턴 default = all"
   ]
  },
  {
   "cell_type": "code",
   "execution_count": 40,
   "id": "7f5f7627",
   "metadata": {},
   "outputs": [
    {
     "name": "stdout",
     "output_type": "stream",
     "text": [
      "['f', 'd', 'h', 'd', 'e', 'g', 'h', 'f', 'm', 'k', 'e', 'd', 'k', 'd', 'h', 'h', 'b', 'i', 'g', 'i', 'n', 'b', 'c', 'l', 'l', 'l']\n",
      "['가', '나', '다']\n",
      "['f', 'd', 'h', 'd', 'e', 'g', 'h', 'f', 'm', 'k', 'e', 'd', 'k', 'd', 'h', 'h', 'b', 'i', 'g', 'i', 'n', 'b', 'c', 'l', 'l', 'l', '가', '나', '다']\n"
     ]
    }
   ],
   "source": [
    "list3 = [\"가\", \"나\", \"다\"]\n",
    "\n",
    "print(list1)\n",
    "list1.extend(list3)\n",
    "\n",
    "print(list3)\n",
    "print(list1)"
   ]
  },
  {
   "cell_type": "code",
   "execution_count": null,
   "id": "92ca78a4",
   "metadata": {},
   "outputs": [],
   "source": []
  },
  {
   "cell_type": "code",
   "execution_count": null,
   "id": "be264452",
   "metadata": {},
   "outputs": [],
   "source": []
  }
 ],
 "metadata": {
  "kernelspec": {
   "display_name": "hipython",
   "language": "python",
   "name": "python3"
  },
  "language_info": {
   "codemirror_mode": {
    "name": "ipython",
    "version": 3
   },
   "file_extension": ".py",
   "mimetype": "text/x-python",
   "name": "python",
   "nbconvert_exporter": "python",
   "pygments_lexer": "ipython3",
   "version": "3.12.9"
  }
 },
 "nbformat": 4,
 "nbformat_minor": 5
}
