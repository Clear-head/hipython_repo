{
 "cells": [
  {
   "cell_type": "code",
   "execution_count": 3,
   "id": "a302b1b1",
   "metadata": {},
   "outputs": [],
   "source": [
    "import numpy as np\n",
    "import pandas as pd\n",
    "import matplotlib.pyplot as plt\n",
    "from scipy.stats import ttest_1samp, ttest_ind, ttest_rel, chi2_contingency, f_oneway\n",
    "%matplotlib inline\n",
    "plt.rc('figure', figsize=(10, 6))\n",
    "from matplotlib import rcParams\n",
    "rcParams['font.family'] = 'New Gulim'\n",
    "rcParams['font.size'] = 10\n",
    "rcParams['axes.unicode_minus'] = False"
   ]
  },
  {
   "cell_type": "markdown",
   "id": "ce439080",
   "metadata": {},
   "source": [
    "# 가설\n",
    "대한민국 남성의 평균 몸무게는 70 킬로그램이다."
   ]
  },
  {
   "cell_type": "markdown",
   "id": "ca79e0c2",
   "metadata": {},
   "source": [
    "### 1. 가설 수립\n",
    "H0: 대한민국 남성의 평균 몸무게는 70킬로그램이다(차이가 없다.)\n",
    "H1: 대한민국 남성의 평균 몸무게는 70킬로그램이 아니다."
   ]
  },
  {
   "cell_type": "markdown",
   "id": "275b7b68",
   "metadata": {},
   "source": [
    "### 2. 통계량 산출- 데이터 수집 "
   ]
  },
  {
   "cell_type": "code",
   "execution_count": 4,
   "id": "d7760e70",
   "metadata": {},
   "outputs": [
    {
     "name": "stdout",
     "output_type": "stream",
     "text": [
      "평균 : 70.08573280308887\n",
      "p-value : 0.953913826658112\n"
     ]
    }
   ],
   "source": [
    "np.random.seed(123) # 데이터 수집 대신 임의의 값\n",
    "\n",
    "weight = np.random.uniform(40, 100, 100)\n",
    "\n",
    "test_result = ttest_1samp(weight, 70)\n",
    "print(f\"평균 : {np.mean(weight)}\")\n",
    "print(f\"p-value : {test_result.pvalue}\")"
   ]
  },
  {
   "cell_type": "markdown",
   "id": "d6398bbb",
   "metadata": {},
   "source": [
    "### 3. 검정결과"
   ]
  },
  {
   "cell_type": "code",
   "execution_count": 5,
   "id": "466b7a6b",
   "metadata": {},
   "outputs": [
    {
     "name": "stdout",
     "output_type": "stream",
     "text": [
      "검정 결과 : 귀무가설 채택\n"
     ]
    }
   ],
   "source": [
    "print(f\"검정 결과 : {'귀무가설 기각' if test_result.pvalue < 0.05 else '귀무가설 채택'}\")"
   ]
  },
  {
   "cell_type": "markdown",
   "id": "e8b5ee58",
   "metadata": {},
   "source": [
    "### 4. 결과 채택"
   ]
  },
  {
   "cell_type": "code",
   "execution_count": 6,
   "id": "cad4240e",
   "metadata": {},
   "outputs": [
    {
     "name": "stdout",
     "output_type": "stream",
     "text": [
      "대한민국 남성의 평균 몸무게는 70kg 이다.\n"
     ]
    }
   ],
   "source": [
    "if test_result.pvalue < 0.05:\n",
    "    print(\"대한민국 남성의 평균 몸무게는 70kg 이 아니다.\")\n",
    "else:\n",
    "    print(\"대한민국 남성의 평균 몸무게는 70kg 이다.\")"
   ]
  },
  {
   "cell_type": "markdown",
   "id": "059d725f",
   "metadata": {},
   "source": [
    "# 여기 까지가 가설 검정의 한 흐름\n",
    "------------\n"
   ]
  },
  {
   "cell_type": "markdown",
   "id": "4efcd29c",
   "metadata": {},
   "source": [
    "# 예제 1\n",
    "문제: 하루 커피 섭취량이 평균 2.5잔이라고 알려져 있다. 실제 설문조사에서 2.8잔이 나왔다. 과연 차이가 통계적으로 유의한가?"
   ]
  },
  {
   "cell_type": "code",
   "execution_count": 13,
   "id": "01cfdf7e",
   "metadata": {},
   "outputs": [
    {
     "name": "stdout",
     "output_type": "stream",
     "text": [
      "t값 = 7.031, p값 = 0.000000\n"
     ]
    }
   ],
   "source": [
    "# 표본 데이터 (30명)\n",
    "coffee_data = [2.9, 2.4, 2.7, 3.0, 2.6, 2.8, 2.9, 3.1, 2.7, 2.6,\n",
    "               2.8, 2.5, 3.2, 3.0, 2.4, 2.6, 2.7, 3.1, 2.8, 2.7,\n",
    "               2.5, 2.9, 2.6, 2.8, 2.9, 2.5, 2.7, 2.8, 3.0, 2.9]\n",
    "\n",
    "# 단일표본 t-검정\n",
    "t_stat, p_value = ttest_1samp(coffee_data, popmean=2.5)\n",
    "\n",
    "print(f\"t값 = {t_stat:.3f}, p값 = {p_value:.6f}\")"
   ]
  },
  {
   "cell_type": "markdown",
   "id": "4cdace0c",
   "metadata": {},
   "source": [
    "### 예제 2: 두 그룹 비교 - 이표본(독립표본) t검정\n",
    "\n",
    "**문제:** A와 B 수업의 시험 평균 점수가 차이가 있는가?"
   ]
  },
  {
   "cell_type": "code",
   "execution_count": 12,
   "id": "4b010f61",
   "metadata": {},
   "outputs": [
    {
     "name": "stdout",
     "output_type": "stream",
     "text": [
      "t값 = 5.331, p값 = 0.000060\n"
     ]
    }
   ],
   "source": [
    "group_A = [78, 85, 82, 88, 76, 81, 79, 84, 82, 80]\n",
    "group_B = [72, 75, 78, 74, 71, 77, 70, 76, 75, 73]\n",
    "\n",
    "t_stat, p_value = ttest_ind(group_A, group_B, equal_var=False)\n",
    "print(f\"t값 = {t_stat:.3f}, p값 = {p_value:.6f}\")"
   ]
  },
  {
   "cell_type": "markdown",
   "id": "89f267d3",
   "metadata": {},
   "source": [
    "### 대응표본 T 검정"
   ]
  },
  {
   "cell_type": "code",
   "execution_count": 9,
   "id": "9ea68310",
   "metadata": {},
   "outputs": [
    {
     "name": "stdout",
     "output_type": "stream",
     "text": [
      "t값 = 25.327, p값 = 0.0000000011\n"
     ]
    }
   ],
   "source": [
    "# 대응 표본 t-검정 예제: 약물 투여 전후 혈압 비교\n",
    "before = [120, 122, 143, 130, 135, 118, 127, 140, 132, 125]\n",
    "after = [115, 117, 138, 125, 129, 112, 120, 135, 126, 119]\n",
    "\n",
    "t_stat, p_value = ttest_rel(before, after)\n",
    "print(f\"t값 = {t_stat:.3f}, p값 = {p_value:.10f}\")"
   ]
  },
  {
   "cell_type": "markdown",
   "id": "077e2ea6",
   "metadata": {},
   "source": [
    "H0: 약물 투여 시 혈압에 차이가 없을 것이다.   \n",
    "H1: 약물 투여 시 혈압에 차이가 있을 것이다.\n",
    "\n",
    "t값 = 25.327, p값 = 0.0000000011\n",
    "\n",
    "귀무가설을 기각한다.   \n",
    "약물을 투여하면 전후 차이가 있다."
   ]
  },
  {
   "cell_type": "markdown",
   "id": "d864f9fa",
   "metadata": {},
   "source": [
    "### 카이제곱\n",
    "문제: 성별에 따라 커피를 더 선호하는지?"
   ]
  },
  {
   "cell_type": "code",
   "execution_count": 14,
   "id": "20adcb58",
   "metadata": {},
   "outputs": [
    {
     "name": "stdout",
     "output_type": "stream",
     "text": [
      "chi2 = 3.857, p값 = 0.049535\n"
     ]
    }
   ],
   "source": [
    "import numpy as np\n",
    "obs = np.array([[40, 10],  # 남자 (좋아함, 안좋아함) 교차표\n",
    "                [30, 20]]) # 여자\n",
    "\n",
    "chi2, p, dof, expected = chi2_contingency(obs)\n",
    "print(f\"chi2 = {chi2:.3f}, p값 = {p:.6f}\")"
   ]
  },
  {
   "cell_type": "markdown",
   "id": "695cedf4",
   "metadata": {},
   "source": [
    "H0: 성별에 따라 커피를 더 선호하는 경향이 없을 것이다.   \n",
    "H1: 성별에 따라 커피를 더 선호하는 경향이 있을 것이다.\n",
    "\n",
    "귀무가설을 채택한다.   \n",
    "성별에 따라 커피를 더 선호하는 경향이 있다."
   ]
  },
  {
   "cell_type": "markdown",
   "id": "fffb45bb",
   "metadata": {},
   "source": [
    "### ANOVA"
   ]
  },
  {
   "cell_type": "code",
   "execution_count": 11,
   "id": "0829aaf7",
   "metadata": {},
   "outputs": [
    {
     "name": "stdout",
     "output_type": "stream",
     "text": [
      "F값: 24.28, p값: 0.0013\n"
     ]
    }
   ],
   "source": [
    "from scipy.stats import f_oneway\n",
    "\n",
    "# 세 그룹의 점수\n",
    "group1 = [80, 85, 90]\n",
    "group2 = [70, 75, 78]\n",
    "group3 = [60, 65, 62]\n",
    "\n",
    "f_stat, p_value = f_oneway(group1, group2, group3)\n",
    "print(f\"F값: {f_stat:.2f}, p값: {p_value:.4f}\")"
   ]
  },
  {
   "cell_type": "markdown",
   "id": "37d06b20",
   "metadata": {},
   "source": [
    "### 베이즈의 정리"
   ]
  },
  {
   "cell_type": "code",
   "execution_count": null,
   "id": "79154187",
   "metadata": {},
   "outputs": [
    {
     "name": "stdout",
     "output_type": "stream",
     "text": [
      "0.6785714285714285\n"
     ]
    }
   ],
   "source": [
    "P_A = 0.1                   # 암일 확률\n",
    "P_not_A = 1 - P_A           # 암이 아닐 확률\n",
    "\n",
    "P_B_given_A = 0.95          # 양성판정의 정확도\n",
    "P_B_given_not_A = 0.05      # 암이 아닌데 양성 판정일 확률\n",
    "\n",
    "\n",
    "# 베이즈의 정리\n",
    "P_A_given_B =  P_B_given_A * P_A / ( (P_B_given_A * P_A) + (P_B_given_not_A * P_not_A) )\n",
    "\n",
    "print(P_A_given_B)"
   ]
  },
  {
   "cell_type": "markdown",
   "id": "4a3b25cc",
   "metadata": {},
   "source": [
    "### 확률의 계산"
   ]
  },
  {
   "cell_type": "code",
   "execution_count": 17,
   "id": "b3122713",
   "metadata": {},
   "outputs": [
    {
     "data": {
      "text/plain": [
       "0.5"
      ]
     },
     "execution_count": 17,
     "metadata": {},
     "output_type": "execute_result"
    }
   ],
   "source": [
    "# 동전 던지기\n",
    "\n",
    "coin_space = ['front', 'back']\n",
    "coin_event = ['front']\n",
    "\n",
    "prob = lambda e, s: len(e) / len(s)\n",
    "prob(coin_event, coin_space)"
   ]
  },
  {
   "cell_type": "code",
   "execution_count": 19,
   "id": "0ea2285b",
   "metadata": {},
   "outputs": [
    {
     "data": {
      "text/plain": [
       "0.16666666666666666"
      ]
     },
     "execution_count": 19,
     "metadata": {},
     "output_type": "execute_result"
    }
   ],
   "source": [
    "# 주사위 던지기\n",
    "# 주사위를 1번 던졌을 때 3 이 나올 확률\n",
    "dice_space = [i for i in range(1, 7)]\n",
    "dice_event = [3]\n",
    "\n",
    "prob(dice_event, dice_space)"
   ]
  },
  {
   "cell_type": "code",
   "execution_count": 24,
   "id": "85e56e5b",
   "metadata": {},
   "outputs": [
    {
     "name": "stdout",
     "output_type": "stream",
     "text": [
      "{2, 4, 5, 6}\n"
     ]
    }
   ],
   "source": [
    "space = {1, 2, 3, 4, 5, 6}\n",
    "event_a = {2, 4, 6}\n",
    "event_b = {5, 6}\n",
    "\n",
    "# 합집합\n",
    "union_a = event_a | event_b\n",
    "print(union_a)"
   ]
  },
  {
   "cell_type": "code",
   "execution_count": 26,
   "id": "1a3aca54",
   "metadata": {},
   "outputs": [
    {
     "data": {
      "text/plain": [
       "0.6666666666666666"
      ]
     },
     "execution_count": 26,
     "metadata": {},
     "output_type": "execute_result"
    }
   ],
   "source": [
    "cnt_union = len(union_a)\n",
    "cnt_all = len(space)\n",
    "\n",
    "a = cnt_union / cnt_all\n",
    "# 짝수 또는 4보다 큰 눈이 나올 확률\n",
    "a"
   ]
  },
  {
   "cell_type": "code",
   "execution_count": 28,
   "id": "f66e09ab",
   "metadata": {},
   "outputs": [
    {
     "data": {
      "text/plain": [
       "0.6666666666666666"
      ]
     },
     "execution_count": 28,
     "metadata": {},
     "output_type": "execute_result"
    }
   ],
   "source": [
    "# 2이하이거나 5이상인 눈이 나올 확률\n",
    "under_2 = {1, 2}\n",
    "over_5 = {5, 6}\n",
    "\n",
    "union_b = under_2|over_5\n",
    "b = len(union_b) / len(space)\n",
    "\n",
    "b"
   ]
  },
  {
   "cell_type": "markdown",
   "id": "98a8911b",
   "metadata": {},
   "source": [
    "### 교집합"
   ]
  },
  {
   "cell_type": "code",
   "execution_count": 31,
   "id": "faa1960d",
   "metadata": {},
   "outputs": [
    {
     "data": {
      "text/plain": [
       "{2}"
      ]
     },
     "execution_count": 31,
     "metadata": {},
     "output_type": "execute_result"
    }
   ],
   "source": [
    "# 주사위를 던저 짝수 이면서 2 일 확률\n",
    "event_a = {2, 4, 6}\n",
    "event_b = {2}\n",
    "\n",
    "P_A = len(event_a) / len(space)\n",
    "P_B = len(event_b) / len(space)\n",
    "\n",
    "P_BnA = event_a & event_b\n",
    "P_BnA"
   ]
  },
  {
   "cell_type": "code",
   "execution_count": 36,
   "id": "f1446e74",
   "metadata": {},
   "outputs": [
    {
     "data": {
      "text/plain": [
       "0.16666666666666666"
      ]
     },
     "execution_count": 36,
     "metadata": {},
     "output_type": "execute_result"
    }
   ],
   "source": [
    "c = len(P_BnA) / len(space)\n",
    "\n",
    "c"
   ]
  },
  {
   "cell_type": "code",
   "execution_count": 39,
   "id": "76566d38",
   "metadata": {},
   "outputs": [
    {
     "ename": "TypeError",
     "evalue": "unsupported operand type(s) for /: 'set' and 'float'",
     "output_type": "error",
     "traceback": [
      "\u001b[31m---------------------------------------------------------------------------\u001b[39m",
      "\u001b[31mTypeError\u001b[39m                                 Traceback (most recent call last)",
      "\u001b[36mCell\u001b[39m\u001b[36m \u001b[39m\u001b[32mIn[39]\u001b[39m\u001b[32m, line 1\u001b[39m\n\u001b[32m----> \u001b[39m\u001b[32m1\u001b[39m P_B_given_A = P_BnA / P_A\n\u001b[32m      2\u001b[39m P_B_given_A\n",
      "\u001b[31mTypeError\u001b[39m: unsupported operand type(s) for /: 'set' and 'float'"
     ]
    }
   ],
   "source": [
    "P_B_given_A = P_BnA / P_A\n",
    "P_B_given_A"
   ]
  },
  {
   "cell_type": "markdown",
   "id": "48f2ce8d",
   "metadata": {},
   "source": [
    "### 우도와 확률값"
   ]
  },
  {
   "cell_type": "code",
   "execution_count": 57,
   "id": "371b4299",
   "metadata": {},
   "outputs": [],
   "source": [
    "# 동전 10번 던져서 8번 앞면이 나왔다.\n",
    "# 이 경우 우도의 계산\n",
    "from scipy.stats import binom, norm"
   ]
  },
  {
   "cell_type": "code",
   "execution_count": 52,
   "id": "a6920880",
   "metadata": {},
   "outputs": [
    {
     "name": "stdout",
     "output_type": "stream",
     "text": [
      "0.04394531250000004\n",
      "0.30198988799999993\n"
     ]
    }
   ],
   "source": [
    "n = 10\n",
    "k = 8\n",
    "\n",
    "# 가설1 공전한 동전 일 것이다.\n",
    "p1 = 0.5\n",
    "p1_likelihood = binom.pmf(k, n, p1)     # 조건, 총 사건, 확률\n",
    "\n",
    "# 가설2 앞면이 공정하지 못한 동전 일 것이다.\n",
    "p2 = 0.8\n",
    "p2_likelihood = binom.pmf(k, n, p2)\n",
    "\n",
    "print(p1_likelihood)\n",
    "print(p2_likelihood)"
   ]
  },
  {
   "cell_type": "markdown",
   "id": "66c3b24f",
   "metadata": {},
   "source": [
    "가설1: 앞면이 8번 나올 확률은 4.4%   \n",
    "가설2: 앞면이 8번 나올 확률은 30.2%   \n",
    "\n",
    "앞면이 8번 나오는 관측값은 p=0.8인 모델이 더 잘 설명한다. (우도가 더 크다.)"
   ]
  },
  {
   "cell_type": "markdown",
   "id": "a6ed190d",
   "metadata": {},
   "source": [
    "---\n",
    "### 기대값\n",
    "x의 확률들의 평균"
   ]
  },
  {
   "cell_type": "code",
   "execution_count": 55,
   "id": "35437051",
   "metadata": {},
   "outputs": [
    {
     "name": "stdout",
     "output_type": "stream",
     "text": [
      "기댓값: 2.166667\n"
     ]
    }
   ],
   "source": [
    "x_val = [1, 2, 3]\n",
    "p_x = [1/6, 3/6, 2/6]\n",
    "\n",
    "exp_val = 0\n",
    "for i, j in zip(x_val, p_x):\n",
    "    exp_val += i * j\n",
    "\n",
    "\n",
    "print(f'기댓값: {exp_val:.6f}')"
   ]
  },
  {
   "cell_type": "markdown",
   "id": "1f4f1728",
   "metadata": {},
   "source": [
    "### 정규분포"
   ]
  },
  {
   "cell_type": "code",
   "execution_count": 60,
   "id": "93bd5c16",
   "metadata": {},
   "outputs": [],
   "source": [
    "mean = 0\n",
    "sig = 1\n",
    "\n",
    "x = np.linspace(-4, 4, 1000)\n",
    "y = norm.pdf(x, loc=mean, scale=sig)"
   ]
  },
  {
   "cell_type": "code",
   "execution_count": 62,
   "id": "8089ba08",
   "metadata": {},
   "outputs": [
    {
     "data": {
      "image/png": "[encoded data removed]",
      "text/plain": [
       "<Figure size 1000x600 with 1 Axes>"
      ]
     },
     "metadata": {},
     "output_type": "display_data"
    }
   ],
   "source": [
    "plt.plot(x, y)\n",
    "plt.show()"
   ]
  },
  {
   "cell_type": "markdown",
   "id": "d2651747",
   "metadata": {},
   "source": [
    "### 표집분포"
   ]
  },
  {
   "cell_type": "code",
   "execution_count": 78,
   "id": "42dde541",
   "metadata": {},
   "outputs": [
    {
     "data": {
      "image/png": "[encoded data removed]",
      "text/plain": [
       "<Figure size 1000x600 with 1 Axes>"
      ]
     },
     "metadata": {},
     "output_type": "display_data"
    }
   ],
   "source": [
    "np.random.seed(0)\n",
    "x_pop = np.random.exponential(scale=10, size=10000)\n",
    "sample_mean = [np.mean(np.random.choice(x_pop, 30)) for _ in range(10000)]\n",
    "\n",
    "plt.hist(sample_mean, bins=50)\n",
    "plt.show()"
   ]
  },
  {
   "cell_type": "markdown",
   "id": "51762513",
   "metadata": {},
   "source": [
    "### z점수"
   ]
  },
  {
   "cell_type": "code",
   "execution_count": 79,
   "id": "7538dc11",
   "metadata": {},
   "outputs": [
    {
     "name": "stdout",
     "output_type": "stream",
     "text": [
      "1.0\n",
      "2.5\n"
     ]
    }
   ],
   "source": [
    "mean = 100\n",
    "sig = 10\n",
    "\n",
    "x1 = 110\n",
    "x2 = 125\n",
    "\n",
    "z_x1 = (x1-mean) / sig\n",
    "z_x2 = (x2-mean) / sig\n",
    "\n",
    "print(z_x1)\n",
    "print(z_x2)"
   ]
  },
  {
   "cell_type": "code",
   "execution_count": null,
   "id": "db73d4e7",
   "metadata": {},
   "outputs": [
    {
     "name": "stdout",
     "output_type": "stream",
     "text": [
      "0.3413447460685429\n",
      "0.49379033467422384\n",
      "0.15244558860568092\n"
     ]
    }
   ],
   "source": [
    "print(norm.cdf(z_x1) - norm.cdf(0))\n",
    "print(norm.cdf(z_x2) - norm.cdf(0))\n",
    "print(-(norm.cdf(z_x1) - norm.cdf(0)) + (norm.cdf(z_x2) - norm.cdf(0)))"
   ]
  },
  {
   "cell_type": "code",
   "execution_count": 96,
   "id": "133b51ca",
   "metadata": {},
   "outputs": [
    {
     "data": {
      "image/png": "[encoded data removed]",
      "text/plain": [
       "<Figure size 1000x600 with 1 Axes>"
      ]
     },
     "metadata": {},
     "output_type": "display_data"
    }
   ],
   "source": [
    "x = np.linspace(mean - 4 * sig, mean + 4 * sig, 1000)\n",
    "y = norm.pdf(x, mean, sig)\n",
    "\n",
    "plt.plot(x, y)\n",
    "\n",
    "plt.fill_between(x, y, where=(x>100)&(x<=110))\n",
    "plt.fill_between(x, y, where=(x>110)&(x<=125))\n",
    "\n",
    "plt.show()"
   ]
  },
  {
   "cell_type": "code",
   "execution_count": null,
   "id": "14d1aa8a",
   "metadata": {},
   "outputs": [],
   "source": [
    "\n"
   ]
  }
 ],
 "metadata": {
  "kernelspec": {
   "display_name": "hipython",
   "language": "python",
   "name": "python3"
  },
  "language_info": {
   "codemirror_mode": {
    "name": "ipython",
    "version": 3
   },
   "file_extension": ".py",
   "mimetype": "text/x-python",
   "name": "python",
   "nbconvert_exporter": "python",
   "pygments_lexer": "ipython3",
   "version": "3.12.3"
  }
 },
 "nbformat": 4,
 "nbformat_minor": 5
}
