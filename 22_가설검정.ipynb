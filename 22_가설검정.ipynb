{
 "cells": [
  {
   "cell_type": "code",
   "execution_count": 3,
   "id": "a302b1b1",
   "metadata": {},
   "outputs": [],
   "source": [
    "import numpy as np\n",
    "import pandas as pd\n",
    "import matplotlib.pyplot as plt\n",
    "from scipy.stats import ttest_1samp, ttest_ind, ttest_rel, chi2_contingency, f_oneway\n",
    "%matplotlib inline\n",
    "plt.rc('figure', figsize=(10, 6))\n",
    "from matplotlib import rcParams\n",
    "rcParams['font.family'] = 'New Gulim'\n",
    "rcParams['font.size'] = 10\n",
    "rcParams['axes.unicode_minus'] = False"
   ]
  },
  {
   "cell_type": "markdown",
   "id": "ce439080",
   "metadata": {},
   "source": [
    "# 가설\n",
    "대한민국 남성의 평균 몸무게는 70 킬로그램이다."
   ]
  },
  {
   "cell_type": "markdown",
   "id": "ca79e0c2",
   "metadata": {},
   "source": [
    "### 1. 가설 수립\n",
    "H0: 대한민국 남성의 평균 몸무게는 70킬로그램이다(차이가 없다.)\n",
    "H1: 대한민국 남성의 평균 몸무게는 70킬로그램이 아니다."
   ]
  },
  {
   "cell_type": "markdown",
   "id": "275b7b68",
   "metadata": {},
   "source": [
    "### 2. 통계량 산출- 데이터 수집 "
   ]
  },
  {
   "cell_type": "code",
   "execution_count": 4,
   "id": "d7760e70",
   "metadata": {},
   "outputs": [
    {
     "name": "stdout",
     "output_type": "stream",
     "text": [
      "평균 : 70.08573280308887\n",
      "p-value : 0.953913826658112\n"
     ]
    }
   ],
   "source": [
    "np.random.seed(123) # 데이터 수집 대신 임의의 값\n",
    "\n",
    "weight = np.random.uniform(40, 100, 100)\n",
    "\n",
    "test_result = ttest_1samp(weight, 70)\n",
    "print(f\"평균 : {np.mean(weight)}\")\n",
    "print(f\"p-value : {test_result.pvalue}\")"
   ]
  },
  {
   "cell_type": "markdown",
   "id": "d6398bbb",
   "metadata": {},
   "source": [
    "### 3. 검정결과"
   ]
  },
  {
   "cell_type": "code",
   "execution_count": 5,
   "id": "466b7a6b",
   "metadata": {},
   "outputs": [
    {
     "name": "stdout",
     "output_type": "stream",
     "text": [
      "검정 결과 : 귀무가설 채택\n"
     ]
    }
   ],
   "source": [
    "print(f\"검정 결과 : {'귀무가설 기각' if test_result.pvalue < 0.05 else '귀무가설 채택'}\")"
   ]
  },
  {
   "cell_type": "markdown",
   "id": "e8b5ee58",
   "metadata": {},
   "source": [
    "### 4. 결과 채택"
   ]
  },
  {
   "cell_type": "code",
   "execution_count": 6,
   "id": "cad4240e",
   "metadata": {},
   "outputs": [
    {
     "name": "stdout",
     "output_type": "stream",
     "text": [
      "대한민국 남성의 평균 몸무게는 70kg 이다.\n"
     ]
    }
   ],
   "source": [
    "if test_result.pvalue < 0.05:\n",
    "    print(\"대한민국 남성의 평균 몸무게는 70kg 이 아니다.\")\n",
    "else:\n",
    "    print(\"대한민국 남성의 평균 몸무게는 70kg 이다.\")"
   ]
  },
  {
   "cell_type": "markdown",
   "id": "059d725f",
   "metadata": {},
   "source": [
    "# 여기 까지가 가설 검정의 한 흐름\n",
    "------------\n"
   ]
  },
  {
   "cell_type": "markdown",
   "id": "4efcd29c",
   "metadata": {},
   "source": [
    "# 예제 1\n",
    "문제: 하루 커피 섭취량이 평균 2.5잔이라고 알려져 있다. 실제 설문조사에서 2.8잔이 나왔다. 과연 차이가 통계적으로 유의한가?"
   ]
  },
  {
   "cell_type": "code",
   "execution_count": 13,
   "id": "01cfdf7e",
   "metadata": {},
   "outputs": [
    {
     "name": "stdout",
     "output_type": "stream",
     "text": [
      "t값 = 7.031, p값 = 0.000000\n"
     ]
    }
   ],
   "source": [
    "# 표본 데이터 (30명)\n",
    "coffee_data = [2.9, 2.4, 2.7, 3.0, 2.6, 2.8, 2.9, 3.1, 2.7, 2.6,\n",
    "               2.8, 2.5, 3.2, 3.0, 2.4, 2.6, 2.7, 3.1, 2.8, 2.7,\n",
    "               2.5, 2.9, 2.6, 2.8, 2.9, 2.5, 2.7, 2.8, 3.0, 2.9]\n",
    "\n",
    "# 단일표본 t-검정\n",
    "t_stat, p_value = ttest_1samp(coffee_data, popmean=2.5)\n",
    "\n",
    "print(f\"t값 = {t_stat:.3f}, p값 = {p_value:.6f}\")"
   ]
  },
  {
   "cell_type": "markdown",
   "id": "4cdace0c",
   "metadata": {},
   "source": [
    "### 예제 2: 두 그룹 비교 - 이표본(독립표본) t검정\n",
    "\n",
    "**문제:** A와 B 수업의 시험 평균 점수가 차이가 있는가?"
   ]
  },
  {
   "cell_type": "code",
   "execution_count": 12,
   "id": "4b010f61",
   "metadata": {},
   "outputs": [
    {
     "name": "stdout",
     "output_type": "stream",
     "text": [
      "t값 = 5.331, p값 = 0.000060\n"
     ]
    }
   ],
   "source": [
    "group_A = [78, 85, 82, 88, 76, 81, 79, 84, 82, 80]\n",
    "group_B = [72, 75, 78, 74, 71, 77, 70, 76, 75, 73]\n",
    "\n",
    "t_stat, p_value = ttest_ind(group_A, group_B, equal_var=False)\n",
    "print(f\"t값 = {t_stat:.3f}, p값 = {p_value:.6f}\")"
   ]
  },
  {
   "cell_type": "markdown",
   "id": "89f267d3",
   "metadata": {},
   "source": [
    "### 대응표본 T 검정"
   ]
  },
  {
   "cell_type": "code",
   "execution_count": 9,
   "id": "9ea68310",
   "metadata": {},
   "outputs": [
    {
     "name": "stdout",
     "output_type": "stream",
     "text": [
      "t값 = 25.327, p값 = 0.0000000011\n"
     ]
    }
   ],
   "source": [
    "# 대응 표본 t-검정 예제: 약물 투여 전후 혈압 비교\n",
    "before = [120, 122, 143, 130, 135, 118, 127, 140, 132, 125]\n",
    "after = [115, 117, 138, 125, 129, 112, 120, 135, 126, 119]\n",
    "\n",
    "t_stat, p_value = ttest_rel(before, after)\n",
    "print(f\"t값 = {t_stat:.3f}, p값 = {p_value:.10f}\")"
   ]
  },
  {
   "cell_type": "markdown",
   "id": "077e2ea6",
   "metadata": {},
   "source": [
    "H0: 약물 투여 시 혈압에 차이가 없을 것이다.   \n",
    "H1: 약물 투여 시 혈압에 차이가 있을 것이다.\n",
    "\n",
    "t값 = 25.327, p값 = 0.0000000011\n",
    "\n",
    "귀무가설을 기각한다.   \n",
    "약물을 투여하면 전후 차이가 있다."
   ]
  },
  {
   "cell_type": "markdown",
   "id": "d864f9fa",
   "metadata": {},
   "source": [
    "### 카이제곱\n",
    "문제: 성별에 따라 커피를 더 선호하는지?"
   ]
  },
  {
   "cell_type": "code",
   "execution_count": 14,
   "id": "20adcb58",
   "metadata": {},
   "outputs": [
    {
     "name": "stdout",
     "output_type": "stream",
     "text": [
      "chi2 = 3.857, p값 = 0.049535\n"
     ]
    }
   ],
   "source": [
    "import numpy as np\n",
    "obs = np.array([[40, 10],  # 남자 (좋아함, 안좋아함) 교차표\n",
    "                [30, 20]]) # 여자\n",
    "\n",
    "chi2, p, dof, expected = chi2_contingency(obs)\n",
    "print(f\"chi2 = {chi2:.3f}, p값 = {p:.6f}\")"
   ]
  },
  {
   "cell_type": "markdown",
   "id": "695cedf4",
   "metadata": {},
   "source": [
    "H0: 성별에 따라 커피를 더 선호하는 경향이 없을 것이다.   \n",
    "H1: 성별에 따라 커피를 더 선호하는 경향이 있을 것이다.\n",
    "\n",
    "귀무가설을 채택한다.   \n",
    "성별에 따라 커피를 더 선호하는 경향이 있다."
   ]
  },
  {
   "cell_type": "markdown",
   "id": "fffb45bb",
   "metadata": {},
   "source": [
    "### ANOVA"
   ]
  },
  {
   "cell_type": "code",
   "execution_count": 11,
   "id": "0829aaf7",
   "metadata": {},
   "outputs": [
    {
     "name": "stdout",
     "output_type": "stream",
     "text": [
      "F값: 24.28, p값: 0.0013\n"
     ]
    }
   ],
   "source": [
    "from scipy.stats import f_oneway\n",
    "\n",
    "# 세 그룹의 점수\n",
    "group1 = [80, 85, 90]\n",
    "group2 = [70, 75, 78]\n",
    "group3 = [60, 65, 62]\n",
    "\n",
    "f_stat, p_value = f_oneway(group1, group2, group3)\n",
    "print(f\"F값: {f_stat:.2f}, p값: {p_value:.4f}\")"
   ]
  }
 ],
 "metadata": {
  "kernelspec": {
   "display_name": "hipython",
   "language": "python",
   "name": "python3"
  },
  "language_info": {
   "codemirror_mode": {
    "name": "ipython",
    "version": 3
   },
   "file_extension": ".py",
   "mimetype": "text/x-python",
   "name": "python",
   "nbconvert_exporter": "python",
   "pygments_lexer": "ipython3",
   "version": "3.12.3"
  }
 },
 "nbformat": 4,
 "nbformat_minor": 5
}
