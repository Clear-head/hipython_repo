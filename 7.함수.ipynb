{
 "cells": [
  {
   "cell_type": "markdown",
   "id": "66d42c68-17d0-4899-a57b-12d32ac7366d",
   "metadata": {},
   "source": [
    "# 함수\n",
    "\n",
    "- 인자 == 매개변수 == 입력 == 파라미터\n",
    "- 반환값 == 리턴값 == 결과값\n",
    "- 함수이름\n",
    "- 함수 정의 -> 호출"
   ]
  },
  {
   "cell_type": "code",
   "execution_count": 1,
   "id": "86a15399-a495-4daf-991b-19e31064196d",
   "metadata": {},
   "outputs": [],
   "source": [
    "def my_func():\n",
    "    print('my first funtion')\n",
    "    print(1 + 3)\n",
    "\n",
    "def my_func(a, b):\n",
    "    print(a, b)"
   ]
  },
  {
   "cell_type": "code",
   "execution_count": null,
   "id": "af8513ba-a5ce-48c9-ad04-f8d63de43fb6",
   "metadata": {},
   "outputs": [],
   "source": []
  },
  {
   "cell_type": "code",
   "execution_count": 2,
   "id": "2339f5b2-b3ca-4369-a949-ac93f4e4b9c7",
   "metadata": {},
   "outputs": [],
   "source": [
    "# 가변 인자\n",
    "\n",
    "def sum_all(*args):\n",
    "    return sum(args)"
   ]
  },
  {
   "cell_type": "code",
   "execution_count": 3,
   "id": "c2239880-2e59-4f94-963b-d5fc19c0c21d",
   "metadata": {},
   "outputs": [],
   "source": [
    "# 인자1, 인자2, 가변 인자 -> 순서\n",
    "\n",
    "def sum_all(arg1, arg2, *args):\n",
    "    print(type(args))\n",
    "    tmp = sum(args) + arg1 + arg2\n",
    "    return tmp"
   ]
  },
  {
   "cell_type": "code",
   "execution_count": 4,
   "id": "3e3cab20-a8f8-4a1c-8fc4-eed6eb840a9d",
   "metadata": {},
   "outputs": [],
   "source": [
    "def print_info(**kwargs):\n",
    "    print(type(kwargs))\n",
    "    for k, v in kwargs.items():\n",
    "        print(k, v)"
   ]
  },
  {
   "cell_type": "code",
   "execution_count": 5,
   "id": "f677fdce-cbdb-4fb7-b5bb-bb124d57398a",
   "metadata": {},
   "outputs": [
    {
     "name": "stdout",
     "output_type": "stream",
     "text": [
      "<class 'dict'>\n",
      "name asd\n",
      "age 12\n",
      "city seoul\n",
      "goto incheon\n"
     ]
    }
   ],
   "source": [
    "print_info(name = \"asd\", age = 12, city = \"seoul\", goto = \"incheon\")"
   ]
  },
  {
   "cell_type": "markdown",
   "id": "c2915de9-c583-4ad0-b7f8-9b655e7406a0",
   "metadata": {},
   "source": [
    "### 요일 구하는 함수\n",
    "- 입력 : year, month, day\n",
    "- 출력 : 요일\n",
    "- 이름 : 요일 찾기\n",
    "\n",
    "연도가 윤년인지 확인하려면 다음 단계를 따릅니다.   \n",
    "\n",
    "1. 연도를 4으로 균등하게 나눌 수 있는 경우 2단계로 이동합니다. 그렇지 않으면 5단계로 이동하세요.\n",
    "2. 연도를 100으로 균등하게 나눌 수 있는 경우 3단계로 이동합니다. 그렇지 않으면 4단계로 이동하세요.\n",
    "3. 연도를 400으로 균등하게 나눌 수 있는 경우 4단계로 이동합니다. 그렇지 않으면 5단계로 이동하세요.\n",
    "4. 해당 연도는 윤년(366일)입니다.\n",
    "5. 해당 연도는 윤년이 아닙니다(365일)."
   ]
  },
  {
   "cell_type": "code",
   "execution_count": 105,
   "id": "e4ea2b43-5c38-4a9a-bdc9-5f910c57238f",
   "metadata": {},
   "outputs": [],
   "source": [
    "def find_week(year, month, day):\n",
    "    import datetime\n",
    "    day = datetime.datetime(year, month, day).weekday()\n",
    "    if day == 0:\n",
    "        return(\"월요일\")\n",
    "    elif day == 1:\n",
    "        return(\"화요일\")\n",
    "    elif day == 2:\n",
    "        return(\"수요일\")\n",
    "    elif day == 3:\n",
    "        return(\"목요일\")\n",
    "    elif day == 4:\n",
    "        return(\"금요일\")\n",
    "    elif day == 5:\n",
    "        return(\"토요일\")\n",
    "    elif day == 6:\n",
    "        return(\"일요일\")"
   ]
  },
  {
   "cell_type": "code",
   "execution_count": 106,
   "id": "de02e5a9-9c9a-4f2a-801d-61888397dc28",
   "metadata": {},
   "outputs": [
    {
     "data": {
      "text/plain": [
       "'토요일'"
      ]
     },
     "execution_count": 106,
     "metadata": {},
     "output_type": "execute_result"
    }
   ],
   "source": [
    "find_week(2025, 5, 31)"
   ]
  },
  {
   "cell_type": "code",
   "execution_count": 107,
   "id": "27c46cb7-853c-4f89-b872-cc2d71bc20eb",
   "metadata": {},
   "outputs": [],
   "source": [
    "def is_yun_year(year):\n",
    "    result = True if year % 400 == 0 else False if year % 100 == 0 else True if year % 4 == 0 else False\n",
    "    return result"
   ]
  },
  {
   "cell_type": "code",
   "execution_count": 108,
   "id": "23a04d8b-9654-44f0-a066-a5a6ff22ed19",
   "metadata": {},
   "outputs": [],
   "source": [
    "def non_use_package_find_week(year, month, day):\n",
    "    total_day = day\n",
    "\n",
    "    for i in range(1, year):\n",
    "        total_day += 366 if is_yun_year(i) else 365\n",
    "\n",
    "    month_days = [0,31,29 if is_yun_year(year) else 28,31,30,31,30,31,31,30,31,30,31]\n",
    "\n",
    "    total_day += sum([month_days[i] for i in range(month)])\n",
    "\n",
    "    remain_day = total_day % 7\n",
    "    \n",
    "    if remain_day == 1:\n",
    "        return(\"월요일\")\n",
    "    elif remain_day == 2:\n",
    "        return(\"화요일\")\n",
    "    elif remain_day == 3:\n",
    "        return(\"수요일\")\n",
    "    elif remain_day == 4:\n",
    "        return(\"목요일\")\n",
    "    elif remain_day == 5:\n",
    "        return(\"금요일\")\n",
    "    elif remain_day == 6:\n",
    "        return(\"토요일\")\n",
    "    else:\n",
    "        return(\"일요일\")"
   ]
  },
  {
   "cell_type": "code",
   "execution_count": 109,
   "id": "2143eda4-2c0e-4acf-b07c-eccb2c32c77d",
   "metadata": {},
   "outputs": [
    {
     "data": {
      "text/plain": [
       "'수요일'"
      ]
     },
     "execution_count": 109,
     "metadata": {},
     "output_type": "execute_result"
    }
   ],
   "source": [
    "non_use_package_find_week(2025, 4, 23)"
   ]
  },
  {
   "cell_type": "code",
   "execution_count": 110,
   "id": "c2a4c03b-52c1-43bf-9588-185884a8e434",
   "metadata": {},
   "outputs": [],
   "source": [
    "for y in range(1, 2026):\n",
    "    for m in range(1, 13):\n",
    "        for d in range(1, 29):\n",
    "            if not non_use_package_find_week(y, m, d) == find_week(y, m, d):\n",
    "                print(\"False\")"
   ]
  },
  {
   "cell_type": "markdown",
   "id": "04e4523f-97a6-4ae9-b97f-f1e561af3eb9",
   "metadata": {},
   "source": [
    "# 성적처리 시스템\n",
    "- calc_total\n",
    "- calc_average\n",
    "- calc_order\n",
    "- print_class\n",
    "- print_student"
   ]
  },
  {
   "cell_type": "code",
   "execution_count": 164,
   "id": "4481e53b-5b09-4104-91a9-4f48900aac72",
   "metadata": {},
   "outputs": [],
   "source": [
    "students = [\n",
    "               {'num':'1','name':'김철수','kor':90,'eng':80,'math':85,'total':0,'avg':0.0,'order':0 },\n",
    "               {'num':'2','name':'박제동','kor':90,'eng':85,'math':90,'total':0,'avg':0.0,'order':0 },\n",
    "               {'num':'3','name':'홍길동','kor':80,'eng':80,'math':80,'total':0,'avg':0.0,'order':0 }\n",
    "           ]"
   ]
  },
  {
   "cell_type": "code",
   "execution_count": 165,
   "id": "7d423237-5fa5-4072-a19d-854b78a4fb69",
   "metadata": {},
   "outputs": [
    {
     "name": "stdout",
     "output_type": "stream",
     "text": [
      "김철수 총합: 255 점\n",
      "박제동 총합: 265 점\n",
      "홍길동 총합: 240 점\n"
     ]
    }
   ],
   "source": [
    "def calc_total_per_man(stu):\n",
    "    for i in stu:\n",
    "        i['total'] = i['kor'] + i['eng'] + i['math']\n",
    "        print(i['name'], \"총합:\", i['total'], \"점\")\n",
    "\n",
    "calc_total_per_man(students)"
   ]
  },
  {
   "cell_type": "code",
   "execution_count": 166,
   "id": "cf0a4e2c-cf30-4407-bdca-90809cc7436b",
   "metadata": {},
   "outputs": [
    {
     "name": "stdout",
     "output_type": "stream",
     "text": [
      "760\n"
     ]
    }
   ],
   "source": [
    "def calc_total(stu):\n",
    "    tmp = sum(i['total'] for i in stu)\n",
    "    print(tmp)\n",
    "\n",
    "calc_total(students)"
   ]
  },
  {
   "cell_type": "code",
   "execution_count": 158,
   "id": "ad817625-aa18-4de2-8241-023e152f55af",
   "metadata": {},
   "outputs": [],
   "source": [
    "def calc_avg(stu):\n",
    "    for i in stu:\n",
    "        i['avg'] = i['total']//3\n",
    "calc_avg(students)"
   ]
  },
  {
   "cell_type": "code",
   "execution_count": 159,
   "id": "aa9a446d-78ae-4e42-899f-d0b980468e4a",
   "metadata": {},
   "outputs": [
    {
     "name": "stdout",
     "output_type": "stream",
     "text": [
      "kor's average = 86\n",
      "eng's average = 81\n",
      "math's average = 85\n"
     ]
    }
   ],
   "source": [
    "def calc_avg_per_subj(stu, subjects):\n",
    "    tmp = 0\n",
    "    for i in stu:\n",
    "        tmp += i[subjects]\n",
    "    print(f\"{subjects}'s average = {tmp//3}\")\n",
    "\n",
    "calc_avg_per_subj(students, \"kor\")\n",
    "calc_avg_per_subj(students, \"eng\")\n",
    "calc_avg_per_subj(students, \"math\")"
   ]
  },
  {
   "cell_type": "code",
   "execution_count": 160,
   "id": "1678beba-7c46-4144-8819-3f77a086c4c7",
   "metadata": {},
   "outputs": [
    {
     "name": "stdout",
     "output_type": "stream",
     "text": [
      "253\n"
     ]
    }
   ],
   "source": [
    "def calc_avg_total(stu):\n",
    "    tmp = sum(i['total'] for i in stu)\n",
    "\n",
    "    print(tmp//3)\n",
    "\n",
    "calc_avg_total(students)"
   ]
  },
  {
   "cell_type": "code",
   "execution_count": 161,
   "id": "1eacf7be-3b32-4deb-badf-284dcd378749",
   "metadata": {},
   "outputs": [
    {
     "name": "stdout",
     "output_type": "stream",
     "text": [
      "math\n",
      " 1등: 박제동, 2등: 김철수, 3등: 홍길동\n"
     ]
    }
   ],
   "source": [
    "def calc_order_per_subj(stu, subjects):\n",
    "    tmp = []\n",
    "    for i in stu:\n",
    "        tmp.append((i['name'], i[subjects]))\n",
    "    tmp = iter(sorted(tmp, key = lambda x: -x[1]))\n",
    "    print(f\"{subjects}\\n 1등: {tmp.__next__()[0]}, 2등: {tmp.__next__()[0]}, 3등: {tmp.__next__()[0]}\")\n",
    "\n",
    "calc_order_per_subj(students, \"math\")"
   ]
  },
  {
   "cell_type": "markdown",
   "id": "b019582e-980e-4710-b457-644e4523bb6c",
   "metadata": {},
   "source": [
    "# CURD\n",
    "1. 간식박스 생성 create\n",
    "2. 포장 update\n",
    "3. 미리보기 상위 3개 read\n",
    "4. 삭제 delete\n",
    "5. 간식 찾기 search\n",
    "6. 전체보기 read "
   ]
  },
  {
   "cell_type": "code",
   "execution_count": 31,
   "id": "cd7f8199-03bd-458c-b214-192a82cf0b17",
   "metadata": {},
   "outputs": [],
   "source": [
    "def get_valid_text_input(msg):\n",
    "    user_input = input('😆'+ msg).strip()\n",
    "    if not user_input :\n",
    "        print('😆 입력값을 확인하세요')\n",
    "        return None\n",
    "    return user_input\n",
    "\n",
    "#숫자검증\n",
    "def get_valid_number_input(msg, min_no=1, max_no=5):\n",
    "    #숫자체크\n",
    "    try : \n",
    "        number = int(input(msg))\n",
    "        if number < min_no :\n",
    "            print(f'{min_no}이상 숫자를 입력하세요')\n",
    "            return None\n",
    "        elif number > max_no:\n",
    "            print(f'{max_no}이하 숫자를 입력하세요')\n",
    "            return None\n",
    "        else:\n",
    "            return number\n",
    "    except ValueError:\n",
    "        print('숫자로 입력하세요.')\n",
    "        return None"
   ]
  },
  {
   "cell_type": "code",
   "execution_count": 37,
   "id": "d0ec4322-f0e2-4677-ba90-0f355652c63a",
   "metadata": {},
   "outputs": [],
   "source": [
    "def create_snack_box():\n",
    "    snack_box = ['초코파이']\n",
    "    new_snack = get_valid_text_input('추가하고 싶은 간식을 입력하세요').split(',')\n",
    "    snack_box += [i for i in new_snack]\n",
    "\n",
    "    return snack_box"
   ]
  },
  {
   "cell_type": "code",
   "execution_count": 33,
   "id": "dfa73edc-ebf8-4261-b9ad-9cb388a2d580",
   "metadata": {},
   "outputs": [],
   "source": [
    "def multiply_snack_box(snack_box):\n",
    "    qty = int(input('몇 박스를 포장 할까요? :'))\n",
    "    qty = get_valid_number_input('몇 박스를 포장할까요?', 1)\n",
    "    return snack_box * qty"
   ]
  },
  {
   "cell_type": "code",
   "execution_count": 45,
   "id": "6481536d-d109-4d12-88ac-d394d3d5284c",
   "metadata": {},
   "outputs": [],
   "source": [
    "def display_snack_box(snack_box):\n",
    "    print(f\"{snack_box} 총 {len(snack_box)}개 입니다.\")"
   ]
  },
  {
   "cell_type": "code",
   "execution_count": 46,
   "id": "442e9bd8-3271-4923-be70-47c3e23e44ed",
   "metadata": {},
   "outputs": [],
   "source": [
    "def preview_snack_box(snack_box):\n",
    "    print(snack_box[:3])"
   ]
  },
  {
   "cell_type": "code",
   "execution_count": 47,
   "id": "99138fc3-0ff8-4c5f-88a7-77f90c50e6dc",
   "metadata": {},
   "outputs": [],
   "source": [
    "def remove_snack_box(snack_box):\n",
    "        #예외처리\n",
    "    if not snack_box:\n",
    "        print('간식박스가 비어 있어요')\n",
    "        return\n",
    "\n",
    "    display_snack_box()\n",
    "\n",
    "    msg = f'혹시 빼고싶은 간식이 있으면 번호를 입력하세요 (0~{len(snack_box)-1})'\n",
    "    snack_no = get_valid_number_input(msg, 1, len(snack_box))\n",
    "\n",
    "    #snack_no validation\n",
    "\n",
    "    del snack_box[snack_no]\n",
    "    return snack_box"
   ]
  },
  {
   "cell_type": "code",
   "execution_count": 48,
   "id": "9e2b65bf-8a76-4cfd-9eb7-d0bd65c9e006",
   "metadata": {},
   "outputs": [],
   "source": [
    "def search_snack(snack_box):\n",
    "    target = get_valid_text_input('찾고싶은 간식을 입력하세요')\n",
    "\n",
    "    if target in snack_box:\n",
    "        print(f'{target} -> 간식 박스 내에 존재합니다')"
   ]
  },
  {
   "cell_type": "code",
   "execution_count": 49,
   "id": "8b4dc2b8-d077-4d5c-8e06-445f588d9653",
   "metadata": {},
   "outputs": [],
   "source": [
    "def summarize_snacks(snack_box):\n",
    "    summary = {}\n",
    "    for snack in snack_box:\n",
    "        summary[snack] = summary.get(snack,0)+1\n",
    "\n",
    "    print('간식박스 정리')\n",
    "    for snack, qty in summary.items():\n",
    "        print(f'- {snack} : {qty}개')\n",
    "#서비스의 흐름 - 선택과 반복\n",
    "def run_menu_program():\n",
    "    snack_box = []\n",
    "    while True:\n",
    "        print(\"===========================================================\")\n",
    "        print('간식박스 관리 프로그램 메뉴')\n",
    "        print('1. 간식박스 생성')\n",
    "        print('2. 세트 생성')\n",
    "        print('3. 세트 미리보기')\n",
    "        print('4. 간식 삭제')\n",
    "        print('5. 간식 검색')\n",
    "        print('6. 간식박스 요약')\n",
    "        print('7. 최종 간식박스 확인')\n",
    "\n",
    "        choice = input('원하는 메뉴 번호를 입력하세요 : ')\n",
    "\n",
    "        if choice == '1':\n",
    "            snack_box = create_snack_box()\n",
    "        elif choice == '2':\n",
    "            snack_box = multiply_snack_box(snack_box)\n",
    "        elif choice == '3':\n",
    "            preview_snack_box(snack_box)\n",
    "        elif choice == '4':\n",
    "            remove_snack_box(snack_box)\n",
    "        elif choice == '5':\n",
    "            search_snack(snack_box)\n",
    "        elif choice == '6': \n",
    "            summarize_snacks(snack_box)\n",
    "        elif choice == '7':\n",
    "            display_snack_box(snack_box)"
   ]
  },
  {
   "cell_type": "code",
   "execution_count": null,
   "id": "32891355-d52a-42eb-9929-c17898bb4aa5",
   "metadata": {},
   "outputs": [],
   "source": []
  },
  {
   "cell_type": "markdown",
   "id": "6feab7c1-8def-4299-abea-8f980d927a58",
   "metadata": {},
   "source": [
    "# lambda"
   ]
  },
  {
   "cell_type": "markdown",
   "id": "4f586fca-7aa9-49bd-8e26-ce320a945234",
   "metadata": {},
   "source": [
    "선언 >> lambda <매개변수>: 코드   \n",
    "호출 >> lambda <매개변수>:"
   ]
  },
  {
   "cell_type": "code",
   "execution_count": null,
   "id": "8bc03465-687e-40dc-bca3-3a96f8b20755",
   "metadata": {},
   "outputs": [],
   "source": [
    "def aaa(a):\n",
    "    return a + 1    "
   ]
  },
  {
   "cell_type": "code",
   "execution_count": 51,
   "id": "75a5c897-6c3f-4a7f-b8ab-a32da2f75ec3",
   "metadata": {},
   "outputs": [
    {
     "data": {
      "text/plain": [
       "<function __main__.<lambda>(a)>"
      ]
     },
     "execution_count": 51,
     "metadata": {},
     "output_type": "execute_result"
    }
   ],
   "source": [
    "lambda a: a+1"
   ]
  },
  {
   "cell_type": "code",
   "execution_count": 52,
   "id": "ef055554-bd38-4fb3-b537-b687a53ccd3d",
   "metadata": {},
   "outputs": [
    {
     "data": {
      "text/plain": [
       "3"
      ]
     },
     "execution_count": 52,
     "metadata": {},
     "output_type": "execute_result"
    }
   ],
   "source": [
    "(lambda a: a+1)(2)"
   ]
  },
  {
   "cell_type": "code",
   "execution_count": 53,
   "id": "b75e80fc-71d0-49ec-8729-c26232629d57",
   "metadata": {},
   "outputs": [],
   "source": [
    "def sum1(a, b):\n",
    "    return a + b"
   ]
  },
  {
   "cell_type": "code",
   "execution_count": 60,
   "id": "33fdef28-3c5a-4006-9a81-ac04ade5f21e",
   "metadata": {},
   "outputs": [
    {
     "data": {
      "text/plain": [
       "113"
      ]
     },
     "execution_count": 60,
     "metadata": {},
     "output_type": "execute_result"
    }
   ],
   "source": [
    "(lambda a,b: a+b)(2, 111)"
   ]
  },
  {
   "cell_type": "code",
   "execution_count": 65,
   "id": "ed5e0230-1579-4f35-8579-aba568bb403b",
   "metadata": {},
   "outputs": [],
   "source": [
    "def calc_func(a, b, opr_func):\n",
    "    return opr_func(a, b)"
   ]
  },
  {
   "cell_type": "code",
   "execution_count": 67,
   "id": "d0463b09-234b-4ba9-ac2d-ba38730b87f7",
   "metadata": {},
   "outputs": [
    {
     "data": {
      "text/plain": [
       "-1"
      ]
     },
     "execution_count": 67,
     "metadata": {},
     "output_type": "execute_result"
    }
   ],
   "source": [
    "calc_func(1, 2, lambda x,y: x - y)"
   ]
  },
  {
   "cell_type": "code",
   "execution_count": 68,
   "id": "e9a6dc85-c27a-4cb4-98af-cef32e7f3cc2",
   "metadata": {},
   "outputs": [
    {
     "name": "stdout",
     "output_type": "stream",
     "text": [
      "[1, 4, 9, 16, 25]\n",
      "1\n",
      "4\n",
      "9\n",
      "16\n",
      "25\n"
     ]
    }
   ],
   "source": [
    "# map() 기본 사용 예시\n",
    "numbers = [1, 2, 3, 4, 5]\n",
    "squared = map(lambda x: x**2, numbers)\n",
    "print(list(squared))  # [1, 4, 9, 16, 25]\n",
    "\n",
    "# for 문에서의 활용\n",
    "for squared_num in map(lambda x: x**2, numbers):\n",
    "    print(squared_num)"
   ]
  },
  {
   "cell_type": "code",
   "execution_count": 71,
   "id": "7c74d85c-bbed-4770-bca2-9271eef6fece",
   "metadata": {},
   "outputs": [
    {
     "data": {
      "text/plain": [
       "['APPLE', 'BANANA', 'CHERRY']"
      ]
     },
     "execution_count": 71,
     "metadata": {},
     "output_type": "execute_result"
    }
   ],
   "source": [
    "fruits = ['apple', 'banana', 'cherry']\n",
    "list(map(str.upper, fruits))"
   ]
  },
  {
   "cell_type": "code",
   "execution_count": 84,
   "id": "46675fba-8415-454d-a6b4-650924997a71",
   "metadata": {},
   "outputs": [
    {
     "data": {
      "text/plain": [
       "[7, 8, 9]"
      ]
     },
     "execution_count": 84,
     "metadata": {},
     "output_type": "execute_result"
    }
   ],
   "source": [
    "kor_score = [1, 2, 3]\n",
    "eng_score = [14, 15, 16]\n",
    "math_score = [7, 8, 9]\n",
    "\n",
    "list(map(lambda x,y,z: (x+y+z)//3, kor_score, eng_score, math_score))"
   ]
  },
  {
   "cell_type": "code",
   "execution_count": 85,
   "id": "97baca80-f0b0-4c1c-a941-0d237064d9f3",
   "metadata": {},
   "outputs": [
    {
     "data": {
      "text/plain": [
       "[22, 25, 28]"
      ]
     },
     "execution_count": 85,
     "metadata": {},
     "output_type": "execute_result"
    }
   ],
   "source": [
    "list(map(lambda x: sum(x), zip(kor_score, eng_score, math_score)))"
   ]
  },
  {
   "cell_type": "code",
   "execution_count": 86,
   "id": "f1d7b7fa-ff71-4b40-b8a3-0604ec11dc0a",
   "metadata": {},
   "outputs": [
    {
     "data": {
      "text/plain": [
       "[7, 8, 9]"
      ]
     },
     "execution_count": 86,
     "metadata": {},
     "output_type": "execute_result"
    }
   ],
   "source": [
    "list(map(lambda x,y,z: (x+y+z)//3, kor_score, eng_score, math_score))"
   ]
  },
  {
   "cell_type": "code",
   "execution_count": 134,
   "id": "7752e809-f45c-4e0c-869e-2238e5ed0e86",
   "metadata": {},
   "outputs": [],
   "source": [
    "import time\n",
    "points = {}\n",
    "# # 메뉴 저장 리스트 -> 메뉴 추가 시 여기서.\n",
    "menu = [\n",
    "    {'name':'샤프', 'price': 6000},\n",
    "    {'name':'볼펜', 'price': 3000},\n",
    "    {'name':'지우개', 'price': 1000},\n",
    "    {'name':'화이트', 'price': 3000},\n",
    "    {'name':'공책', 'price': 3500}\n",
    "]\n",
    "\n",
    "def prt_menu(menu):\n",
    "    print('╔' + '═' * 40 + '╗')\n",
    "    print(f'빵꾸똥꾸 문구야'.center(34))\n",
    "    print(f\"에 오신 것을 환영합니다!💥\".center(34))\n",
    "    print('╚' + '═' * 40 + '╝') \n",
    "    print(f'{\"번호\"}\\t\\t{\"제품명\"}\\t\\t{\"가격\"}')\n",
    "    print('-'*44)\n",
    "\n",
    "    for i, m in enumerate(menu):\n",
    "        print(f'{i+1}\\t\\t{m[\"name\"]}\\t\\t{m[\"price\"]:,}원')\n",
    "    print('-'*44)\n",
    "\n",
    "def prt_alarm():\n",
    "    print('='*44)\n",
    "    print(f'{\"[알림]❌ 잘못된 입력입니다.\":^35}')\n",
    "    print(f'{\"[알림]✅ 다시 입력해주세요.\":^35}')\n",
    "    print('='*44)\n",
    "\n",
    "\n",
    "def prt_time():\n",
    "    for i in range(3, 0, -1):\n",
    "        print('=' * 44)\n",
    "        print(f'{i}초 뒤에 시작화면으로 돌아갑니다.'.center(34))\n",
    "        time.sleep(1)\n",
    "\n",
    "def add_cart():\n",
    "    while True:\n",
    "        order_num = input('주문하실 제품 번호를 선택하세요(주문 취소: X): ')\n",
    "\n",
    "        if order_num in [\"x\", \"X\"]:\n",
    "            return False\n",
    "        elif order_num in [str(i) for i in range(10)] and 0 < int(order_num) <= len(menu):\n",
    "            return int(order_num)\n",
    "        else:\n",
    "            prt_alarm()\n",
    "\n",
    "def add_qty():\n",
    "    while True:\n",
    "        qty = input('\\t수량을 입력하세요(취소: x): ')\n",
    "        if qty in [\"x\", \"X\"]:\n",
    "            return False\n",
    "        elif qty == \"0\" or qty not in [str(i) for i in range(10)]:\n",
    "            prt_alarm()\n",
    "        else:\n",
    "            return int(qty)\n",
    "\n",
    "def add_lst(order_list, ord_num, qty):\n",
    "    item = menu[ord_num]\n",
    "    for i in order_list:\n",
    "        if i['name'] == item['name']:\n",
    "            i['qty'] += qty\n",
    "            return order_list \n",
    "    order_list.append({\n",
    "        'name': item['name'],\n",
    "        'qty': qty,\n",
    "        'price': item['price']\n",
    "    })\n",
    "    return order_list\n",
    "\n",
    "def yesno():\n",
    "    while True:\n",
    "        a=input('더 주문하시겠습니까?(y/n):')\n",
    "        if a in ['y','n','Y','N']:\n",
    "            return a.lower()\n",
    "        else:\n",
    "            prt_alarm()\n",
    "            continue\n",
    "\n",
    "def calc_cost():\n",
    "    total = 0   \n",
    "    print('='*44)\n",
    "    print(f'\\t\\t{\"주문 내역\"}')\n",
    "    print('-'*44)\n",
    "\n",
    "    for order in order_list:\n",
    "        item_total = order['qty'] * order['price']\n",
    "        total += item_total\n",
    "\n",
    "        print(f'{order[\"name\"]}\\t{order[\"qty\"]}개\\t-\\t{item_total:,}원')\n",
    "\n",
    "    print('-'*44)\n",
    "    print(f'총 결제 금액: {total:,}원')\n",
    "    print('='*44)\n",
    "    return total\n",
    "\n",
    "def prt_points():\n",
    "    while True:\n",
    "        ab = input('포인트를 적립하시겠습니까? (y/n): ')\n",
    "        if ab.lower() not in ['y', 'n']:\n",
    "            prt_alarm()\n",
    "            continue\n",
    "        elif ab.lower()=='n':\n",
    "            return        \n",
    "        else:\n",
    "            while True:\n",
    "                phone = input('전화번호를 입력해 주세요: ')\n",
    "                if not phone.isdigit() or len(phone) < 11 or phone == \"x\":\n",
    "                    prt_alarm()\n",
    "                    continue                       \n",
    "                user_id = f'user_{phone[-4:]}'\n",
    "                point = int(total * 0.05)                 \n",
    "                if user_id in points :\n",
    "                    points[user_id] += point\n",
    "                else :\n",
    "                    points[user_id] = point\n",
    "                print('='*44)\n",
    "                print(f'🎁{user_id}고객님, {point}점 적립 되었습니다!🎁')\n",
    "                print(f' 고객님의 총 적립포인트는 {points[user_id]:,}점 입니다!')\n",
    "                print('='*44)\n",
    "                return"
   ]
  },
  {
   "cell_type": "code",
   "execution_count": null,
   "id": "039ef8b4-764b-4b71-b55e-6d2ce2609acf",
   "metadata": {},
   "outputs": [
    {
     "name": "stdout",
     "output_type": "stream",
     "text": [
      "\n",
      "        .================ooooooo\n",
      " ___   ,'    \\_________________________________\n",
      "/   /-/       /                   ////////////  ''--..._\n",
      "\\___\\-\\       \\                   \\\\\\\\\\\\\\\\\\\\\\\\  __..--'\n",
      "       `--------------------------''''''''''''''\n",
      "\n",
      "╔════════════════════════════════════════╗\n",
      "             빵꾸똥꾸 문구야             \n",
      "         에 오신 것을 환영합니다!💥          \n",
      "╚════════════════════════════════════════╝\n",
      "번호\t\t제품명\t\t가격\n",
      "--------------------------------------------\n",
      "1\t\t샤프\t\t6,000원\n",
      "2\t\t볼펜\t\t3,000원\n",
      "3\t\t지우개\t\t1,000원\n",
      "4\t\t화이트\t\t3,000원\n",
      "5\t\t공책\t\t3,500원\n",
      "--------------------------------------------\n"
     ]
    },
    {
     "name": "stdin",
     "output_type": "stream",
     "text": [
      "주문하실 제품 번호를 선택하세요(주문 취소: X):  x\n"
     ]
    },
    {
     "name": "stdout",
     "output_type": "stream",
     "text": [
      "╔════════════════════════════════════════╗\n",
      "             빵꾸똥꾸 문구야             \n",
      "         에 오신 것을 환영합니다!💥          \n",
      "╚════════════════════════════════════════╝\n",
      "번호\t\t제품명\t\t가격\n",
      "--------------------------------------------\n",
      "1\t\t샤프\t\t6,000원\n",
      "2\t\t볼펜\t\t3,000원\n",
      "3\t\t지우개\t\t1,000원\n",
      "4\t\t화이트\t\t3,000원\n",
      "5\t\t공책\t\t3,500원\n",
      "--------------------------------------------\n"
     ]
    },
    {
     "name": "stdin",
     "output_type": "stream",
     "text": [
      "주문하실 제품 번호를 선택하세요(주문 취소: X):  1\n"
     ]
    },
    {
     "name": "stdout",
     "output_type": "stream",
     "text": [
      "============================================\n",
      "          고객님이 선택하신 제품은          \n",
      "             볼펜 입니다.             \n",
      "           몇 개를 드릴까요?            \n"
     ]
    },
    {
     "name": "stdin",
     "output_type": "stream",
     "text": [
      "\t수량을 입력하세요(취소: x):  x\n"
     ]
    },
    {
     "name": "stdout",
     "output_type": "stream",
     "text": [
      "╔════════════════════════════════════════╗\n",
      "             빵꾸똥꾸 문구야             \n",
      "         에 오신 것을 환영합니다!💥          \n",
      "╚════════════════════════════════════════╝\n",
      "번호\t\t제품명\t\t가격\n",
      "--------------------------------------------\n",
      "1\t\t샤프\t\t6,000원\n",
      "2\t\t볼펜\t\t3,000원\n",
      "3\t\t지우개\t\t1,000원\n",
      "4\t\t화이트\t\t3,000원\n",
      "5\t\t공책\t\t3,500원\n",
      "--------------------------------------------\n"
     ]
    }
   ],
   "source": [
    "def draw_pencil_ascii():\n",
    "    pencil_art = r\"\"\"\n",
    "        .================ooooooo\n",
    " ___   ,'    \\_________________________________\n",
    "/   /-/       /                   ////////////  ''--..._\n",
    "\\___\\-\\       \\                   \\\\\\\\\\\\\\\\\\\\\\\\  __..--'\n",
    "       `--------------------------''''''''''''''\n",
    "\"\"\"\n",
    "    print(pencil_art)\n",
    "\n",
    "draw_pencil_ascii()\n",
    "while True:\n",
    "    prt_menu(menu)\n",
    "    # 다중 주문 저장 리스트\n",
    "    order_list = []\n",
    "\n",
    "    while True: \n",
    "        ord_num = add_cart()\n",
    "        if ord_num == False:\n",
    "            break\n",
    "        \n",
    "        menut = menu[ord_num]['name']\n",
    "        \n",
    "        print('='*44)\n",
    "        print(f'{\"고객님이 선택하신 제품은\":^33}')\n",
    "        print(f'{menut + \" 입니다.\":^33}')\n",
    "        print(f'{\"몇 개를 드릴까요?\":^33}')\n",
    "        \n",
    "        \n",
    "        qty = add_qty()\n",
    "        if qty == False:\n",
    "            break\n",
    "             \n",
    "        add_lst(order_list, ord_num, qty)\n",
    "        \n",
    "        if yesno() == 'n':\n",
    "            break\n",
    "        print('-'*44)\n",
    "    if qty != False and ord_num != False:\n",
    "        total = calc_cost()\n",
    "        \n",
    "        prt_points()\n",
    "        \n",
    "        print(f'{\"결제가 완료되었습니다.\":^37}')\n",
    "        print(f'{\"잠시만 기다려주세요. 😊\":^37}')\n",
    "    \n",
    "        prt_time()"
   ]
  },
  {
   "cell_type": "code",
   "execution_count": 52,
   "id": "0ac61b80-4d3c-4342-a765-45023033be9b",
   "metadata": {},
   "outputs": [
    {
     "name": "stdout",
     "output_type": "stream",
     "text": [
      "0.008970260620117188\n",
      "0.006125211715698242\n"
     ]
    }
   ],
   "source": [
    "import time\n",
    "num = [i for i in range(100000)]\n",
    "\n",
    "\n",
    "s = time.time()\n",
    "c = list(filter(lambda x: x%2==0, num))\n",
    "# print(c)\n",
    "print(time.time() - s)\n",
    "\n",
    "s = time.time()\n",
    "b = [i for i in num if i % 2 == 0]\n",
    "# print(b)\n",
    "print(time.time() - s)"
   ]
  },
  {
   "cell_type": "code",
   "execution_count": 53,
   "id": "f3540e81-4d89-4236-8d2f-1e12e22f0445",
   "metadata": {},
   "outputs": [],
   "source": [
    "students = [(\"alice\", 20, 85), (\"bob\", 22, 90), (\"charlie\", 21, 78)]"
   ]
  },
  {
   "cell_type": "code",
   "execution_count": 56,
   "id": "d3421e1a-b20e-4d67-a406-755a565d6da7",
   "metadata": {},
   "outputs": [
    {
     "name": "stdout",
     "output_type": "stream",
     "text": [
      "[('alice', 20, 85), ('charlie', 21, 78), ('bob', 22, 90)]\n",
      "[('bob', 22, 90), ('alice', 20, 85), ('charlie', 21, 78)]\n"
     ]
    }
   ],
   "source": [
    "print(sorted(students, key=lambda x: (x[1])))\n",
    "print(sorted(students, key=lambda x: (-x[2])))"
   ]
  },
  {
   "cell_type": "code",
   "execution_count": 57,
   "id": "55e5a60f-d3c3-412b-ae0a-975b7050555a",
   "metadata": {},
   "outputs": [],
   "source": [
    "def func(lst):\n",
    "    result = []\n",
    "    for i in lst:\n",
    "        result.append(str(i))\n",
    "    return result"
   ]
  },
  {
   "cell_type": "code",
   "execution_count": 59,
   "id": "f0dd57bc-0138-496c-9c36-25d481a6f750",
   "metadata": {},
   "outputs": [],
   "source": [
    "to_string_list = lambda x : list(map(str, x))"
   ]
  },
  {
   "cell_type": "code",
   "execution_count": 61,
   "id": "27e91867-1dbc-49ab-9962-e465aa634bd8",
   "metadata": {},
   "outputs": [
    {
     "name": "stdout",
     "output_type": "stream",
     "text": [
      "['1', '2', '3', '4', '5']\n"
     ]
    }
   ],
   "source": [
    "print(to_string_list([1, 2,3,4,5]))"
   ]
  },
  {
   "cell_type": "code",
   "execution_count": 62,
   "id": "d22bd6a7-51da-4d74-b9c1-8e7541d644f4",
   "metadata": {},
   "outputs": [],
   "source": [
    "def concat_strings(s1, s2):\n",
    "    return s1+s2"
   ]
  },
  {
   "cell_type": "code",
   "execution_count": 64,
   "id": "1290d390-31f9-498f-9ac3-b9a992cbd458",
   "metadata": {},
   "outputs": [],
   "source": [
    "concat_strings = lambda x, y: x + y"
   ]
  },
  {
   "cell_type": "code",
   "execution_count": 66,
   "id": "f1bbed02-59f4-4a4f-a0dc-86a801295951",
   "metadata": {},
   "outputs": [
    {
     "name": "stdout",
     "output_type": "stream",
     "text": [
      "ads13123\n"
     ]
    }
   ],
   "source": [
    "print(concat_strings(\"ads\", \"13123\"))"
   ]
  },
  {
   "cell_type": "code",
   "execution_count": 85,
   "id": "f46a96c8-b4ee-45cb-a215-675b1d4d4665",
   "metadata": {},
   "outputs": [],
   "source": [
    "def remove_vowels(s):\n",
    "    result = ''\n",
    "    for ch in s:\n",
    "        if ch not in 'aeiou':\n",
    "            result+=ch\n",
    "    return result"
   ]
  },
  {
   "cell_type": "code",
   "execution_count": 105,
   "id": "6731976d-e404-413b-9706-8ef3bb474ac7",
   "metadata": {},
   "outputs": [],
   "source": [
    "remove_vowels2 = lambda s:  ''.join([ ch for ch in s if ch not in 'aeiou'])"
   ]
  },
  {
   "cell_type": "code",
   "execution_count": 106,
   "id": "2da39118-96a9-437e-8a18-c90582166f21",
   "metadata": {},
   "outputs": [
    {
     "name": "stdout",
     "output_type": "stream",
     "text": [
      "qwrtypsdfghjklzxcvbnm\n"
     ]
    }
   ],
   "source": [
    "print(remove_vowels2(\"qwertyuiopasdfghjklzxcvbnm\"))"
   ]
  },
  {
   "cell_type": "code",
   "execution_count": 107,
   "id": "a09a599b-6e39-476c-84b5-9eafb3e15b4d",
   "metadata": {},
   "outputs": [],
   "source": [
    "def find_longest_word(s):\n",
    "    words = s.split()\n",
    "    longest = words[0]\n",
    "    max_len = len(longest)\n",
    "\n",
    "    for w in words[1:] :\n",
    "        if len(w) > max_len:\n",
    "            longest = w\n",
    "            max_len = len(w)\n",
    "\n",
    "    return longest, max_len"
   ]
  },
  {
   "cell_type": "code",
   "execution_count": 109,
   "id": "1e45c0e8-813b-4d57-acb0-15aa050d86db",
   "metadata": {},
   "outputs": [],
   "source": [
    "def find_longest_word2(s):\n",
    "    words = s.split()\n",
    "    longest = max(words, key=len)\n",
    "    return longest, len(longest)"
   ]
  },
  {
   "cell_type": "code",
   "execution_count": 118,
   "id": "51d437fc-f65a-45f2-a400-8e0b11c2ce6c",
   "metadata": {},
   "outputs": [],
   "source": [
    "find_longest_word3 = lambda s : max([(w, len(w)) for w in s.split()], key=lambda x: x[1])"
   ]
  },
  {
   "cell_type": "code",
   "execution_count": 122,
   "id": "8813d604-70fe-418a-a619-7c14f5e4445c",
   "metadata": {},
   "outputs": [
    {
     "name": "stdout",
     "output_type": "stream",
     "text": [
      "('tomorrow.', 9)\n",
      "('tomorrow.', 9)\n",
      "('tomorrow.', 9)\n"
     ]
    }
   ],
   "source": [
    "print(find_longest_word(\"Live as if you were to die tomorrow.\"))\n",
    "print(find_longest_word2(\"Live as if you were to die tomorrow.\"))\n",
    "print(find_longest_word3(\"Live as if you were to die tomorrow.\"))"
   ]
  },
  {
   "cell_type": "code",
   "execution_count": 139,
   "id": "8cbd324b-d5c1-4214-8afa-864ce1399151",
   "metadata": {},
   "outputs": [],
   "source": [
    "def split_nums_letters(s):\n",
    "    nums = [int(ch) for ch in s if ch.isdigit()]\n",
    "    letters = [ch for ch in s if ch.isalpha()]\n",
    "    \n",
    "\n",
    "    return nums, letters"
   ]
  },
  {
   "cell_type": "code",
   "execution_count": 141,
   "id": "e2fdaf23-fee1-4cee-8b01-5fec286da3d4",
   "metadata": {},
   "outputs": [],
   "source": [
    "split_nums_letters2 = lambda s: ([int(ch) for ch in s if ch.isdigit()], [ch for ch in s if ch.isalpha()])"
   ]
  },
  {
   "cell_type": "code",
   "execution_count": 143,
   "id": "81f4140f-2e46-48d0-ac2c-de90c710a0e3",
   "metadata": {},
   "outputs": [
    {
     "name": "stdout",
     "output_type": "stream",
     "text": [
      "([1, 2, 3, 4], ['a', 'b', 'c', 'd'])\n",
      "([1, 2, 3, 4], ['a', 'b', 'c', 'd'])\n"
     ]
    }
   ],
   "source": [
    "print(split_nums_letters(\"a1b2c3d4\"))\n",
    "print(split_nums_letters2(\"a1b2c3d4\"))"
   ]
  },
  {
   "cell_type": "code",
   "execution_count": 158,
   "id": "0d7761d5-310a-44e9-8b24-006c955fe4c9",
   "metadata": {},
   "outputs": [],
   "source": [
    "def count_alphabet(s):\n",
    "    cnt = {}\n",
    "    for i in s:\n",
    "        if i in cnt:\n",
    "            cnt[i] += 1\n",
    "        else:\n",
    "            cnt[i] = 1\n",
    "    return cnt"
   ]
  },
  {
   "cell_type": "code",
   "execution_count": 159,
   "id": "118b6723-843b-4416-a6d2-80cca26cd173",
   "metadata": {},
   "outputs": [],
   "source": [
    "def count_alphabet1(s):\n",
    "    return {ch : s.count(ch) for ch in s}"
   ]
  },
  {
   "cell_type": "code",
   "execution_count": 160,
   "id": "fe82521e-0f59-490f-8f72-c21d99deb382",
   "metadata": {},
   "outputs": [],
   "source": [
    "count_alphabet2 = lambda x: {ch : x.count(ch) for ch in x}"
   ]
  },
  {
   "cell_type": "code",
   "execution_count": 161,
   "id": "3b45706f-f849-430f-900c-80660c74765f",
   "metadata": {},
   "outputs": [
    {
     "name": "stdout",
     "output_type": "stream",
     "text": [
      "{'h': 1, 'e': 1, 'l': 2, 'o': 1}\n",
      "{'h': 1, 'e': 1, 'l': 2, 'o': 1}\n",
      "{'h': 1, 'e': 1, 'l': 2, 'o': 1}\n"
     ]
    }
   ],
   "source": [
    "print(count_alphabet(\"hello\"))\n",
    "print(count_alphabet1(\"hello\"))\n",
    "print(count_alphabet2(\"hello\"))"
   ]
  },
  {
   "cell_type": "code",
   "execution_count": null,
   "id": "25505345-07b3-4d44-b79e-49b96d5fa241",
   "metadata": {},
   "outputs": [],
   "source": []
  }
 ],
 "metadata": {
  "kernelspec": {
   "display_name": "Python 3 (ipykernel)",
   "language": "python",
   "name": "python3"
  },
  "language_info": {
   "codemirror_mode": {
    "name": "ipython",
    "version": 3
   },
   "file_extension": ".py",
   "mimetype": "text/x-python",
   "name": "python",
   "nbconvert_exporter": "python",
   "pygments_lexer": "ipython3",
   "version": "3.12.9"
  }
 },
 "nbformat": 4,
 "nbformat_minor": 5
}
