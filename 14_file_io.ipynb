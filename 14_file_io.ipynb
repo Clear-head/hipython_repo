{
 "cells": [
  {
   "cell_type": "markdown",
   "id": "fd37429a",
   "metadata": {},
   "source": [
    "# File io"
   ]
  },
  {
   "cell_type": "code",
   "execution_count": 7,
   "id": "8a373153",
   "metadata": {},
   "outputs": [],
   "source": [
    "path = './data/abc.txt'"
   ]
  },
  {
   "cell_type": "code",
   "execution_count": 63,
   "id": "8991cf92",
   "metadata": {},
   "outputs": [],
   "source": [
    "with open(path, 'w', encoding='utf-8') as f:\n",
    "    f.write(\"hello 안\\n\")\n",
    "    f.write(\"hello\")"
   ]
  },
  {
   "cell_type": "code",
   "execution_count": 64,
   "id": "a06a5926",
   "metadata": {},
   "outputs": [
    {
     "name": "stdout",
     "output_type": "stream",
     "text": [
      "hello 안\n",
      "hello\n"
     ]
    }
   ],
   "source": [
    "with open(path, 'r') as f:\n",
    "    a = f.read()\n",
    "\n",
    "print(a)"
   ]
  },
  {
   "cell_type": "markdown",
   "id": "19037f63",
   "metadata": {},
   "source": [
    "# 직렬화/역직렬화"
   ]
  },
  {
   "cell_type": "code",
   "execution_count": 15,
   "id": "6619b7b8",
   "metadata": {},
   "outputs": [],
   "source": [
    "data = {\n",
    "    'name': '홍길동',\n",
    "    'age': 30,\n",
    "    'score': 90\n",
    "}"
   ]
  },
  {
   "cell_type": "code",
   "execution_count": 57,
   "id": "94ea78f9",
   "metadata": {},
   "outputs": [],
   "source": [
    "import pickle\n",
    "import json\n",
    "import csv\n",
    "import pandas as pd"
   ]
  },
  {
   "cell_type": "markdown",
   "id": "196ce964",
   "metadata": {},
   "source": [
    "### pickle"
   ]
  },
  {
   "cell_type": "code",
   "execution_count": 46,
   "id": "9fc618c7",
   "metadata": {},
   "outputs": [],
   "source": [
    "with open(\"./data/data.pickle\", \"wb\") as f:\n",
    "    pickle.dump(data, f)"
   ]
  },
  {
   "cell_type": "code",
   "execution_count": 47,
   "id": "d8a65785",
   "metadata": {},
   "outputs": [
    {
     "name": "stdout",
     "output_type": "stream",
     "text": [
      "{'name': '홍길동', 'age': 30, 'score': 90}\n"
     ]
    }
   ],
   "source": [
    "with open(\"./data/data.pickle\", \"rb\") as f:\n",
    "    a = pickle.load(f)\n",
    "print(a)"
   ]
  },
  {
   "cell_type": "markdown",
   "id": "98f4f559",
   "metadata": {},
   "source": [
    "### json"
   ]
  },
  {
   "cell_type": "code",
   "execution_count": 24,
   "id": "90df7f4f",
   "metadata": {},
   "outputs": [],
   "source": [
    "with open(\"./data/data.json\", \"w\", encoding=\"utf-8\") as f:\n",
    "    json.dump(data, f, ensure_ascii=False)"
   ]
  },
  {
   "cell_type": "code",
   "execution_count": 25,
   "id": "748bcb38",
   "metadata": {},
   "outputs": [
    {
     "name": "stdout",
     "output_type": "stream",
     "text": [
      "{'name': '홍길동', 'age': 30, 'score': 90}\n"
     ]
    }
   ],
   "source": [
    "with open(\"./data/data.json\", \"r\") as f:\n",
    "    a = json.load(f)\n",
    "print(a)"
   ]
  },
  {
   "cell_type": "markdown",
   "id": "37c5b38d",
   "metadata": {},
   "source": [
    "### csv"
   ]
  },
  {
   "cell_type": "code",
   "execution_count": 48,
   "id": "c4fc68bc",
   "metadata": {},
   "outputs": [],
   "source": [
    "data = [['name','age'], ['bob', 20], ['alice', 15]]"
   ]
  },
  {
   "cell_type": "code",
   "execution_count": 49,
   "id": "77e4cdef",
   "metadata": {},
   "outputs": [],
   "source": [
    "with open(\"./data/data.csv\", \"w\", encoding=\"utf-8\") as f:\n",
    "    csv.writer(f).writerow(data)"
   ]
  },
  {
   "cell_type": "code",
   "execution_count": 55,
   "id": "f1424d2b",
   "metadata": {},
   "outputs": [],
   "source": [
    "with open(\"./data/data.csv\", \"r\", ) as f:\n",
    "    a = f.read()"
   ]
  },
  {
   "cell_type": "code",
   "execution_count": 56,
   "id": "64b176ec",
   "metadata": {},
   "outputs": [
    {
     "data": {
      "text/plain": [
       "'\"[\\'name\\', \\'age\\']\",\"[\\'bob\\', 20]\",\"[\\'alice\\', 15]\"\\n\\n'"
      ]
     },
     "execution_count": 56,
     "metadata": {},
     "output_type": "execute_result"
    }
   ],
   "source": [
    "a"
   ]
  },
  {
   "cell_type": "code",
   "execution_count": 65,
   "id": "36833813",
   "metadata": {},
   "outputs": [
    {
     "data": {
      "text/html": [
       "<div>\n",
       "<style scoped>\n",
       "    .dataframe tbody tr th:only-of-type {\n",
       "        vertical-align: middle;\n",
       "    }\n",
       "\n",
       "    .dataframe tbody tr th {\n",
       "        vertical-align: top;\n",
       "    }\n",
       "\n",
       "    .dataframe thead th {\n",
       "        text-align: right;\n",
       "    }\n",
       "</style>\n",
       "<table border=\"1\" class=\"dataframe\">\n",
       "  <thead>\n",
       "    <tr style=\"text-align: right;\">\n",
       "      <th></th>\n",
       "      <th>0</th>\n",
       "      <th>1</th>\n",
       "    </tr>\n",
       "  </thead>\n",
       "  <tbody>\n",
       "    <tr>\n",
       "      <th>0</th>\n",
       "      <td>name</td>\n",
       "      <td>age</td>\n",
       "    </tr>\n",
       "    <tr>\n",
       "      <th>1</th>\n",
       "      <td>bob</td>\n",
       "      <td>20</td>\n",
       "    </tr>\n",
       "    <tr>\n",
       "      <th>2</th>\n",
       "      <td>alice</td>\n",
       "      <td>15</td>\n",
       "    </tr>\n",
       "  </tbody>\n",
       "</table>\n",
       "</div>"
      ],
      "text/plain": [
       "       0    1\n",
       "0   name  age\n",
       "1    bob   20\n",
       "2  alice   15"
      ]
     },
     "execution_count": 65,
     "metadata": {},
     "output_type": "execute_result"
    }
   ],
   "source": [
    "df = pd.DataFrame(data)\n",
    "df.to_csv(\"./data/data_df.csv\", index=False)\n",
    "df"
   ]
  },
  {
   "cell_type": "code",
   "execution_count": 66,
   "id": "ee53c702",
   "metadata": {},
   "outputs": [
    {
     "data": {
      "text/html": [
       "<div>\n",
       "<style scoped>\n",
       "    .dataframe tbody tr th:only-of-type {\n",
       "        vertical-align: middle;\n",
       "    }\n",
       "\n",
       "    .dataframe tbody tr th {\n",
       "        vertical-align: top;\n",
       "    }\n",
       "\n",
       "    .dataframe thead th {\n",
       "        text-align: right;\n",
       "    }\n",
       "</style>\n",
       "<table border=\"1\" class=\"dataframe\">\n",
       "  <thead>\n",
       "    <tr style=\"text-align: right;\">\n",
       "      <th></th>\n",
       "      <th>0</th>\n",
       "      <th>1</th>\n",
       "    </tr>\n",
       "  </thead>\n",
       "  <tbody>\n",
       "    <tr>\n",
       "      <th>0</th>\n",
       "      <td>name</td>\n",
       "      <td>age</td>\n",
       "    </tr>\n",
       "    <tr>\n",
       "      <th>1</th>\n",
       "      <td>bob</td>\n",
       "      <td>20</td>\n",
       "    </tr>\n",
       "    <tr>\n",
       "      <th>2</th>\n",
       "      <td>alice</td>\n",
       "      <td>15</td>\n",
       "    </tr>\n",
       "  </tbody>\n",
       "</table>\n",
       "</div>"
      ],
      "text/plain": [
       "       0    1\n",
       "0   name  age\n",
       "1    bob   20\n",
       "2  alice   15"
      ]
     },
     "execution_count": 66,
     "metadata": {},
     "output_type": "execute_result"
    }
   ],
   "source": [
    "df2 = pd.read_csv(\"./data/data_df.csv\")\n",
    "df2"
   ]
  },
  {
   "cell_type": "code",
   "execution_count": null,
   "id": "5a43b533",
   "metadata": {},
   "outputs": [],
   "source": []
  }
 ],
 "metadata": {
  "kernelspec": {
   "display_name": "hipython",
   "language": "python",
   "name": "python3"
  },
  "language_info": {
   "codemirror_mode": {
    "name": "ipython",
    "version": 3
   },
   "file_extension": ".py",
   "mimetype": "text/x-python",
   "name": "python",
   "nbconvert_exporter": "python",
   "pygments_lexer": "ipython3",
   "version": "3.12.9"
  }
 },
 "nbformat": 4,
 "nbformat_minor": 5
}
