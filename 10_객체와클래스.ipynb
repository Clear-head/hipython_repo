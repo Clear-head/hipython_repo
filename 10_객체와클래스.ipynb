{
 "cells": [
  {
   "cell_type": "markdown",
   "id": "7d7c3e46-391e-42cf-b336-962c2dcdf406",
   "metadata": {},
   "source": [
    "# 파이썬으로 객체지향프로그래밍 OOP\n",
    "object oriented programming\n",
    "\n",
    "파이썬으로 만드는 응용프로그램\n",
    "- 변수 : 전역, 지역\n",
    "- 함수 : 기능을 구현하는도구\n",
    "- 모듈 : 함수의 모음, 변수의 모음 -> .py\n",
    "- CRUD : create read update delete\n",
    "\n",
    "클래스 : 변수 + 함수를 하나로 묶어 주는 개념   \n",
    "객체 : 클래스를 이용해서 다수의 객체를 생성   \n",
    "객체지향 프로그램: 객체를 이용하느 프로그램"
   ]
  },
  {
   "cell_type": "markdown",
   "id": "d4773bd9-acf6-4479-a517-fb2a775f2452",
   "metadata": {},
   "source": [
    "# 객체지향 프로그램을| 만드는 법\n",
    "1. 클래스 만들기\n",
    "2. 클래스로 객체 생성\n",
    "3. 객채의 함수: 메소드 호출"
   ]
  },
  {
   "cell_type": "code",
   "execution_count": 27,
   "id": "f193a415-1335-4572-a3c4-72de50e37b78",
   "metadata": {},
   "outputs": [],
   "source": [
    "class Bicycle:\n",
    "    \n",
    "    def __init__(self, pos, color):\n",
    "        self.pos = pos\n",
    "        self.color = color\n",
    "    \n",
    "    def move_front(self):\n",
    "        self.pos[1] += 1\n",
    "\n",
    "    def move_back(self):\n",
    "        self.pos[1] -= 1\n",
    "\n",
    "    def move_left(self):\n",
    "        self.pos[0] -= 1\n",
    "\n",
    "    def move_right(self):\n",
    "        self.pos[0] += 1\n",
    "\n",
    "    def print_pos(self):\n",
    "        print(self.pos)\n",
    "\n",
    "    def print_color(self):\n",
    "        print(self.color)\n",
    "        "
   ]
  },
  {
   "cell_type": "code",
   "execution_count": 28,
   "id": "fe2081b7-6662-4481-8277-ba5367cac803",
   "metadata": {},
   "outputs": [],
   "source": [
    "bicycle1 = Bicycle([0, 0], \"Blue\")"
   ]
  },
  {
   "cell_type": "code",
   "execution_count": 29,
   "id": "1e17950d-2e41-4e03-a2b2-bdc9b7eda7ae",
   "metadata": {},
   "outputs": [
    {
     "name": "stdout",
     "output_type": "stream",
     "text": [
      "[0, 0]\n"
     ]
    }
   ],
   "source": [
    "bicycle1.print_pos()"
   ]
  },
  {
   "cell_type": "code",
   "execution_count": 30,
   "id": "d33bedf9-1994-435e-8a35-f57ed1eb640d",
   "metadata": {},
   "outputs": [],
   "source": [
    "bicycle1.move_front()"
   ]
  },
  {
   "cell_type": "code",
   "execution_count": 31,
   "id": "1ab7d00a-7a57-4f23-b2b3-f15124a1edb4",
   "metadata": {},
   "outputs": [
    {
     "name": "stdout",
     "output_type": "stream",
     "text": [
      "[0, 1]\n"
     ]
    }
   ],
   "source": [
    "bicycle1.print_pos()"
   ]
  },
  {
   "cell_type": "markdown",
   "id": "3bbfe1b9-ae8d-4c64-ae2e-b137ac1ef3c2",
   "metadata": {},
   "source": [
    "### 오버로딩\n",
    "\n",
    "동일한 이름의 메소드를 여러개 만드는 것 -> 파이썬에선 안됨 만약 하고 싶으면 파라미터에 기본값 설정"
   ]
  },
  {
   "cell_type": "code",
   "execution_count": 101,
   "id": "b61dbc0f-97c8-425c-8434-4d9954b55abf",
   "metadata": {},
   "outputs": [],
   "source": [
    "class Car():\n",
    "    instance_cnt = 0\n",
    "    def __init__(self, size):\n",
    "        self.size = size\n",
    "        Car.instance_cnt += 1\n",
    "        print(f'자동차 {Car.instance_cnt}대 생성')\n",
    "\n",
    "    def move(self):\n",
    "        print(f\"크기가 {self.size} 인 자동차 이동\")\n",
    "\n",
    "    @classmethod\n",
    "    def cnt_instance(cls):\n",
    "        print(cls.instance_cnt)\n",
    "        "
   ]
  },
  {
   "cell_type": "code",
   "execution_count": 102,
   "id": "75c11481-c287-45e0-992e-c9f163ddc8c0",
   "metadata": {},
   "outputs": [
    {
     "name": "stdout",
     "output_type": "stream",
     "text": [
      "자동차 1대 생성\n",
      "자동차 2대 생성\n",
      "자동차 3대 생성\n"
     ]
    }
   ],
   "source": [
    "a = Car(1)\n",
    "b = Car(2)\n",
    "c = Car(3)"
   ]
  },
  {
   "cell_type": "code",
   "execution_count": 103,
   "id": "7f4a9db9-91ea-49e3-a945-02c73530855a",
   "metadata": {},
   "outputs": [
    {
     "name": "stdout",
     "output_type": "stream",
     "text": [
      "크기가 1 인 자동차 이동\n",
      "크기가 2 인 자동차 이동\n"
     ]
    }
   ],
   "source": [
    "a.move()\n",
    "b.move()"
   ]
  },
  {
   "cell_type": "code",
   "execution_count": 104,
   "id": "22ae664d-95c7-4da1-86d7-ffc6148dcfe6",
   "metadata": {},
   "outputs": [
    {
     "name": "stdout",
     "output_type": "stream",
     "text": [
      "3\n"
     ]
    }
   ],
   "source": [
    "Car.cnt_instance()"
   ]
  },
  {
   "cell_type": "code",
   "execution_count": 105,
   "id": "b3513470-c1ac-48e5-9a5e-9712b41c2eab",
   "metadata": {},
   "outputs": [
    {
     "name": "stdout",
     "output_type": "stream",
     "text": [
      "3\n"
     ]
    }
   ],
   "source": [
    "a.cnt_instance()"
   ]
  },
  {
   "cell_type": "markdown",
   "id": "e951645e-d5d0-42c5-a69f-ba55b2b2716b",
   "metadata": {},
   "source": [
    "# 성적처리시스템"
   ]
  },
  {
   "cell_type": "code",
   "execution_count": 565,
   "id": "65e18c0b-61db-4009-8a2d-7d560051652e",
   "metadata": {},
   "outputs": [],
   "source": [
    "class Student():\n",
    "    pass\n",
    "    \n",
    "    def __init__(self, num, name):\n",
    "        self.num = num\n",
    "        self.name = name\n",
    "        self.order = 0\n",
    "\n",
    "    def insert_score(self, kor, eng, math):\n",
    "        self.kor = kor\n",
    "        self.eng = eng\n",
    "        self.math = math\n",
    "        self.total = kor + eng + math\n",
    "        self.avg = self.total//3\n",
    "\n",
    "    def view_info(self):\n",
    "        print(\n",
    "            f\"\"\"\n",
    "            === 정보 ===\n",
    "            번호: {self.num}\n",
    "            이름: {self.name}\n",
    "            등수: {self.order}\n",
    "            \n",
    "            === 점수 ===\n",
    "            한국어: {self.kor}\n",
    "            영어: {self.eng}\n",
    "            수학: {self.math}\n",
    "            ============\n",
    "            총합: {self.total}\n",
    "            평균: {self.avg}\n",
    "            \"\"\"\n",
    "        )\n",
    "\n",
    "    # 오버라이딩\n",
    "    def __str__(self):\n",
    "        return f\"{self.num}\\t|{self.name}\\t|{self.order} 등\""
   ]
  },
  {
   "cell_type": "code",
   "execution_count": 602,
   "id": "e3c6b6fa-6055-4fec-837b-e7610ebf8965",
   "metadata": {},
   "outputs": [],
   "source": [
    "class ClassRoom():\n",
    "    \n",
    "    def __init__(self, students_list, class_name):\n",
    "        self.class_name = class_name\n",
    "        self.students = []\n",
    "        for i in students_list:\n",
    "            self.add_student(i)\n",
    "\n",
    "    def add_student(self, s):\n",
    "        s = Student(len(self.students)+1, s)\n",
    "        self.students.append(s)\n",
    "\n",
    "    def calc_order(self):\n",
    "        for i, student in enumerate(sorted(self.students, key=lambda x: -x.total), start=1):\n",
    "            student.order = i\n",
    "\n",
    "    def view_member(self):\n",
    "        string = ''\n",
    "        for i in self.students:\n",
    "            string+= i.name + \" \"\n",
    "        print(string.rstrip())\n",
    "\n",
    "    def view_member_order(self):\n",
    "        print(f\"================<{self.class_name}>================\")\n",
    "        print(\"번호\\t|이름\\t|등수\")\n",
    "        print(\"-------------------------------------\")\n",
    "        for i in self.students:\n",
    "            print(i)\n",
    "\n",
    "    def calc_total_avg(self):\n",
    "        tmp = 0\n",
    "        for i in self.students:\n",
    "            tmp += i.total\n",
    "        self.total_avg = tmp//(len(self.students)*3)\n",
    "\n",
    "    def __str__(self):\n",
    "        return f\"{self.class_name} - 학생 수: {len(students)}   학생 평균 점수: {self.total_avg}\""
   ]
  },
  {
   "cell_type": "code",
   "execution_count": 603,
   "id": "d8b35e91-54b3-4be2-b0dc-427a83388d73",
   "metadata": {},
   "outputs": [],
   "source": [
    "a_stu = [\"김철수\", \"박제동\", \"홍길동\"]\n",
    "b_stu = [\"이재명\", \"김문수\", \"이준석\", \"권영국\"]\n",
    "\n",
    "a_class = ClassRoom(a_stu, \"a반\")\n",
    "b_class = ClassRoom(b_stu, \"b반\")"
   ]
  },
  {
   "cell_type": "code",
   "execution_count": 604,
   "id": "9d2d140f-77cf-4e1e-bb4f-b7b84d838d95",
   "metadata": {},
   "outputs": [
    {
     "name": "stdout",
     "output_type": "stream",
     "text": [
      "a반 - 학생 수: 3   학생 평균 점수: 71\n",
      "b반 - 학생 수: 3   학생 평균 점수: 70\n"
     ]
    }
   ],
   "source": [
    "import random\n",
    "\n",
    "for i in a_class.students:\n",
    "    i.insert_score(random.randint(50, 100), random.randint(50, 100), random.randint(50, 100))\n",
    "for i in b_class.students:\n",
    "    i.insert_score(random.randint(50, 100), random.randint(50, 100), random.randint(50, 100))\n",
    "\n",
    "a_class.calc_order()\n",
    "b_class.calc_order()\n",
    "\n",
    "a_class.calc_total_avg()\n",
    "b_class.calc_total_avg()\n",
    "\n",
    "print(a_class)\n",
    "print(b_class)"
   ]
  },
  {
   "cell_type": "code",
   "execution_count": 605,
   "id": "56e02c2e-463a-46ae-b4d5-9e7d1451eacd",
   "metadata": {},
   "outputs": [
    {
     "name": "stdout",
     "output_type": "stream",
     "text": [
      "================<a반>================\n",
      "번호\t|이름\t|등수\n",
      "-------------------------------------\n",
      "1\t|김철수\t|3 등\n",
      "2\t|박제동\t|2 등\n",
      "3\t|홍길동\t|1 등\n",
      "================<b반>================\n",
      "번호\t|이름\t|등수\n",
      "-------------------------------------\n",
      "1\t|이재명\t|2 등\n",
      "2\t|김문수\t|4 등\n",
      "3\t|이준석\t|3 등\n",
      "4\t|권영국\t|1 등\n"
     ]
    }
   ],
   "source": [
    "a_class.view_member_order()\n",
    "b_class.view_member_order()"
   ]
  },
  {
   "cell_type": "code",
   "execution_count": 606,
   "id": "447510dd-c6d8-4823-ac95-0c9d2819b077",
   "metadata": {},
   "outputs": [
    {
     "name": "stdout",
     "output_type": "stream",
     "text": [
      "\n",
      "            === 정보 ===\n",
      "            번호: 1\n",
      "            이름: 김철수\n",
      "            등수: 3\n",
      "\n",
      "            === 점수 ===\n",
      "            한국어: 55\n",
      "            영어: 58\n",
      "            수학: 66\n",
      "            ============\n",
      "            총합: 179\n",
      "            평균: 59\n",
      "            \n",
      "\n",
      "            === 정보 ===\n",
      "            번호: 2\n",
      "            이름: 박제동\n",
      "            등수: 2\n",
      "\n",
      "            === 점수 ===\n",
      "            한국어: 89\n",
      "            영어: 60\n",
      "            수학: 64\n",
      "            ============\n",
      "            총합: 213\n",
      "            평균: 71\n",
      "            \n",
      "\n",
      "            === 정보 ===\n",
      "            번호: 3\n",
      "            이름: 홍길동\n",
      "            등수: 1\n",
      "\n",
      "            === 점수 ===\n",
      "            한국어: 92\n",
      "            영어: 85\n",
      "            수학: 70\n",
      "            ============\n",
      "            총합: 247\n",
      "            평균: 82\n",
      "            \n"
     ]
    }
   ],
   "source": [
    "for i in a_class.students:\n",
    "    i.view_info()"
   ]
  },
  {
   "cell_type": "markdown",
   "id": "38618d4b-2253-411f-8438-3e2853064570",
   "metadata": {},
   "source": [
    "# 캡슐화 테스트"
   ]
  },
  {
   "cell_type": "code",
   "execution_count": 612,
   "id": "07db6a05-88d8-463b-9eb5-33ecad9ee0c9",
   "metadata": {},
   "outputs": [],
   "source": [
    "class TestClass():\n",
    "    def __init__(self):\n",
    "        self.var1 = 1\n",
    "        self._var1 = 2\n",
    "        self.__var1 = 3"
   ]
  },
  {
   "cell_type": "code",
   "execution_count": 613,
   "id": "00d985e6-dc36-4ddb-a8b8-49394b9fa984",
   "metadata": {},
   "outputs": [],
   "source": [
    "a = TestClass()"
   ]
  },
  {
   "cell_type": "code",
   "execution_count": 614,
   "id": "a3b435d4-685f-43fe-b5db-4ec9764ef698",
   "metadata": {},
   "outputs": [
    {
     "name": "stdout",
     "output_type": "stream",
     "text": [
      "1\n",
      "2\n"
     ]
    },
    {
     "ename": "AttributeError",
     "evalue": "'TestClass' object has no attribute '__var1'",
     "output_type": "error",
     "traceback": [
      "\u001b[31m---------------------------------------------------------------------------\u001b[39m",
      "\u001b[31mAttributeError\u001b[39m                            Traceback (most recent call last)",
      "\u001b[36mCell\u001b[39m\u001b[36m \u001b[39m\u001b[32mIn[614]\u001b[39m\u001b[32m, line 3\u001b[39m\n\u001b[32m      1\u001b[39m \u001b[38;5;28mprint\u001b[39m(a.var1)\n\u001b[32m      2\u001b[39m \u001b[38;5;28mprint\u001b[39m(a._var1)\n\u001b[32m----> \u001b[39m\u001b[32m3\u001b[39m \u001b[38;5;28mprint\u001b[39m(a.__var1)\n",
      "\u001b[31mAttributeError\u001b[39m: 'TestClass' object has no attribute '__var1'"
     ]
    }
   ],
   "source": [
    "print(a.var1)\n",
    "print(a._var1)\n",
    "print(a.__var1)"
   ]
  },
  {
   "cell_type": "code",
   "execution_count": 618,
   "id": "dd63c1f2-dae0-4c60-b155-fa33e9979649",
   "metadata": {},
   "outputs": [
    {
     "data": {
      "text/plain": [
       "['_TestClass__var1',\n",
       " '__class__',\n",
       " '__delattr__',\n",
       " '__dict__',\n",
       " '__dir__',\n",
       " '__doc__',\n",
       " '__eq__',\n",
       " '__format__',\n",
       " '__ge__',\n",
       " '__getattribute__',\n",
       " '__getstate__',\n",
       " '__gt__',\n",
       " '__hash__',\n",
       " '__init__',\n",
       " '__init_subclass__',\n",
       " '__le__',\n",
       " '__lt__',\n",
       " '__module__',\n",
       " '__ne__',\n",
       " '__new__',\n",
       " '__reduce__',\n",
       " '__reduce_ex__',\n",
       " '__repr__',\n",
       " '__setattr__',\n",
       " '__sizeof__',\n",
       " '__str__',\n",
       " '__subclasshook__',\n",
       " '__weakref__',\n",
       " '_var1',\n",
       " 'var1']"
      ]
     },
     "execution_count": 618,
     "metadata": {},
     "output_type": "execute_result"
    }
   ],
   "source": [
    "dir(a)"
   ]
  },
  {
   "cell_type": "markdown",
   "id": "1996dcdc-3878-46dc-9100-fb1ea903a0f1",
   "metadata": {},
   "source": [
    "# 상속"
   ]
  },
  {
   "cell_type": "code",
   "execution_count": 703,
   "id": "ba6552b9-a5ca-4df7-a462-10a91892042e",
   "metadata": {},
   "outputs": [],
   "source": [
    "class Calculator:\n",
    "    def __init__(self, x, y):\n",
    "        self.x = x\n",
    "        self.y = y\n",
    "    def add(self):\n",
    "        return self.x + self.y"
   ]
  },
  {
   "cell_type": "code",
   "execution_count": 704,
   "id": "56f969de-2d1a-434c-8c1d-7446b725bba7",
   "metadata": {},
   "outputs": [],
   "source": [
    "class AdvancedCalculator(Calculator):\n",
    "    def divide(self):\n",
    "        if self.y != 0:\n",
    "            return self.x/self.y\n",
    "        else:\n",
    "            print(\"can\\'t divide a to 0\")\n",
    "\n",
    "    def add(self):\n",
    "        print(\"asd\")\n",
    "        return super().add()"
   ]
  },
  {
   "cell_type": "code",
   "execution_count": 705,
   "id": "a4a10fb7-ef0b-4476-b854-77c9be2ee28a",
   "metadata": {},
   "outputs": [
    {
     "name": "stdout",
     "output_type": "stream",
     "text": [
      "2.0\n",
      "asd\n",
      "9\n"
     ]
    }
   ],
   "source": [
    "calc = AdvancedCalculator(6, 3)\n",
    "print(calc.divide())\n",
    "print(calc.add())"
   ]
  },
  {
   "cell_type": "code",
   "execution_count": 1,
   "id": "9cbd38af-babc-4b11-b554-e16d94da1f15",
   "metadata": {},
   "outputs": [],
   "source": [
    "class Animal():\n",
    "    def make_sound():\n",
    "        pass"
   ]
  },
  {
   "cell_type": "code",
   "execution_count": 16,
   "id": "7a5c55d4-d24b-4ebf-a02e-c8af509f2faf",
   "metadata": {},
   "outputs": [],
   "source": [
    "class Dog(Animal):\n",
    "    def make_sound(self):\n",
    "        return \"멍멍\"\n",
    "\n",
    "class Cat(Animal):\n",
    "    def make_sound(self):\n",
    "        return \"야옹\"\n"
   ]
  },
  {
   "cell_type": "code",
   "execution_count": 17,
   "id": "08cf8f8b-f2c3-44cd-98ea-92668a7762dc",
   "metadata": {},
   "outputs": [],
   "source": [
    "dog1 = Dog()\n",
    "cat1 = Cat()"
   ]
  },
  {
   "cell_type": "code",
   "execution_count": 19,
   "id": "0f2b94e4-9a26-47d6-9449-9ef3ee9886d2",
   "metadata": {},
   "outputs": [
    {
     "name": "stdout",
     "output_type": "stream",
     "text": [
      "멍멍\n",
      "야옹\n"
     ]
    }
   ],
   "source": [
    "print(dog1.make_sound())\n",
    "print(cat1.make_sound())"
   ]
  },
  {
   "cell_type": "code",
   "execution_count": null,
   "id": "3bb66eb3-0feb-49a3-8ada-ce8df45e403b",
   "metadata": {},
   "outputs": [],
   "source": []
  }
 ],
 "metadata": {
  "kernelspec": {
   "display_name": "Python 3 (ipykernel)",
   "language": "python",
   "name": "python3"
  },
  "language_info": {
   "codemirror_mode": {
    "name": "ipython",
    "version": 3
   },
   "file_extension": ".py",
   "mimetype": "text/x-python",
   "name": "python",
   "nbconvert_exporter": "python",
   "pygments_lexer": "ipython3",
   "version": "3.12.9"
  }
 },
 "nbformat": 4,
 "nbformat_minor": 5
}
