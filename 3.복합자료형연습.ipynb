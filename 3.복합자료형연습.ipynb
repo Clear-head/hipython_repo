{
 "cells": [
  {
   "cell_type": "markdown",
   "id": "c28d3df4-db10-472b-ba46-bf96b462871a",
   "metadata": {},
   "source": [
    "1. 리스트 numbers가 다음과 같을 때, 첫 번째 원소와 마지막 원소의 합을 구하는 코드를 작성하세요. "
   ]
  },
  {
   "cell_type": "code",
   "execution_count": 23,
   "id": "7d04a248-83de-4675-a52b-9909184cc193",
   "metadata": {},
   "outputs": [
    {
     "name": "stdout",
     "output_type": "stream",
     "text": [
      "110\n"
     ]
    }
   ],
   "source": [
    "numbers = [10, 20,  30,  40,  50,  60, 70, 80, 90, 100]\n",
    "\n",
    "print(numbers[0] + numbers[-1])\n"
   ]
  },
  {
   "cell_type": "markdown",
   "id": "681b6ac3-0da3-4dc1-a75d-1be68348387d",
   "metadata": {},
   "source": [
    "2. 리스트 colors가 다음과 같을 때, 첫 3개 원소와 마지막 2개 원소를 슬라이싱을 사용하여 출력하는 코드를 작성하세요."
   ]
  },
  {
   "cell_type": "code",
   "execution_count": 24,
   "id": "c739463e-fbc4-4774-b52f-9928fd69011e",
   "metadata": {},
   "outputs": [
    {
     "name": "stdout",
     "output_type": "stream",
     "text": [
      "['red', 'green', 'blue']\n",
      "['purple', 'orange']\n"
     ]
    }
   ],
   "source": [
    "colors = [\"red\", \"green\", \"blue\", \"yellow\", \"purple\", \"orange\", \"black\"]\n",
    "\n",
    "print(colors[:3])\n",
    "print(colors[-3:-1])"
   ]
  },
  {
   "cell_type": "markdown",
   "id": "d6229bab-9e58-48ec-bfad-602ccc054ba7",
   "metadata": {},
   "source": [
    "3. 다음 리스트에서 \"korean\"이라는 문자열을 찾아 출력하는 코드를 작성하세요. - indexing"
   ]
  },
  {
   "cell_type": "code",
   "execution_count": 26,
   "id": "821f9b3a-2d1e-4f04-9213-ff1d5d7d2a82",
   "metadata": {},
   "outputs": [
    {
     "data": {
      "text/plain": [
       "'korean'"
      ]
     },
     "execution_count": 26,
     "metadata": {},
     "output_type": "execute_result"
    }
   ],
   "source": [
    "list_a = [\n",
    "    [1, 2, 3],\n",
    "    [\"red\", \"green\", \"blue\"],\n",
    "    [False, \"korean\", True]\n",
    "]\n",
    "\n",
    "list_a[2][1]"
   ]
  },
  {
   "cell_type": "markdown",
   "id": "28a989ad-7072-4169-a184-6a930279dc5d",
   "metadata": {},
   "source": [
    "4. 리스트 list_a과 list_b가 다음과 같을 때, 두 리스트를 합쳐서 새로운 리스트 list_c를 만드는 코드를 작성하세요."
   ]
  },
  {
   "cell_type": "code",
   "execution_count": 27,
   "id": "e047cf12-4591-477a-a393-2cbb16c7d4c2",
   "metadata": {},
   "outputs": [
    {
     "name": "stdout",
     "output_type": "stream",
     "text": [
      "[1, 2, 3, 4, 5, 6]\n"
     ]
    }
   ],
   "source": [
    "list_a = [1, 2, 3]\n",
    "list_b = [4, 5, 6]\n",
    "\n",
    "list_c = list_a + list_b\n",
    "print(list_c)"
   ]
  },
  {
   "cell_type": "markdown",
   "id": "f83d3ec9-3849-409d-9ec9-368dc26822c3",
   "metadata": {},
   "source": [
    "5. 아래의 튜플 tuple_a에서 \"banana\"를 \"blueberry\"로 변경하는 코드를 작성하세요."
   ]
  },
  {
   "cell_type": "code",
   "execution_count": 37,
   "id": "47fb1d26-b916-461b-864c-b2f60bf742bb",
   "metadata": {},
   "outputs": [
    {
     "name": "stdout",
     "output_type": "stream",
     "text": [
      "('apple', 'blueberry', 'cherry')\n"
     ]
    }
   ],
   "source": [
    "tuple_a = (\"apple\", \"banana\", \"cherry\")\n",
    "\n",
    "tuple_a = list(tuple_a)\n",
    "tuple_a[1] = \"blueberry\"\n",
    "tuple_a = tuple(tuple_a)\n",
    "\n",
    "print(tuple_a)"
   ]
  },
  {
   "cell_type": "markdown",
   "id": "e5460294-fc86-4dc1-86b7-9adde42735f3",
   "metadata": {},
   "source": [
    "6. 변수 a, b, c의 값을 사용하여 튜플 tuple_a를 생성하고 출력하는 코드를 작성하세요."
   ]
  },
  {
   "cell_type": "code",
   "execution_count": 29,
   "id": "0c8c2cd7-8487-4e33-baff-fac8e33855f2",
   "metadata": {},
   "outputs": [
    {
     "name": "stdout",
     "output_type": "stream",
     "text": [
      "(5, 10, 15)\n"
     ]
    }
   ],
   "source": [
    "a = 5\n",
    "b = 10\n",
    "c = 15\n",
    "\n",
    "tuple_a = (a, b, c)\n",
    "print(tuple_a)"
   ]
  },
  {
   "cell_type": "markdown",
   "id": "146bfc84-838e-411d-9fdc-24f893a27b4c",
   "metadata": {},
   "source": [
    "7. 튜플 numbers가 주어졌을 때, 튜플의 최대값과 최소값을 출력하는 코드를 작성하세요."
   ]
  },
  {
   "cell_type": "code",
   "execution_count": 30,
   "id": "327d2d3a-ddce-4c17-ad05-9477e24ae5a0",
   "metadata": {},
   "outputs": [
    {
     "name": "stdout",
     "output_type": "stream",
     "text": [
      "92 19\n"
     ]
    }
   ],
   "source": [
    "numbers = (92, 89, 72, 31, 71, 33, 19)\n",
    "\n",
    "print(max(numbers), min(numbers))"
   ]
  },
  {
   "cell_type": "markdown",
   "id": "0bcf68a9-0647-4fe2-9c54-1dba26b6ce10",
   "metadata": {},
   "source": [
    "8. dict 타입의 student(변수명)를 생성하고, 아래의 키-값 쌍을 추가하는 코드를 작성하세요.   \n",
    "name: \"Alice\"   \n",
    "age: 24   \n",
    "major: \"Computer Science\""
   ]
  },
  {
   "cell_type": "code",
   "execution_count": 31,
   "id": "39d5ddc6-78a5-4afc-9a5c-c17e8c0680ce",
   "metadata": {},
   "outputs": [],
   "source": [
    "student = {\"name\": \"Alice\", \"age\": 24, \"major\": \"Computer Science\"}"
   ]
  },
  {
   "cell_type": "markdown",
   "id": "47c1024c-0b75-4490-8ae9-910616c864af",
   "metadata": {},
   "source": [
    "9. 위에서 생성한 student에서, 모든 키와 값을 출력하는 코드를 작성하세요"
   ]
  },
  {
   "cell_type": "code",
   "execution_count": 32,
   "id": "8c3eeb72-2664-4840-abd7-b961f8740730",
   "metadata": {},
   "outputs": [
    {
     "name": "stdout",
     "output_type": "stream",
     "text": [
      "dict_keys(['name', 'age', 'major'])\n",
      "dict_values(['Alice', 24, 'Computer Science'])\n"
     ]
    }
   ],
   "source": [
    "print(student.keys())\n",
    "print(student.values())"
   ]
  },
  {
   "cell_type": "markdown",
   "id": "33323fb7-2bb6-400a-b4eb-9563f650046c",
   "metadata": {},
   "source": [
    "10. 위에서 생성한 student에서, age(나이)를 26으로 변경하세요."
   ]
  },
  {
   "cell_type": "code",
   "execution_count": 33,
   "id": "274dea3a-fb7c-4a50-8e69-4ac1338cf9c5",
   "metadata": {},
   "outputs": [],
   "source": [
    "student[\"age\"] = 26"
   ]
  },
  {
   "cell_type": "markdown",
   "id": "d46f862c-abf6-473e-bc89-869e41ae389e",
   "metadata": {},
   "source": [
    "11. 다음 딕셔너리 students에서 name의 값을 리스트(name_list)로, age의 값을 튜플(age_tuple) 만드는 코드를 작성하세요"
   ]
  },
  {
   "cell_type": "code",
   "execution_count": 34,
   "id": "f633dcfe-5f19-4132-b73e-8e98b2da898f",
   "metadata": {},
   "outputs": [],
   "source": [
    "students = {\n",
    "    \"student1\": {\"name\": \"Alice\", \"age\": 24},\n",
    "    \"student2\": {\"name\": \"Bob\", \"age\": 22},\n",
    "    \"student3\": {\"name\": \"Charlie\", \"age\": 23}\n",
    "}"
   ]
  },
  {
   "cell_type": "code",
   "execution_count": 35,
   "id": "20277176-55d0-4094-80e7-84aa66b0d2cb",
   "metadata": {},
   "outputs": [
    {
     "name": "stdout",
     "output_type": "stream",
     "text": [
      "['Alice', 'Bob', 'Charlie'] (24, 22, 23)\n"
     ]
    }
   ],
   "source": [
    "name_list = []\n",
    "age_tuple = []\n",
    "for i in students.keys():\n",
    "    name_list.append(students[i][\"name\"])\n",
    "    age_tuple.append(students[i][\"age\"])\n",
    "age_tuple = tuple(age_tuple)\n",
    "print(name_list, age_tuple)"
   ]
  }
 ],
 "metadata": {
  "kernelspec": {
   "display_name": "Python 3 (ipykernel)",
   "language": "python",
   "name": "python3"
  },
  "language_info": {
   "codemirror_mode": {
    "name": "ipython",
    "version": 3
   },
   "file_extension": ".py",
   "mimetype": "text/x-python",
   "name": "python",
   "nbconvert_exporter": "python",
   "pygments_lexer": "ipython3",
   "version": "3.12.9"
  }
 },
 "nbformat": 4,
 "nbformat_minor": 5
}
