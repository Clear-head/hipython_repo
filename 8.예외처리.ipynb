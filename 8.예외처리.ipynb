{
 "cells": [
  {
   "cell_type": "markdown",
   "id": "101555b7-5bc4-4005-9861-75d77ebbaddf",
   "metadata": {},
   "source": [
    "# 예외종류\n",
    "https://docs.python.org/ko/3/library/exceptions.html#bltin-exceptions\n",
    "\n",
    "1. 문법오류 : syntaxError, NameError, TypeError\n",
    "2. 논리오류\n",
    "3. 예외상황"
   ]
  },
  {
   "cell_type": "code",
   "execution_count": 1,
   "id": "3bc75201-6bb0-4039-a889-bfc295b635f7",
   "metadata": {},
   "outputs": [
    {
     "ename": "SyntaxError",
     "evalue": "expected ':' (1847820590.py, line 2)",
     "output_type": "error",
     "traceback": [
      "  \u001b[36mCell\u001b[39m\u001b[36m \u001b[39m\u001b[32mIn[1]\u001b[39m\u001b[32m, line 2\u001b[39m\n\u001b[31m    \u001b[39m\u001b[31mwhile True\u001b[39m\n              ^\n\u001b[31mSyntaxError\u001b[39m\u001b[31m:\u001b[39m expected ':'\n"
     ]
    }
   ],
   "source": [
    "# 1\n",
    "while True\n",
    "    print(\"Asd\")"
   ]
  },
  {
   "cell_type": "code",
   "execution_count": 2,
   "id": "7515bade-3e0c-457c-a6d3-39de6a533018",
   "metadata": {},
   "outputs": [
    {
     "ename": "NameError",
     "evalue": "name 'a' is not defined",
     "output_type": "error",
     "traceback": [
      "\u001b[31m---------------------------------------------------------------------------\u001b[39m",
      "\u001b[31mNameError\u001b[39m                                 Traceback (most recent call last)",
      "\u001b[36mCell\u001b[39m\u001b[36m \u001b[39m\u001b[32mIn[2]\u001b[39m\u001b[32m, line 1\u001b[39m\n\u001b[32m----> \u001b[39m\u001b[32m1\u001b[39m \u001b[38;5;28mprint\u001b[39m(a)\n",
      "\u001b[31mNameError\u001b[39m: name 'a' is not defined"
     ]
    }
   ],
   "source": [
    "print(a)"
   ]
  },
  {
   "cell_type": "code",
   "execution_count": 3,
   "id": "52d3ee70-a17e-47e6-846e-35880e47dad1",
   "metadata": {},
   "outputs": [
    {
     "ename": "TypeError",
     "evalue": "unsupported operand type(s) for +: 'int' and 'str'",
     "output_type": "error",
     "traceback": [
      "\u001b[31m---------------------------------------------------------------------------\u001b[39m",
      "\u001b[31mTypeError\u001b[39m                                 Traceback (most recent call last)",
      "\u001b[36mCell\u001b[39m\u001b[36m \u001b[39m\u001b[32mIn[3]\u001b[39m\u001b[32m, line 1\u001b[39m\n\u001b[32m----> \u001b[39m\u001b[32m1\u001b[39m \u001b[32m2\u001b[39m + \u001b[33m'\u001b[39m\u001b[33m2\u001b[39m\u001b[33m'\u001b[39m\n",
      "\u001b[31mTypeError\u001b[39m: unsupported operand type(s) for +: 'int' and 'str'"
     ]
    }
   ],
   "source": [
    "2 + '2'"
   ]
  },
  {
   "cell_type": "code",
   "execution_count": 10,
   "id": "f8956203-80d1-433c-ab77-92e5f498554a",
   "metadata": {},
   "outputs": [
    {
     "name": "stdout",
     "output_type": "stream",
     "text": [
      "integer division or modulo by zero\n",
      "exit\n"
     ]
    }
   ],
   "source": [
    "try:\n",
    "    10//0\n",
    "except Exception as e:\n",
    "    print(e)\n",
    "finally:\n",
    "    print(\"exit\")"
   ]
  },
  {
   "cell_type": "markdown",
   "id": "333ca1a6-b84c-44e3-920f-646d94956812",
   "metadata": {},
   "source": [
    "# 예외 정의 하기\n",
    "1. 예외 클래스 작성 : 각 예외 상황에 맞는 메시지를 작성\n",
    "2. 호출 시 try except 으로 받아주기"
   ]
  },
  {
   "cell_type": "code",
   "execution_count": 19,
   "id": "5bf844a5-53e1-413c-a8c8-e769e7e3edc8",
   "metadata": {},
   "outputs": [
    {
     "name": "stdout",
     "output_type": "stream",
     "text": [
      "나이는 양수입니다\n",
      "다시 확인해 주세요 방금 입력값은 1500입니다.\n",
      "26\n"
     ]
    }
   ],
   "source": [
    "class AgeException(Exception):\n",
    "    def __init__(self, msg):\n",
    "        self._message = msg\n",
    "\n",
    "def input_age(user_age):\n",
    "    if user_age < 0:\n",
    "        raise AgeException(\"나이는 양수입니다\")\n",
    "    elif user_age > 150:\n",
    "        raise AgeException(f\"다시 확인해 주세요 방금 입력값은 {user_age}입니다.\")\n",
    "    else:\n",
    "        return user_age\n",
    "\n",
    "# input_age(-1)\n",
    "# input_age(1500)\n",
    "# input_age(26)\n",
    "\n",
    "try:\n",
    "    print(input_age(-1))\n",
    "except AgeException as e:\n",
    "    print(e)\n",
    "\n",
    "try:\n",
    "    print(input_age(1500))\n",
    "except AgeException as e:\n",
    "    print(e)\n",
    "\n",
    "try:\n",
    "    print(input_age(26))\n",
    "except AgeException as e:\n",
    "    print(e)"
   ]
  },
  {
   "cell_type": "code",
   "execution_count": 25,
   "id": "f7cc0eca-e10f-4df6-a395-a6e1af9c9d32",
   "metadata": {},
   "outputs": [],
   "source": [
    "def prt_alarm():\n",
    "    print('='*44)\n",
    "    print(f'{\"[알림]❌ 잘못된 입력입니다.\":^35}')\n",
    "    print(f'{\"[알림]✅ 다시 입력해주세요.\":^35}')\n",
    "    print('='*44)\n",
    "\n",
    "def yesno():\n",
    "    while True:\n",
    "        a=input('더 주문하시겠습니까?(y/n):')\n",
    "        if a.lower() not in ['y','n']:\n",
    "            prt_alarm()\n",
    "            continue\n",
    "        else:\n",
    "            return a"
   ]
  },
  {
   "cell_type": "code",
   "execution_count": 29,
   "id": "c5e0a281-e780-425c-b8f5-d0e5f4198b08",
   "metadata": {},
   "outputs": [],
   "source": [
    "class YNException(Exception):\n",
    "    def __init__(self, msg):\n",
    "        self._message = msg"
   ]
  },
  {
   "cell_type": "code",
   "execution_count": 30,
   "id": "5778f92f-38ab-4075-8e17-4121dd1dcd13",
   "metadata": {},
   "outputs": [],
   "source": [
    "def chk_yn(string):\n",
    "    if string in ['y','n','Y','N']:\n",
    "        return string\n",
    "    else:\n",
    "        raise YNException(prt_alarm())"
   ]
  },
  {
   "cell_type": "code",
   "execution_count": 37,
   "id": "0e99f798-9fe9-4b6d-89ea-77c918851ecb",
   "metadata": {},
   "outputs": [],
   "source": [
    "def yesno():\n",
    "    while True:\n",
    "        try:\n",
    "            a=input('더 주문하시겠습니까?(y/n):')\n",
    "            chk_yn(a)\n",
    "        except YNException as e:\n",
    "            pass\n",
    "        else:\n",
    "            break"
   ]
  },
  {
   "cell_type": "code",
   "execution_count": 38,
   "id": "026bc7d1-7693-46f2-ae0a-f30e8699d6e2",
   "metadata": {},
   "outputs": [
    {
     "name": "stdin",
     "output_type": "stream",
     "text": [
      "더 주문하시겠습니까?(y/n): n\n"
     ]
    }
   ],
   "source": [
    "yesno()"
   ]
  },
  {
   "cell_type": "code",
   "execution_count": null,
   "id": "cfaa3b5e-950c-4fdc-a8cd-a40f8228529e",
   "metadata": {},
   "outputs": [],
   "source": []
  }
 ],
 "metadata": {
  "kernelspec": {
   "display_name": "Python 3 (ipykernel)",
   "language": "python",
   "name": "python3"
  },
  "language_info": {
   "codemirror_mode": {
    "name": "ipython",
    "version": 3
   },
   "file_extension": ".py",
   "mimetype": "text/x-python",
   "name": "python",
   "nbconvert_exporter": "python",
   "pygments_lexer": "ipython3",
   "version": "3.12.9"
  }
 },
 "nbformat": 4,
 "nbformat_minor": 5
}
