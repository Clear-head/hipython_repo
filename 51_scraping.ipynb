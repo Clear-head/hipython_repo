{
 "cells": [
  {
   "cell_type": "code",
   "execution_count": 72,
   "id": "372568e4",
   "metadata": {},
   "outputs": [],
   "source": [
    "import requests\n",
    "import os\n",
    "import urllib.request"
   ]
  },
  {
   "cell_type": "code",
   "execution_count": 73,
   "id": "9f3c3783",
   "metadata": {},
   "outputs": [
    {
     "name": "stdout",
     "output_type": "stream",
     "text": [
      "c:\\githome\\hipython_repo\n"
     ]
    }
   ],
   "source": [
    "print(os.getcwd())"
   ]
  },
  {
   "cell_type": "code",
   "execution_count": 74,
   "id": "e1bda7b7",
   "metadata": {},
   "outputs": [],
   "source": [
    "abs_path = os.path.abspath('html/sample.html')\n",
    "url_path = \"file:///\" + abs_path\n",
    "\n",
    "with urllib.request.urlopen(url_path) as f:\n",
    "    html = f.read()\n",
    "\n",
    "\n",
    "# (html[:999])"
   ]
  },
  {
   "cell_type": "code",
   "execution_count": 75,
   "id": "70094979",
   "metadata": {},
   "outputs": [
    {
     "name": "stdout",
     "output_type": "stream",
     "text": [
      "b'<!DOCTYPE html>\\r\\n<html lang=\"en\">\\r\\n<head>\\r\\n    <meta charset=\"UTF-8\">\\r\\n    <meta name=\"viewport\" content=\"width=device-width, initial-scale=1.0\">\\r\\n    <title>LG U+ SW CAMP</title>\\r\\n</head>\\r\\n<body>\\r\\n    <h1>Hello scrap</h1>\\r\\n    <div id=\"subject\">\\xec\\x84\\xa0\\xed\\x83\\x9d\\xec\\x9e\\x90</div>\\r\\n    <div class=\"contents\">\\r\\n        \\xec\\x84\\xa0\\xed\\x83\\x9d\\xec\\x9e\\x90\\xea\\xb0\\x80 \\xec\\xa4\\x91\\xec\\x9a\\x94\\r\\n        <span>\\xeb\\x8b\\xa4\\xeb\\xa5\\xb8 <b>\\xec\\x9a\\x94\\xec\\x86\\x8c\\xea\\xb0\\x80</b> \\xeb\\x82\\x98\\xec\\x98\\xac\\xec\\x88\\x98\\xeb\\x8f\\x84 \\xec\\x9e\\x88\\xec\\x9d\\x8c</span>\\r\\n    </div>\\r\\n    <div>CSS \\xec\\x84\\xa0\\xed\\x83\\x9d\\xec\\x9e\\x90\\xec\\x97\\x90\\xeb\\x8a\\x94 \\xec\\x9a\\x94\\xec\\x86\\x8c \\xec\\x84\\xa0\\xed\\x83\\x9d\\xec\\x9e\\x90, \\xed\\x81\\xb4\\xeb\\x9e\\x98\\xec\\x8a\\xa4 \\xec\\x84\\xa0\\xed\\x83\\x9d\\xec\\x9e\\x90, ID \\xec\\x84\\xa0\\xed\\x83\\x9d\\xec\\x9e\\x90\\xea\\xb0\\x80 \\xec\\xa1\\xb4\\xec\\x9e\\xac</div>\\r\\n<!-- Code injected by live-server -->\\n<script>\\n\\t// <![CDATA[  <-- For SVG support\\n\\tif (\\'WebSocket\\' in window) {\\n\\t\\t(function () {\\n\\t\\t\\tfunction refreshCSS() {\\n\\t\\t\\t\\tvar sheets = [].slice.call(document.getElementsByTagName(\"link\"));\\n\\t\\t\\t\\tvar head = document.getElementsByTagName(\"head\")[0];\\n\\t\\t\\t\\tfor (var i = 0; i < sheets.length; ++i) {\\n\\t\\t\\t\\t\\tvar elem = sheets[i];\\n\\t\\t\\t\\t\\tvar parent = elem.parentElement || head;\\n\\t\\t\\t\\t\\tparent.removeChild(elem);\\n\\t\\t\\t\\t\\tvar rel = elem.rel;\\n\\t\\t\\t\\t\\tif (elem.href && typeof rel != \"string\" || rel.length == 0 || rel.toLowerCase() == \"stylesheet\") {\\n\\t\\t\\t\\t\\t\\tvar url = elem.href.replace(/(&|\\\\?)_cacheOverride=\\\\d+/, \\'\\');\\n\\t\\t\\t\\t\\t\\telem.href = url + (url.indexOf(\\'?\\') >= 0 ? \\'&\\' : \\'?\\') + \\'_cacheOverride=\\' + (new Date().valueOf());\\n\\t\\t\\t\\t\\t}\\n\\t\\t\\t\\t\\tparent.appendChild(elem);\\n\\t\\t\\t\\t}\\n\\t\\t\\t}\\n\\t\\t\\tvar protocol = window.location.protocol === \\'http:\\' ? \\'ws://\\' : \\'wss://\\';\\n\\t\\t\\tvar address = protocol + window.location.host + window.location.pathname + \\'/ws\\';\\n\\t\\t\\tvar socket = new WebSocket(address);\\n\\t\\t\\tsocket.onmessage = function (msg) {\\n\\t\\t\\t\\tif (msg.data == \\'reload\\') window.location.reload();\\n\\t\\t\\t\\telse if (msg.data == \\'refreshcss\\') refreshCSS();\\n\\t\\t\\t};\\n\\t\\t\\tif (sessionStorage && !sessionStorage.getItem(\\'IsThisFirstTime_Log_From_LiveServer\\')) {\\n\\t\\t\\t\\tconsole.log(\\'Live reload enabled.\\');\\n\\t\\t\\t\\tsessionStorage.setItem(\\'IsThisFirstTime_Log_From_LiveServer\\', true);\\n\\t\\t\\t}\\n\\t\\t})();\\n\\t}\\n\\telse {\\n\\t\\tconsole.error(\\'Upgrade your browser. This Browser is NOT supported WebSocket for Live-Reloading.\\');\\n\\t}\\n\\t// ]]>\\n</script>\\n</body>\\r\\n</html>'\n"
     ]
    }
   ],
   "source": [
    "res = requests.get('http://localhost:5500/html/sample.html')\n",
    "print(res.content)"
   ]
  },
  {
   "cell_type": "code",
   "execution_count": 76,
   "id": "96e00fec",
   "metadata": {},
   "outputs": [
    {
     "data": {
      "text/plain": [
       "[<div class=\"contents\">\n",
       "         선택자가 중요\n",
       "         <span>다른 <b>요소가</b> 나올수도 있음</span>\n",
       " </div>]"
      ]
     },
     "execution_count": 76,
     "metadata": {},
     "output_type": "execute_result"
    }
   ],
   "source": [
    "from bs4 import BeautifulSoup\n",
    "\n",
    "soup = BeautifulSoup(res.text, 'html.parser')\n",
    "soup.select(\"div.contents\")"
   ]
  },
  {
   "cell_type": "markdown",
   "id": "c82736ce",
   "metadata": {},
   "source": [
    "네이버 증권"
   ]
  },
  {
   "cell_type": "code",
   "execution_count": 77,
   "id": "367c5fed",
   "metadata": {},
   "outputs": [],
   "source": [
    "url = \"https://finance.naver.com/marketindex/\"\n",
    "idx = requests.get(url)"
   ]
  },
  {
   "cell_type": "code",
   "execution_count": 80,
   "id": "5019e778",
   "metadata": {},
   "outputs": [
    {
     "data": {
      "text/plain": [
       "'1,378.30'"
      ]
     },
     "execution_count": 80,
     "metadata": {},
     "output_type": "execute_result"
    }
   ],
   "source": [
    "soup = BeautifulSoup(idx.content, 'html.parser')\n",
    "price = soup.select('#exchangeList > li.on > a.head.usd > div > span.value')\n",
    "price[0].text"
   ]
  },
  {
   "cell_type": "code",
   "execution_count": null,
   "id": "8555a318",
   "metadata": {},
   "outputs": [],
   "source": []
  }
 ],
 "metadata": {
  "kernelspec": {
   "display_name": "webcrawl_env",
   "language": "python",
   "name": "python3"
  },
  "language_info": {
   "codemirror_mode": {
    "name": "ipython",
    "version": 3
   },
   "file_extension": ".py",
   "mimetype": "text/x-python",
   "name": "python",
   "nbconvert_exporter": "python",
   "pygments_lexer": "ipython3",
   "version": "3.10.18"
  }
 },
 "nbformat": 4,
 "nbformat_minor": 5
}
