{
 "cells": [
  {
   "cell_type": "markdown",
   "id": "8bff6ab1",
   "metadata": {},
   "source": [
    "# 수치 처리"
   ]
  },
  {
   "cell_type": "code",
   "execution_count": 2,
   "id": "f9588d9a",
   "metadata": {},
   "outputs": [
    {
     "name": "stdout",
     "output_type": "stream",
     "text": [
      "[[120, 135, 150, 145], [100, 110, 140, 130], [90, 100, 95, 105]]\n"
     ]
    }
   ],
   "source": [
    "import numpy as np\n",
    "import pandas as pd\n",
    "\n",
    "data = [\n",
    "    [120, 135, 150, 145],\n",
    "    [100, 110, 140, 130],\n",
    "    [90, 100, 95, 105]\n",
    "]\n",
    "\n",
    "print(data)"
   ]
  },
  {
   "cell_type": "code",
   "execution_count": 10,
   "id": "8b7628e4",
   "metadata": {},
   "outputs": [
    {
     "name": "stdout",
     "output_type": "stream",
     "text": [
      "[310 345 385 380]\n",
      "[550 480 390]\n"
     ]
    }
   ],
   "source": [
    "sales_data = np.array(data)\n",
    "print(np.sum(sales_data, axis=0))   # 세로 요소별\n",
    "print(np.sum(sales_data, axis=1))   # 가로 요소별"
   ]
  },
  {
   "cell_type": "code",
   "execution_count": 14,
   "id": "0e1f6e96",
   "metadata": {},
   "outputs": [
    {
     "name": "stdout",
     "output_type": "stream",
     "text": [
      "[7650 8500 9575 9425]\n"
     ]
    }
   ],
   "source": [
    "profit_per_unit = np.array([20, 30, 25])\n",
    "\n",
    "total_sales = np.dot(profit_per_unit, sales_data)\n",
    "\n",
    "print(total_sales)\n"
   ]
  },
  {
   "cell_type": "markdown",
   "id": "cb6dd7aa",
   "metadata": {},
   "source": [
    "# 이미지 처리"
   ]
  },
  {
   "cell_type": "markdown",
   "id": "c154d077",
   "metadata": {},
   "source": []
  },
  {
   "cell_type": "code",
   "execution_count": null,
   "id": "d117f12b",
   "metadata": {},
   "outputs": [],
   "source": [
    "from PIL import img"
   ]
  },
  {
   "cell_type": "code",
   "execution_count": null,
   "id": "d5837a7e",
   "metadata": {},
   "outputs": [],
   "source": []
  },
  {
   "cell_type": "code",
   "execution_count": null,
   "id": "521d9066",
   "metadata": {},
   "outputs": [],
   "source": []
  }
 ],
 "metadata": {
  "kernelspec": {
   "display_name": "hipython",
   "language": "python",
   "name": "python3"
  },
  "language_info": {
   "codemirror_mode": {
    "name": "ipython",
    "version": 3
   },
   "file_extension": ".py",
   "mimetype": "text/x-python",
   "name": "python",
   "nbconvert_exporter": "python",
   "pygments_lexer": "ipython3",
   "version": "3.12.9"
  }
 },
 "nbformat": 4,
 "nbformat_minor": 5
}
