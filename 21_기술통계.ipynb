{
 "cells": [
  {
   "cell_type": "markdown",
   "id": "02dbdd81",
   "metadata": {},
   "source": []
  },
  {
   "cell_type": "code",
   "execution_count": 23,
   "id": "172773c4",
   "metadata": {},
   "outputs": [
    {
     "name": "stdout",
     "output_type": "stream",
     "text": [
      "30.0\n"
     ]
    }
   ],
   "source": [
    "import numpy as np\n",
    "\n",
    "data = [i for i in range(10, 60, 10)]\n",
    "mean_value = np.mean(data)\n",
    "print(mean_value)"
   ]
  },
  {
   "cell_type": "code",
   "execution_count": 24,
   "id": "1b4a79d0",
   "metadata": {},
   "outputs": [
    {
     "data": {
      "text/plain": [
       "np.float64(26.051710846973528)"
      ]
     },
     "execution_count": 24,
     "metadata": {},
     "output_type": "execute_result"
    }
   ],
   "source": [
    "# 기하평균\n",
    "\n",
    "from scipy.stats import hmean, gmean\n",
    "gmean(data)"
   ]
  },
  {
   "cell_type": "code",
   "execution_count": 25,
   "id": "25084c4f",
   "metadata": {},
   "outputs": [
    {
     "data": {
      "text/plain": [
       "np.float64(21.8978102189781)"
      ]
     },
     "execution_count": 25,
     "metadata": {},
     "output_type": "execute_result"
    }
   ],
   "source": [
    "# 조화평균\n",
    "hmean(data)"
   ]
  },
  {
   "cell_type": "code",
   "execution_count": 26,
   "id": "1db71925",
   "metadata": {},
   "outputs": [
    {
     "data": {
      "text/plain": [
       "np.float64(30.0)"
      ]
     },
     "execution_count": 26,
     "metadata": {},
     "output_type": "execute_result"
    }
   ],
   "source": [
    "# 가중평균\n",
    "# 가격과 갯수\n",
    "price = [5000, 9000]\n",
    "counts = [8, 2]\n",
    "\n",
    "np.average(data)"
   ]
  },
  {
   "cell_type": "code",
   "execution_count": 27,
   "id": "4ec82860",
   "metadata": {},
   "outputs": [
    {
     "data": {
      "text/plain": [
       "<matplotlib.collections.PathCollection at 0x28aee9270e0>"
      ]
     },
     "execution_count": 27,
     "metadata": {},
     "output_type": "execute_result"
    },
    {
     "data": {
      "image/png": "[encoded data removed]",
      "text/plain": [
       "<Figure size 640x480 with 1 Axes>"
      ]
     },
     "metadata": {},
     "output_type": "display_data"
    }
   ],
   "source": [
    "import matplotlib.pyplot as plt\n",
    "\n",
    "plt.scatter(data, np.zeros_like(data))"
   ]
  },
  {
   "cell_type": "code",
   "execution_count": 28,
   "id": "b5e6bbda",
   "metadata": {},
   "outputs": [],
   "source": [
    "from sklearn.datasets import load_iris\n",
    "import pandas as pd\n",
    "iris = load_iris()"
   ]
  },
  {
   "cell_type": "code",
   "execution_count": 34,
   "id": "e9c69a69",
   "metadata": {},
   "outputs": [
    {
     "data": {
      "text/plain": [
       "['sepal length (cm)',\n",
       " 'sepal width (cm)',\n",
       " 'petal length (cm)',\n",
       " 'petal width (cm)']"
      ]
     },
     "execution_count": 34,
     "metadata": {},
     "output_type": "execute_result"
    }
   ],
   "source": [
    "\n",
    "iris_df = pd.DataFrame(iris['data'], columns=iris['feature_names'])\n",
    "\n",
    "iris_data = iris['data']\n",
    "iris['feature_names']"
   ]
  },
  {
   "cell_type": "code",
   "execution_count": 41,
   "id": "3cb65900",
   "metadata": {},
   "outputs": [
    {
     "name": "stdout",
     "output_type": "stream",
     "text": [
      "[-0.57356795  0.18097632 -1.39553589 -1.33606741]\n",
      "[ 0.31175306  0.31576711 -0.27212767 -0.10193421]\n"
     ]
    }
   ],
   "source": [
    "from scipy.stats import kurtosis, skew\n",
    "\n",
    "kurtosis_value = kurtosis(iris_data)\n",
    "skew_value = skew(iris_data)\n",
    "print(kurtosis_value)\n",
    "print(skew_value)"
   ]
  },
  {
   "cell_type": "code",
   "execution_count": 31,
   "id": "539dfece",
   "metadata": {},
   "outputs": [
    {
     "data": {
      "text/html": [
       "<div>\n",
       "<style scoped>\n",
       "    .dataframe tbody tr th:only-of-type {\n",
       "        vertical-align: middle;\n",
       "    }\n",
       "\n",
       "    .dataframe tbody tr th {\n",
       "        vertical-align: top;\n",
       "    }\n",
       "\n",
       "    .dataframe thead th {\n",
       "        text-align: right;\n",
       "    }\n",
       "</style>\n",
       "<table border=\"1\" class=\"dataframe\">\n",
       "  <thead>\n",
       "    <tr style=\"text-align: right;\">\n",
       "      <th></th>\n",
       "      <th>A</th>\n",
       "      <th>B</th>\n",
       "      <th>C</th>\n",
       "      <th>D</th>\n",
       "      <th>E</th>\n",
       "    </tr>\n",
       "  </thead>\n",
       "  <tbody>\n",
       "    <tr>\n",
       "      <th>0</th>\n",
       "      <td>47</td>\n",
       "      <td>10</td>\n",
       "      <td>31</td>\n",
       "      <td>25</td>\n",
       "      <td>20</td>\n",
       "    </tr>\n",
       "    <tr>\n",
       "      <th>1</th>\n",
       "      <td>2</td>\n",
       "      <td>11</td>\n",
       "      <td>31</td>\n",
       "      <td>25</td>\n",
       "      <td>21</td>\n",
       "    </tr>\n",
       "    <tr>\n",
       "      <th>2</th>\n",
       "      <td>44</td>\n",
       "      <td>14</td>\n",
       "      <td>15</td>\n",
       "      <td>26</td>\n",
       "      <td>21</td>\n",
       "    </tr>\n",
       "    <tr>\n",
       "      <th>3</th>\n",
       "      <td>41</td>\n",
       "      <td>14</td>\n",
       "      <td>16</td>\n",
       "      <td>26</td>\n",
       "      <td>21</td>\n",
       "    </tr>\n",
       "    <tr>\n",
       "      <th>4</th>\n",
       "      <td>7</td>\n",
       "      <td>30</td>\n",
       "      <td>17</td>\n",
       "      <td>27</td>\n",
       "      <td>24</td>\n",
       "    </tr>\n",
       "    <tr>\n",
       "      <th>5</th>\n",
       "      <td>6</td>\n",
       "      <td>30</td>\n",
       "      <td>16</td>\n",
       "      <td>29</td>\n",
       "      <td>24</td>\n",
       "    </tr>\n",
       "    <tr>\n",
       "      <th>6</th>\n",
       "      <td>35</td>\n",
       "      <td>32</td>\n",
       "      <td>15</td>\n",
       "      <td>29</td>\n",
       "      <td>23</td>\n",
       "    </tr>\n",
       "    <tr>\n",
       "      <th>7</th>\n",
       "      <td>38</td>\n",
       "      <td>33</td>\n",
       "      <td>19</td>\n",
       "      <td>28</td>\n",
       "      <td>20</td>\n",
       "    </tr>\n",
       "    <tr>\n",
       "      <th>8</th>\n",
       "      <td>35</td>\n",
       "      <td>34</td>\n",
       "      <td>18</td>\n",
       "      <td>29</td>\n",
       "      <td>21</td>\n",
       "    </tr>\n",
       "    <tr>\n",
       "      <th>9</th>\n",
       "      <td>36</td>\n",
       "      <td>32</td>\n",
       "      <td>16</td>\n",
       "      <td>27</td>\n",
       "      <td>20</td>\n",
       "    </tr>\n",
       "  </tbody>\n",
       "</table>\n",
       "</div>"
      ],
      "text/plain": [
       "    A   B   C   D   E\n",
       "0  47  10  31  25  20\n",
       "1   2  11  31  25  21\n",
       "2  44  14  15  26  21\n",
       "3  41  14  16  26  21\n",
       "4   7  30  17  27  24\n",
       "5   6  30  16  29  24\n",
       "6  35  32  15  29  23\n",
       "7  38  33  19  28  20\n",
       "8  35  34  18  29  21\n",
       "9  36  32  16  27  20"
      ]
     },
     "execution_count": 31,
     "metadata": {},
     "output_type": "execute_result"
    }
   ],
   "source": [
    "#데이터 입력\n",
    "data = [\n",
    "    [47, 10, 31, 25, 20],\n",
    "    [2, 11, 31, 25, 21],\n",
    "    [44, 14, 15, 26, 21],\n",
    "    [41, 14, 16, 26, 21],\n",
    "    [7, 30, 17, 27, 24],\n",
    "    [6, 30, 16, 29, 24],\n",
    "    [35, 32, 15, 29, 23],\n",
    "    [38, 33, 19, 28, 20],\n",
    "    [35, 34, 18, 29, 21],\n",
    "    [36, 32, 16, 27, 20],\n",
    "]\n",
    "\n",
    "#DataFrame으로 변환\n",
    "df = pd.DataFrame(data, columns=['A', 'B', 'C', 'D', 'E'])\n",
    "df"
   ]
  },
  {
   "cell_type": "code",
   "execution_count": 32,
   "id": "f380cdbf",
   "metadata": {},
   "outputs": [
    {
     "data": {
      "image/png": "[encoded data removed]",
      "text/plain": [
       "<Figure size 640x480 with 1 Axes>"
      ]
     },
     "metadata": {},
     "output_type": "display_data"
    }
   ],
   "source": [
    "for i in df.columns:\n",
    "    plt.hist(df[i], bins='sturges')     # bin 자동 결정\n",
    "\n",
    "plt.tight_layout()"
   ]
  },
  {
   "cell_type": "code",
   "execution_count": null,
   "id": "bea03ee1",
   "metadata": {},
   "outputs": [],
   "source": []
  }
 ],
 "metadata": {
  "kernelspec": {
   "display_name": "hipython",
   "language": "python",
   "name": "python3"
  },
  "language_info": {
   "codemirror_mode": {
    "name": "ipython",
    "version": 3
   },
   "file_extension": ".py",
   "mimetype": "text/x-python",
   "name": "python",
   "nbconvert_exporter": "python",
   "pygments_lexer": "ipython3",
   "version": "3.12.3"
  }
 },
 "nbformat": 4,
 "nbformat_minor": 5
}
