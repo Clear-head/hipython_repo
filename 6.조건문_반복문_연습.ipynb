{
 "cells": [
  {
   "cell_type": "markdown",
   "id": "57a03c33-9d2d-4642-931f-d78506e56089",
   "metadata": {},
   "source": [
    "# 조건문, 반복문 연습"
   ]
  },
  {
   "cell_type": "markdown",
   "id": "e5c3d9d1-05f5-4eac-8df6-8265bf4d0bba",
   "metadata": {},
   "source": [
    "1. 0, 음수, 양수 삼항 연산자로 판별"
   ]
  },
  {
   "cell_type": "code",
   "execution_count": 3,
   "id": "b15550f6-7de6-405c-b883-e4d8fc473013",
   "metadata": {},
   "outputs": [
    {
     "name": "stdin",
     "output_type": "stream",
     "text": [
      " -1\n"
     ]
    },
    {
     "name": "stdout",
     "output_type": "stream",
     "text": [
      "음수\n"
     ]
    }
   ],
   "source": [
    "a = int(input())\n",
    "\n",
    "print(\"양수\" if a > 0 else \"0\" if a == 0 else \"음수\")"
   ]
  },
  {
   "cell_type": "markdown",
   "id": "c448d854-928d-4f9c-a992-b50f23f735b7",
   "metadata": {},
   "source": [
    "2. 변수 number를 짝수 홀수 판별 후 결과 출력"
   ]
  },
  {
   "cell_type": "code",
   "execution_count": 4,
   "id": "803de124-5308-411c-9553-3214eb4535f6",
   "metadata": {},
   "outputs": [
    {
     "name": "stdin",
     "output_type": "stream",
     "text": [
      " 3\n"
     ]
    },
    {
     "name": "stdout",
     "output_type": "stream",
     "text": [
      "홀수\n"
     ]
    }
   ],
   "source": [
    "number = int(input())\n",
    "\n",
    "if number % 2 == 0:\n",
    "    print(\"짝수\")\n",
    "else:\n",
    "    print(\"홀수\")"
   ]
  },
  {
   "cell_type": "markdown",
   "id": "65da7add-b93a-43ad-b4b9-b2af226a4a9c",
   "metadata": {},
   "source": [
    "3. score에 따라 학점 출력\n",
    "\n",
    "90점 이상: A   \n",
    "80점 이상 90점 미만: B   \n",
    "70점 이상 80점 미만: C   \n",
    "70점 미만: F"
   ]
  },
  {
   "cell_type": "code",
   "execution_count": 5,
   "id": "19a05ad3-1a1a-483a-b6f9-f817cfa38e5f",
   "metadata": {},
   "outputs": [
    {
     "name": "stdin",
     "output_type": "stream",
     "text": [
      " 82\n"
     ]
    },
    {
     "name": "stdout",
     "output_type": "stream",
     "text": [
      "B\n"
     ]
    }
   ],
   "source": [
    "score = int(input())\n",
    "\n",
    "print(\"A\" if score >= 90 else \"B\" if score >= 80 else \"C\" if score >= 70 else \"F\")"
   ]
  },
  {
   "cell_type": "markdown",
   "id": "4e0449fe-87ff-49f1-8500-748c8a2bd77c",
   "metadata": {},
   "source": [
    "4. 변수 price와 is_discount가 주어졌을 때, is_discount가 True이면 가격에 10% 할인을 적용하고, 그렇지 않으면 원래 가격을 출력하는 코드를 작성하세요."
   ]
  },
  {
   "cell_type": "code",
   "execution_count": 9,
   "id": "6116d54a-693a-4b6f-94cd-818695460113",
   "metadata": {},
   "outputs": [
    {
     "name": "stdout",
     "output_type": "stream",
     "text": [
      "90\n"
     ]
    }
   ],
   "source": [
    "price = 100\n",
    "is_discount = True\n",
    "\n",
    "if is_discount:\n",
    "    price *= 0.9\n",
    "    print(int(price))\n",
    "else:\n",
    "    print(price)"
   ]
  },
  {
   "cell_type": "markdown",
   "id": "88aa3b42-8544-4858-b57c-034cf84f5de7",
   "metadata": {},
   "source": [
    "5. 반복문을 사용하여 1부터 10까지의 숫자를 출력하는 코드를 작성하세요."
   ]
  },
  {
   "cell_type": "code",
   "execution_count": 12,
   "id": "d07ffb66-b63a-4939-bedf-3394369e9cce",
   "metadata": {},
   "outputs": [
    {
     "name": "stdout",
     "output_type": "stream",
     "text": [
      "[1, 2, 3, 4, 5, 6, 7, 8, 9, 10]\n"
     ]
    }
   ],
   "source": [
    "print([i for i in range(1, 11)])"
   ]
  },
  {
   "cell_type": "markdown",
   "id": "bc762d41-346c-404f-9022-d21acc22fcb5",
   "metadata": {},
   "source": [
    "6. 위 반복문(1~10) 숫자 중, 짝수의 값만 출력하는 코드를 작성하세요."
   ]
  },
  {
   "cell_type": "code",
   "execution_count": 13,
   "id": "52b391ac-2f8d-4660-859d-03b7048eb75b",
   "metadata": {},
   "outputs": [
    {
     "name": "stdout",
     "output_type": "stream",
     "text": [
      "[2, 4, 6, 8, 10]\n"
     ]
    }
   ],
   "source": [
    "print([i for i in range(1, 11) if i%2 == 0])"
   ]
  },
  {
   "cell_type": "markdown",
   "id": "e6e990da-653d-4c63-82f3-a919f3ed6fe7",
   "metadata": {},
   "source": [
    "7. 리스트 items와 변수 target이 주어졌을 때, for 반복문을 사용하여 target이 리스트에 있는지 확인하고, 결과를 출력하는 코드를 작성하세요."
   ]
  },
  {
   "cell_type": "code",
   "execution_count": 14,
   "id": "2bac4bb9-2d95-467e-b61e-a63c43a9fdb8",
   "metadata": {},
   "outputs": [],
   "source": [
    "items = [\"apple\", \"banana\", \"cherry\"]\n",
    "target = \"banana\""
   ]
  },
  {
   "cell_type": "code",
   "execution_count": 15,
   "id": "be182beb-c37a-4d37-8a5d-7e7910a5f73e",
   "metadata": {},
   "outputs": [
    {
     "name": "stdout",
     "output_type": "stream",
     "text": [
      "True\n"
     ]
    }
   ],
   "source": [
    "print(target in items)"
   ]
  },
  {
   "cell_type": "markdown",
   "id": "2ac49c7a-9197-4b0d-8b20-5db739411b6f",
   "metadata": {},
   "source": [
    "9. 나이에 따라 다음과 같은 입장료를 받고 있다고 할 때, 반복문을 이용하여 1세부터 13세까지의 전체 가격표를 만드는 코드를 작성하세요.   \n",
    "3세 이하: 무료   \n",
    "3세에서 5세: 5달러   \n",
    "5세에서 9세: 10달러   \n",
    "9세에서 12세: 12달러   \n",
    "12세 이상: 사용할 수 없음 (프로그램 종료)"
   ]
  },
  {
   "cell_type": "code",
   "execution_count": 17,
   "id": "8ab553c0-2135-4d79-b765-6620bcc10c04",
   "metadata": {},
   "outputs": [
    {
     "name": "stdout",
     "output_type": "stream",
     "text": [
      "1세: 무료\n",
      "2세: 무료\n",
      "3세: 무료\n",
      "4세: 5달러\n",
      "5세: 5달러\n",
      "6세: 10달러\n",
      "7세: 10달러\n",
      "8세: 10달러\n",
      "9세: 10달러\n",
      "10세: 12달러\n",
      "11세: 12달러\n",
      "12세: 12달러\n",
      "13세: 사용 불가\n"
     ]
    }
   ],
   "source": [
    "def tmp(a):\n",
    "    return \"무료\" if a <= 3 else \"5달러\" if a <= 5 else \"10달러\" if a <= 9 else \"12달러\" if a <= 12 else \"사용 불가\"\n",
    "\n",
    "for i in range(1, 14):\n",
    "    print(f\"{i}세: {tmp(i)}\")\n",
    "    "
   ]
  },
  {
   "cell_type": "markdown",
   "id": "f3527d4b-33bd-41f6-b1a7-d56d96bf606c",
   "metadata": {},
   "source": [
    "10. 다음 코드의 결과값은 무엇일까?\n",
    "a = \"Life is too short, you need python\"   \n",
    "   \n",
    "if \"wife\" in a:   \n",
    "    print(\"wife\")   \n",
    "   \n",
    "elif \"python\" in a and \"you\" not in a:   \n",
    "    print(\"python\")   \n",
    "\n",
    "elif \"shirt\" not in a:   \n",
    "    print(\"shirt\")   \n",
    "\n",
    "elif \"need\" in a:   \n",
    "    print(\"need\")   \n",
    "    \n",
    "else: print(\"none\") "
   ]
  },
  {
   "cell_type": "code",
   "execution_count": 18,
   "id": "ff1abf01-c72b-4eb4-b9ca-ced7821010a4",
   "metadata": {},
   "outputs": [
    {
     "name": "stdout",
     "output_type": "stream",
     "text": [
      "shirt\n"
     ]
    }
   ],
   "source": [
    "a = \"Life is too short, you need python\"   \n",
    "   \n",
    "if \"wife\" in a:   \n",
    "    print(\"wife\")   \n",
    "   \n",
    "elif \"python\" in a and \"you\" not in a:   \n",
    "    print(\"python\")   \n",
    "\n",
    "elif \"shirt\" not in a:   \n",
    "    print(\"shirt\")   \n",
    "\n",
    "elif \"need\" in a:   \n",
    "    print(\"need\")   \n",
    "    \n",
    "else: print(\"none\")"
   ]
  },
  {
   "cell_type": "markdown",
   "id": "9e7ea72a-8c3c-47d9-86ca-54ed0a1562a6",
   "metadata": {},
   "source": [
    "10. 휴대폰 번호 앞자리에 따라 통신사는 아래와 같이 구분된다.   \n",
    "사용자로부터 휴대전화 번호를 입력 받고, 통신사를 출력하는 프로그램을 작성하라.   \n",
    "|번호|통신사|\n",
    "|-|-|   \n",
    "|011|SKT|\n",
    "|016|KT|\n",
    "|019|LGU|\n",
    "|010|알수없음|"
   ]
  },
  {
   "cell_type": "code",
   "execution_count": 20,
   "id": "7e4728a4-9da0-49d7-a56a-22cd9ea5e9a8",
   "metadata": {},
   "outputs": [
    {
     "name": "stdin",
     "output_type": "stream",
     "text": [
      " 010 5271 6443\n"
     ]
    },
    {
     "name": "stdout",
     "output_type": "stream",
     "text": [
      "알수없음\n"
     ]
    }
   ],
   "source": [
    "phone = input()\n",
    "\n",
    "if \"-\" in phone:\n",
    "    phone = phone.replace(\"-\",\"\")\n",
    "elif \" \" in phone:\n",
    "    phone = phone.replace(\" \", \"\")\n",
    "\n",
    "print(\"알수없음\" if phone[:3] == \"010\" else \"SKT\" if phone[:3] == \"011\" else \"KT\" if phone[:3] == \"016\" else \"LGU\")"
   ]
  },
  {
   "cell_type": "markdown",
   "id": "6b3eb921-487c-46f7-8f7b-3d35d22a5316",
   "metadata": {},
   "source": [
    "11. 주민등록번호는 13자리로 구성되는데 마지막 자리수는 주민등록번호의 유효성을 체크하는데 사용된다.   \n",
    "먼저 앞에서부터 12자리의 숫자에 2, 3, 4, 5, 6, 7, 8, 9, 2, 3, 4, 5를 차례로 곱한 뒤 그 값을 전부 더한다.   \n",
    "연산 결과 값을 11로 나누면 나머지가 나오는데 11에서 나머지를 뺀 값이 주민등록번호의 마지막 번호가 된다.   "
   ]
  },
  {
   "cell_type": "code",
   "execution_count": 39,
   "id": "bf3406c8-3e79-4ae0-9c0d-8e38260ebd3c",
   "metadata": {},
   "outputs": [
    {
     "name": "stdin",
     "output_type": "stream",
     "text": [
      " 321\n",
      " 123\n",
      " 0003223331111\n"
     ]
    },
    {
     "name": "stdout",
     "output_type": "stream",
     "text": [
      "['0', '0', '0', '3', '2', '2', '3', '3', '3', '1', '1', '1', '1']\n",
      "['0', '0', '0', '3', '2', '2', '3', '3', '3', '1', '1', '1']\n",
      "False\n"
     ]
    }
   ],
   "source": [
    "num =\"\"\n",
    "\n",
    "\n",
    "while True:\n",
    "    num = input()\n",
    "\n",
    "    if \"-\" in num:\n",
    "        num = num.replace(\"-\",\"\")\n",
    "    elif \" \" in num:\n",
    "        num = num.replace(\" \", \"\")\n",
    "    \n",
    "    if len(num) != 13:\n",
    "        continue\n",
    "    else:\n",
    "        break\n",
    "\n",
    "\n",
    "\n",
    "num = list(num)\n",
    "num12 = num[0:12]\n",
    "chksum = [2, 3, 4, 5, 6, 7, 8, 9, 2, 3, 4, 5]\n",
    "\n",
    "tmp = 0\n",
    "print(num)\n",
    "print(num12)\n",
    "for i, j in zip(chksum, num):\n",
    "    tmp += (i*int(j))\n",
    "    \n",
    "print(num[-1] == 11 - (tmp%11))    "
   ]
  },
  {
   "cell_type": "markdown",
   "id": "64eb4c26-41fd-4ddf-a842-c27a419d631a",
   "metadata": {},
   "source": [
    "12. 아래 코드는 비트코인의 가격 정보를 딕셔너리로 가져오는 코드이다.   \n",
    "import requests   \n",
    "btc = requests.get(\"https://api.bithumb.com/public/ticker/\").json()['data']   \n",
    "btc 딕셔너리 안에는 시가, 종가, 최고가, 최저가 등이 저장되어 있다.   \n",
    "최고가와 최저가의 차이를 변동폭으로 정의할 때 (시가 + 변동폭)이 최고가 보다 높을 경우 \"상승장\",   \n",
    "그렇지 않은 경우 \"하락장\" 문자열을 출력하라.   \n",
    "   \n",
    "Key Name\tDescription   \n",
    "opening_price\t최근 24시간 내 시작 거래금액   \n",
    "closing_price\t최근 24시간 내 마지막 거래금액   \n",
    "min_price\t최근 24시간 내 최저 거래금액   \n",
    "max_price\t최근 24시간 내 최고 거래금액   "
   ]
  },
  {
   "cell_type": "code",
   "execution_count": 30,
   "id": "3fb1104c-8d87-4a39-a0c7-523c1faa8759",
   "metadata": {},
   "outputs": [],
   "source": [
    "import requests\n",
    "btc = requests.get(\"https://api.bithumb.com/public/ticker/\").json()['data']"
   ]
  },
  {
   "cell_type": "code",
   "execution_count": 34,
   "id": "871ed2b4-f49d-4364-91ba-1d7f553369eb",
   "metadata": {},
   "outputs": [
    {
     "name": "stdout",
     "output_type": "stream",
     "text": [
      "상승장\n"
     ]
    }
   ],
   "source": [
    "btc\n",
    "\n",
    "tmp = int(btc['max_price']) - int(btc['min_price'])\n",
    "print(\"상승장\" if tmp + int(btc['opening_price']) > int(btc['max_price']) else \"하락장\")"
   ]
  },
  {
   "cell_type": "code",
   "execution_count": 41,
   "id": "f6dbe76f-7b85-4a72-b89a-573cad997c1a",
   "metadata": {},
   "outputs": [
    {
     "data": {
      "text/plain": [
       "{'status': '0000',\n",
       " 'data': {'opening_price': '148687000',\n",
       "  'closing_price': '147109000',\n",
       "  'min_price': '146911000',\n",
       "  'max_price': '148900000',\n",
       "  'units_traded': '154.33392277',\n",
       "  'acc_trade_value': '22795013427.81776',\n",
       "  'prev_closing_price': '148698000',\n",
       "  'units_traded_24H': '309.61749456',\n",
       "  'acc_trade_value_24H': '45695104527.0101',\n",
       "  'fluctate_24H': '-393000',\n",
       "  'fluctate_rate_24H': '-0.27',\n",
       "  'date': '1749007893627'}}"
      ]
     },
     "execution_count": 41,
     "metadata": {},
     "output_type": "execute_result"
    }
   ],
   "source": [
    "requests.get(\"https://api.bithumb.com/public/ticker/\").json()"
   ]
  },
  {
   "cell_type": "markdown",
   "id": "9f52945c-b3a0-4774-b9bd-635cd6eebaad",
   "metadata": {},
   "source": [
    "14. 리스트에는 3일 간의 ohlc 데이터가 저장돼 있다. 시가에 매수해서 종가에 매도 했을 경우 총 수익금을 계산하라."
   ]
  },
  {
   "cell_type": "code",
   "execution_count": 42,
   "id": "a04624e2-498f-4007-8774-054d13d4be4a",
   "metadata": {},
   "outputs": [],
   "source": [
    "ohlc = [[\"open\", \"high\", \"low\", \"close\"],\n",
    "        [100, 110, 70, 100],\n",
    "        [200, 210, 180, 190],\n",
    "        [300, 310, 300, 310]]\n",
    "   "
   ]
  },
  {
   "cell_type": "code",
   "execution_count": 49,
   "id": "97a7c7fe-12f8-423c-88ad-ec7bb4436d65",
   "metadata": {},
   "outputs": [],
   "source": [
    "tmp = 0\n",
    "\n",
    "for i in range(1, len(ohlc)):\n",
    "    tmp += (ohlc[i][-1] - ohlc[i][0])"
   ]
  },
  {
   "cell_type": "code",
   "execution_count": 50,
   "id": "1e82e6d1-8039-46c7-b095-ae616af594c2",
   "metadata": {},
   "outputs": [
    {
     "data": {
      "text/plain": [
       "0"
      ]
     },
     "execution_count": 50,
     "metadata": {},
     "output_type": "execute_result"
    }
   ],
   "source": [
    "tmp"
   ]
  },
  {
   "cell_type": "code",
   "execution_count": 52,
   "id": "0f8a8c8c-0f73-438a-82b0-42f42862f659",
   "metadata": {},
   "outputs": [
    {
     "data": {
      "text/plain": [
       "45"
      ]
     },
     "execution_count": 52,
     "metadata": {},
     "output_type": "execute_result"
    }
   ],
   "source": [
    "sum(range(1, 10))"
   ]
  },
  {
   "cell_type": "code",
   "execution_count": null,
   "id": "3e1a22f1-0b78-4abf-804b-c5606688e5c0",
   "metadata": {},
   "outputs": [],
   "source": []
  }
 ],
 "metadata": {
  "kernelspec": {
   "display_name": "Python 3 (ipykernel)",
   "language": "python",
   "name": "python3"
  },
  "language_info": {
   "codemirror_mode": {
    "name": "ipython",
    "version": 3
   },
   "file_extension": ".py",
   "mimetype": "text/x-python",
   "name": "python",
   "nbconvert_exporter": "python",
   "pygments_lexer": "ipython3",
   "version": "3.12.9"
  }
 },
 "nbformat": 4,
 "nbformat_minor": 5
}
