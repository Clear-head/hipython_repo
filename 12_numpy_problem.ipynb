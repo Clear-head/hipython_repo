{
 "cells": [
  {
   "cell_type": "markdown",
   "id": "b8f470ee",
   "metadata": {},
   "source": [
    "# 쇼핑몰 매출 데이터 분석을 통한 NumPy 기본 연습 문제\n",
    "이 연습 문제들은 30일 동안의 쇼핑몰 매출 데이터를 분석하며, NumPy의 기본 기능을 실습하는 것을 목표로 합니다.\n",
    "\n",
    "## 문제 1: 매출 데이터에서 일일 평균 매출 계산하기\n",
    "- 설명: 30일 동안의 쇼핑몰 매출 데이터를 배열로 제공할 때, 일일 평균 매출을 계산하세요.\n",
    "- 힌트: np.mean() 함수를 사용하여 배열의 평균값을 계산합니다."
   ]
  },
  {
   "cell_type": "code",
   "execution_count": 119,
   "id": "da6a2374",
   "metadata": {},
   "outputs": [],
   "source": [
    "import numpy as np\n",
    "sales_data = np.array([2200, 2350, 2500, 2750, 3000, 3100, 2700, 2600, 2900, 3200,\n",
    "                       3400, 3600, 3300, 3100, 2900, 2700, 2800, 2900, 3100, 3200,\n",
    "                       3300, 3400, 3500, 3700, 3600, 3500, 3400, 3300, 3000, 3100])"
   ]
  },
  {
   "cell_type": "code",
   "execution_count": 120,
   "id": "66d150c9",
   "metadata": {},
   "outputs": [
    {
     "name": "stdout",
     "output_type": "stream",
     "text": [
      "3070.0\n"
     ]
    }
   ],
   "source": [
    "print(np.mean(sales_data))"
   ]
  },
  {
   "cell_type": "markdown",
   "id": "55145fb9",
   "metadata": {},
   "source": [
    "\n",
    "## 문제 2: 매출 데이터에서 최대 매출일과 최소 매출일 찾기\n",
    "- 설명: 매출 데이터에서 가장 높은 매출과 가장 낮은 매출을 기록한 날짜를 찾아보세요.\n",
    "- 힌트: np.argmax(), np.argmin()을 사용하여 최대값, 최소값의 인덱스를 찾습니다"
   ]
  },
  {
   "cell_type": "code",
   "execution_count": 121,
   "id": "4d07a7f6",
   "metadata": {},
   "outputs": [
    {
     "data": {
      "text/plain": [
       "(30,)"
      ]
     },
     "execution_count": 121,
     "metadata": {},
     "output_type": "execute_result"
    }
   ],
   "source": [
    "\n",
    "sales_data.shape"
   ]
  },
  {
   "cell_type": "code",
   "execution_count": 122,
   "id": "66f6c98b",
   "metadata": {},
   "outputs": [
    {
     "name": "stdout",
     "output_type": "stream",
     "text": [
      "최대 매출일 : 24, 최소 매출일 : 1\n",
      "최대 매출일 : 24, 최소 매출일 : 1\n"
     ]
    }
   ],
   "source": [
    "max_day = np.argmax(sales_data)\n",
    "min_day = np.argmin(sales_data)\n",
    "\n",
    "print(f'최대 매출일 : {max_day+1}, 최소 매출일 : {min_day+1}')\n",
    "\n",
    "max_day = sales_data.argmax()\n",
    "min_day = sales_data.argmin()\n",
    "\n",
    "print(f'최대 매출일 : {max_day+1}, 최소 매출일 : {min_day+1}')"
   ]
  },
  {
   "cell_type": "markdown",
   "id": "4322ac23",
   "metadata": {},
   "source": [
    "\n",
    "## 문제 3: 7일 단위로 매출 합계 계산하기\n",
    "- 설명: 30일 매출 데이터를 7일 단위로 나누어 각 주차별 매출 합계를 계산하세요.\n",
    "- 힌트: 배열을 슬라이싱하거나 reshape()를 사용하여 배열을 변환합니다."
   ]
  },
  {
   "cell_type": "code",
   "execution_count": 123,
   "id": "e217b82d",
   "metadata": {},
   "outputs": [
    {
     "data": {
      "text/plain": [
       "array([[2200, 2350, 2500, 2750, 3000, 3100, 2700],\n",
       "       [2600, 2900, 3200, 3400, 3600, 3300, 3100],\n",
       "       [2900, 2700, 2800, 2900, 3100, 3200, 3300],\n",
       "       [3400, 3500, 3700, 3600, 3500, 3400, 3300]])"
      ]
     },
     "execution_count": 123,
     "metadata": {},
     "output_type": "execute_result"
    }
   ],
   "source": [
    "\n",
    "sales_data[:28].reshape(4,7)"
   ]
  },
  {
   "cell_type": "code",
   "execution_count": 132,
   "id": "ad6c11f1",
   "metadata": {},
   "outputs": [
    {
     "data": {
      "text/plain": [
       "array([[2200, 2350, 2500, 2750, 3000, 3100, 2700],\n",
       "       [2600, 2900, 3200, 3400, 3600, 3300, 3100],\n",
       "       [2900, 2700, 2800, 2900, 3100, 3200, 3300],\n",
       "       [3400, 3500, 3700, 3600, 3500, 3400, 3300],\n",
       "       [3000, 3100,    0,    0,    0,    0,    0]])"
      ]
     },
     "execution_count": 132,
     "metadata": {},
     "output_type": "execute_result"
    }
   ],
   "source": [
    "\n",
    "weekly_data = np.pad(sales_data, (0,5), 'constant', constant_values=0).reshape(5,7)\n",
    "weekly_data"
   ]
  },
  {
   "cell_type": "code",
   "execution_count": 133,
   "id": "e6afe470",
   "metadata": {},
   "outputs": [
    {
     "data": {
      "text/plain": [
       "array([18600, 22100, 20900, 24400,  6100])"
      ]
     },
     "execution_count": 133,
     "metadata": {},
     "output_type": "execute_result"
    }
   ],
   "source": [
    "weekly_data.sum(axis=0)\n",
    "weekly_data.sum(axis=1)"
   ]
  },
  {
   "cell_type": "markdown",
   "id": "0d6759c2",
   "metadata": {},
   "source": [
    "## 문제 4: 매출 데이터에서 특정 조건에 맞는 매출 데이터 필터링하기\n",
    "- 설명: 매출이 3000 이상인 날들의 매출만 필터링하여 보여주세요.\n",
    "- 힌트: 배열에서 조건 필터링을 사용하는 방법을 익힙니다."
   ]
  },
  {
   "cell_type": "code",
   "execution_count": 125,
   "id": "3060d6f9",
   "metadata": {},
   "outputs": [
    {
     "data": {
      "text/plain": [
       "array([3000, 3100, 3200, 3400, 3600, 3300, 3100, 3100, 3200, 3300, 3400,\n",
       "       3500, 3700, 3600, 3500, 3400, 3300, 3000, 3100])"
      ]
     },
     "execution_count": 125,
     "metadata": {},
     "output_type": "execute_result"
    }
   ],
   "source": [
    "sales_data[sales_data >= 3000]"
   ]
  },
  {
   "cell_type": "markdown",
   "id": "8c9288ff",
   "metadata": {},
   "source": [
    "## 문제 5: 특정 범위 내 매출의 평균값 계산하기\n",
    "- 설명: 매출이 2800에서 3500 사이인 날들의 평균 매출을 계산하세요.\n",
    "- 힌트: 조건 필터링 후 np.mean()을 사용하여 계산합니다."
   ]
  },
  {
   "cell_type": "code",
   "execution_count": 126,
   "id": "171ebdb5",
   "metadata": {},
   "outputs": [
    {
     "name": "stdout",
     "output_type": "stream",
     "text": [
      "3170.0\n"
     ]
    }
   ],
   "source": [
    "tmp = sales_data[sales_data <= 3500]\n",
    "tmp = tmp[tmp >= 2800]\n",
    "\n",
    "print(tmp.mean())"
   ]
  },
  {
   "cell_type": "markdown",
   "id": "15ba6dd0",
   "metadata": {},
   "source": [
    "### 매출의 중앙값"
   ]
  },
  {
   "cell_type": "code",
   "execution_count": 127,
   "id": "5d414349",
   "metadata": {},
   "outputs": [
    {
     "data": {
      "text/plain": [
       "np.float64(3100.0)"
      ]
     },
     "execution_count": 127,
     "metadata": {},
     "output_type": "execute_result"
    }
   ],
   "source": [
    "np.median(sales_data)"
   ]
  },
  {
   "cell_type": "markdown",
   "id": "4b5556e4",
   "metadata": {},
   "source": [
    "### 주차별 평균계산"
   ]
  },
  {
   "cell_type": "code",
   "execution_count": null,
   "id": "e40e4a1b",
   "metadata": {},
   "outputs": [
    {
     "name": "stdout",
     "output_type": "stream",
     "text": [
      "[2200 2350 2500 2750 3000 3100 2700 2600 2900 3200 3400 3600 3300 3100\n",
      " 2900 2700 2800 2900 3100 3200 3300 3400 3500 3700 3600 3500 3400 3300\n",
      " 3000 3100]\n",
      "[2200 2350 2500 2750 3000 3100 2700]\n",
      "2657.1428571428573\n",
      "[2600 2900 3200 3400 3600 3300 3100]\n",
      "3157.1428571428573\n",
      "[2900 2700 2800 2900 3100 3200 3300]\n",
      "2985.714285714286\n",
      "[3400 3500 3700 3600 3500 3400 3300]\n",
      "3485.714285714286\n"
     ]
    },
    {
     "data": {
      "text/plain": [
       "array([18600, 22100, 20900, 24400,  6100])"
      ]
     },
     "execution_count": 131,
     "metadata": {},
     "output_type": "execute_result"
    }
   ],
   "source": [
    "print(sales_data)\n",
    "for i in range(4):\n",
    "    week = sales_data[i * 7 : i * 7 + 7]\n",
    "    print(week)\n",
    "    print(week.mean())\n",
    "\n"
   ]
  },
  {
   "cell_type": "code",
   "execution_count": 129,
   "id": "ef62b9a4",
   "metadata": {},
   "outputs": [
    {
     "name": "stdout",
     "output_type": "stream",
     "text": [
      "[2200 2350 2500 2750 3000 3100 2700 2600 2900 3200 3400 3600 3300 3100\n",
      " 2900 2700 2800 2900 3100 3200 3300 3400 3500 3700 3600 3500 3400 3300\n",
      " 3000 3100]\n",
      "18 11\n",
      "18 11\n"
     ]
    }
   ],
   "source": [
    "print(sales_data)\n",
    "yesterday = sales_data[0]\n",
    "up = 0\n",
    "down = 0\n",
    "for i in sales_data:\n",
    "    if yesterday < i:\n",
    "        up += 1\n",
    "    elif yesterday > i:\n",
    "        down +=1\n",
    "\n",
    "    yesterday = i\n",
    "###############################################\n",
    "print(up, down)\n",
    "up = 0\n",
    "down = 0\n",
    "for i in np.diff(sales_data):\n",
    "    if i > 0:\n",
    "        up += 1 \n",
    "    else:\n",
    "        down += 1\n",
    "print(up, down)"
   ]
  },
  {
   "cell_type": "code",
   "execution_count": 134,
   "id": "d64f0e13",
   "metadata": {},
   "outputs": [
    {
     "data": {
      "text/plain": [
       "[<matplotlib.lines.Line2D at 0x220a326e3c0>]"
      ]
     },
     "execution_count": 134,
     "metadata": {},
     "output_type": "execute_result"
    },
    {
     "data": {
      "image/png": "[encoded data removed]",
      "text/plain": [
       "<Figure size 640x480 with 1 Axes>"
      ]
     },
     "metadata": {},
     "output_type": "display_data"
    }
   ],
   "source": [
    "import matplotlib.pyplot as plt\n",
    "\n",
    "w_mean = weekly_data.mean(axis=1)\n",
    "plt.plot(w_mean)"
   ]
  },
  {
   "cell_type": "code",
   "execution_count": null,
   "id": "34c83a23",
   "metadata": {},
   "outputs": [],
   "source": []
  },
  {
   "cell_type": "code",
   "execution_count": null,
   "id": "1264f44c",
   "metadata": {},
   "outputs": [],
   "source": []
  },
  {
   "cell_type": "code",
   "execution_count": null,
   "id": "2e294249",
   "metadata": {},
   "outputs": [],
   "source": []
  },
  {
   "cell_type": "code",
   "execution_count": null,
   "id": "12779331",
   "metadata": {},
   "outputs": [],
   "source": []
  },
  {
   "cell_type": "code",
   "execution_count": null,
   "id": "4f4c13ad",
   "metadata": {},
   "outputs": [],
   "source": []
  },
  {
   "cell_type": "code",
   "execution_count": null,
   "id": "d2d9e18a",
   "metadata": {},
   "outputs": [],
   "source": []
  },
  {
   "cell_type": "code",
   "execution_count": null,
   "id": "5e26624a",
   "metadata": {},
   "outputs": [],
   "source": []
  },
  {
   "cell_type": "code",
   "execution_count": null,
   "id": "b2f9cd87",
   "metadata": {},
   "outputs": [],
   "source": []
  },
  {
   "cell_type": "code",
   "execution_count": null,
   "id": "307c93ae",
   "metadata": {},
   "outputs": [],
   "source": []
  },
  {
   "cell_type": "code",
   "execution_count": null,
   "id": "694311d9",
   "metadata": {},
   "outputs": [],
   "source": []
  },
  {
   "cell_type": "code",
   "execution_count": null,
   "id": "aa3211a9",
   "metadata": {},
   "outputs": [],
   "source": []
  },
  {
   "cell_type": "code",
   "execution_count": null,
   "id": "ad687713",
   "metadata": {},
   "outputs": [],
   "source": []
  },
  {
   "cell_type": "code",
   "execution_count": null,
   "id": "901171c8",
   "metadata": {},
   "outputs": [],
   "source": []
  },
  {
   "cell_type": "code",
   "execution_count": null,
   "id": "aaa07aac",
   "metadata": {},
   "outputs": [],
   "source": []
  },
  {
   "cell_type": "code",
   "execution_count": null,
   "id": "ab249d9b",
   "metadata": {},
   "outputs": [],
   "source": []
  },
  {
   "cell_type": "code",
   "execution_count": null,
   "id": "ad345810",
   "metadata": {},
   "outputs": [],
   "source": []
  },
  {
   "cell_type": "code",
   "execution_count": null,
   "id": "8bf08233",
   "metadata": {},
   "outputs": [],
   "source": []
  }
 ],
 "metadata": {
  "kernelspec": {
   "display_name": "hipython",
   "language": "python",
   "name": "python3"
  },
  "language_info": {
   "codemirror_mode": {
    "name": "ipython",
    "version": 3
   },
   "file_extension": ".py",
   "mimetype": "text/x-python",
   "name": "python",
   "nbconvert_exporter": "python",
   "pygments_lexer": "ipython3",
   "version": "3.12.9"
  }
 },
 "nbformat": 4,
 "nbformat_minor": 5
}
