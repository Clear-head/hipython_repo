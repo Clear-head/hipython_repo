{
 "cells": [
  {
   "cell_type": "markdown",
   "id": "c552c622-1673-47d1-a970-bc5aa7dcbcfb",
   "metadata": {},
   "source": [
    "# 들어가기 : 주석"
   ]
  },
  {
   "cell_type": "code",
   "execution_count": 3,
   "id": "fe96cf82-ee97-4eb9-9532-f47eddcd86f4",
   "metadata": {},
   "outputs": [
    {
     "name": "stdout",
     "output_type": "stream",
     "text": [
      "hello world!\n"
     ]
    }
   ],
   "source": [
    "print('hello world!')"
   ]
  },
  {
   "cell_type": "code",
   "execution_count": 4,
   "id": "ea929379-f5de-4862-af52-454970a9ebd1",
   "metadata": {},
   "outputs": [],
   "source": [
    "age = input"
   ]
  },
  {
   "cell_type": "code",
   "execution_count": 5,
   "id": "4f7a3339-fba9-4311-80d6-62d63fdb1767",
   "metadata": {},
   "outputs": [
    {
     "name": "stdin",
     "output_type": "stream",
     "text": [
      " asd\n"
     ]
    },
    {
     "name": "stdout",
     "output_type": "stream",
     "text": [
      "asd\n"
     ]
    }
   ],
   "source": [
    "print(age())"
   ]
  },
  {
   "cell_type": "code",
   "execution_count": 6,
   "id": "e4e6afb6-942d-4bc4-89f4-dbb0b5a82d16",
   "metadata": {},
   "outputs": [],
   "source": [
    "def calculate_sum(a, b, operator):\n",
    "    if operator == '+':\n",
    "        return a + b\n",
    "    elif operator == '-':\n",
    "        return a - b\n",
    "    elif operator == '*':\n",
    "        return a * b\n",
    "    elif operator == '/' or operator == '//':\n",
    "        return a // b"
   ]
  },
  {
   "cell_type": "code",
   "execution_count": 7,
   "id": "52e1a98d-acca-4e8a-8573-48df26f06eee",
   "metadata": {},
   "outputs": [
    {
     "name": "stdout",
     "output_type": "stream",
     "text": [
      "9999\n"
     ]
    }
   ],
   "source": [
    "print(calculate_sum(10000, 1, '-'))"
   ]
  },
  {
   "cell_type": "markdown",
   "id": "7d824ed5-704b-43a3-8c25-4ae3ed2b69f6",
   "metadata": {},
   "source": [
    "# 변수    "
   ]
  },
  {
   "cell_type": "code",
   "execution_count": 9,
   "id": "809311d3-00f1-40e5-ae8d-42cf400b28a7",
   "metadata": {},
   "outputs": [
    {
     "name": "stdin",
     "output_type": "stream",
     "text": [
      "당신의 나이를 입력 하시오 :  26\n"
     ]
    },
    {
     "data": {
      "text/plain": [
       "'26'"
      ]
     },
     "execution_count": 9,
     "metadata": {},
     "output_type": "execute_result"
    }
   ],
   "source": [
    "age = input('당신의 나이를 입력 하시오 : ')\n",
    "age"
   ]
  },
  {
   "cell_type": "code",
   "execution_count": 10,
   "id": "cb43f3fb-27c1-425c-b2f8-0adfefb0bcfa",
   "metadata": {},
   "outputs": [
    {
     "name": "stdin",
     "output_type": "stream",
     "text": [
      "이름 :  사석훈\n"
     ]
    },
    {
     "data": {
      "text/plain": [
       "'사석훈'"
      ]
     },
     "execution_count": 10,
     "metadata": {},
     "output_type": "execute_result"
    }
   ],
   "source": [
    "name = input('이름 : ')\n",
    "name"
   ]
  },
  {
   "cell_type": "code",
   "execution_count": 11,
   "id": "1ef4672b-4208-41ad-908a-85e8acd4d83e",
   "metadata": {},
   "outputs": [
    {
     "data": {
      "text/plain": [
       "'26사석훈'"
      ]
     },
     "execution_count": 11,
     "metadata": {},
     "output_type": "execute_result"
    }
   ],
   "source": [
    "age + name"
   ]
  },
  {
   "cell_type": "code",
   "execution_count": 12,
   "id": "5db4166e-3ca7-4a97-83a2-2e576804757a",
   "metadata": {},
   "outputs": [
    {
     "data": {
      "text/plain": [
       "('26', '사석훈')"
      ]
     },
     "execution_count": 12,
     "metadata": {},
     "output_type": "execute_result"
    }
   ],
   "source": [
    "age, name"
   ]
  },
  {
   "cell_type": "markdown",
   "id": "71634f0f-b4e8-44b2-b0fa-7c9b8a8beb23",
   "metadata": {},
   "source": [
    "# 연습"
   ]
  },
  {
   "cell_type": "code",
   "execution_count": 13,
   "id": "85d70a98-e1ec-413f-a982-0af5a61abbd8",
   "metadata": {},
   "outputs": [],
   "source": [
    "# 이름으로 3행시"
   ]
  },
  {
   "cell_type": "code",
   "execution_count": 14,
   "id": "5bfa0fa2-64f1-4e85-b41a-d2c080c18611",
   "metadata": {},
   "outputs": [
    {
     "name": "stdout",
     "output_type": "stream",
     "text": [
      "사: 사석훈\n",
      "석: 석훈\n",
      "훈: 훈\n"
     ]
    }
   ],
   "source": [
    "print(\"사: 사먹기에\")\n",
    "print(\"석: 석~ 좋지않은\")\n",
    "print(\"훈: 훈제고기\")"
   ]
  },
  {
   "cell_type": "code",
   "execution_count": 17,
   "id": "da1a97da-7b9b-4f76-a9ff-ceddb51717b8",
   "metadata": {},
   "outputs": [
    {
     "name": "stdin",
     "output_type": "stream",
     "text": [
      "사 ads\n",
      "석 asd\n",
      "훈 ads\n"
     ]
    }
   ],
   "source": [
    "poe = []\n",
    "for i in name:\n",
    "    poe.append(i + input(i))"
   ]
  },
  {
   "cell_type": "code",
   "execution_count": 18,
   "id": "4692e93c-8183-4070-bcec-4605f600d1d0",
   "metadata": {},
   "outputs": [
    {
     "data": {
      "text/plain": [
       "['ads', 'asd', 'ads']"
      ]
     },
     "execution_count": 18,
     "metadata": {},
     "output_type": "execute_result"
    }
   ],
   "source": [
    "poe"
   ]
  },
  {
   "cell_type": "markdown",
   "id": "8494a4d1-1cd5-438b-907f-c4e1425e9fdf",
   "metadata": {},
   "source": [
    "## 변수 명명 규칙\n",
    "첫글자 숫자 X   \n",
    "공백 X   \n",
    "띄어쓰기는 _ 로   \n",
    "snake case 지향   \n",
    "한글 지양   "
   ]
  },
  {
   "cell_type": "code",
   "execution_count": 21,
   "id": "f2fd06eb-a5df-4681-a128-6201a7a97b1b",
   "metadata": {},
   "outputs": [],
   "source": [
    "x = 10\n",
    "y = \"asd\"\n",
    "z = 3.141592"
   ]
  },
  {
   "cell_type": "code",
   "execution_count": 23,
   "id": "8b56e7e7-daed-4f67-a45e-a8352e6cf1de",
   "metadata": {},
   "outputs": [
    {
     "name": "stdout",
     "output_type": "stream",
     "text": [
      "<class 'int'> <class 'str'> <class 'float'>\n"
     ]
    }
   ],
   "source": [
    "print(type(x), type(y), type(z))"
   ]
  },
  {
   "cell_type": "code",
   "execution_count": 28,
   "id": "b3b4d2d7-5772-43c6-855f-ff46c7351f7f",
   "metadata": {},
   "outputs": [
    {
     "name": "stdout",
     "output_type": "stream",
     "text": [
      "10 10\n"
     ]
    }
   ],
   "source": [
    "a = 10\n",
    "b = a\n",
    "\n",
    "print(a, b)"
   ]
  },
  {
   "cell_type": "code",
   "execution_count": 29,
   "id": "fe0a1151-4742-40b1-b883-e9fb6261599d",
   "metadata": {},
   "outputs": [
    {
     "data": {
      "text/plain": [
       "(140719131536088, 140719131536088)"
      ]
     },
     "execution_count": 29,
     "metadata": {},
     "output_type": "execute_result"
    }
   ],
   "source": [
    "id(b), id(a)"
   ]
  },
  {
   "cell_type": "markdown",
   "id": "bf3f2156-f89a-4a2b-b17d-4e8c108409d3",
   "metadata": {},
   "source": [
    "## 변수\n",
    "- 지역변수\n",
    "- 전역변수\n",
    "- 정적변수"
   ]
  },
  {
   "cell_type": "code",
   "execution_count": 41,
   "id": "89a9d80d-be3a-4d33-9e39-3a55de5735d6",
   "metadata": {},
   "outputs": [],
   "source": [
    "# 지역변수\n",
    "def local_ex():\n",
    "    var = \"지역 변수\"\n",
    "    \n",
    "    print(\"In local\", var)"
   ]
  },
  {
   "cell_type": "code",
   "execution_count": 42,
   "id": "56bbce00-f44d-4a88-90f6-d9b55a1dad1a",
   "metadata": {},
   "outputs": [
    {
     "name": "stdout",
     "output_type": "stream",
     "text": [
      "In local 지역 변수\n"
     ]
    }
   ],
   "source": [
    "local_ex()\n",
    "# var"
   ]
  },
  {
   "cell_type": "code",
   "execution_count": 59,
   "id": "9a54e902-1961-41e1-b3f5-a9129c5f3bce",
   "metadata": {},
   "outputs": [
    {
     "data": {
      "text/plain": [
       "'전역변수'"
      ]
     },
     "execution_count": 59,
     "metadata": {},
     "output_type": "execute_result"
    }
   ],
   "source": [
    "global_var = '전역변수'\n",
    "global_var"
   ]
  },
  {
   "cell_type": "code",
   "execution_count": 60,
   "id": "e0db4862-5087-4b31-812f-abd0f6d51308",
   "metadata": {},
   "outputs": [],
   "source": [
    "# 지역변수\n",
    "def local_ex():\n",
    "    global_var = \"지역 변수\"\n",
    "    \n",
    "    print(\"In local\", global_var)\n",
    "    "
   ]
  },
  {
   "cell_type": "code",
   "execution_count": 61,
   "id": "ec65e3e0-1e0f-46a0-a93a-5740b0e458ac",
   "metadata": {},
   "outputs": [
    {
     "name": "stdout",
     "output_type": "stream",
     "text": [
      "In local 지역 변수\n"
     ]
    },
    {
     "data": {
      "text/plain": [
       "'전역변수'"
      ]
     },
     "execution_count": 61,
     "metadata": {},
     "output_type": "execute_result"
    }
   ],
   "source": [
    "local_ex()\n",
    "global_var"
   ]
  },
  {
   "cell_type": "markdown",
   "id": "e0b51138-d716-425b-b3bd-fe0d8ac7e862",
   "metadata": {},
   "source": [
    "위의 사례를 보면 함수 내부에 global 예약어를 사용하지 않는다면 내부와 외부가 같은 이름을 가지고있지만 다른 변수로 책정된다."
   ]
  },
  {
   "cell_type": "code",
   "execution_count": 62,
   "id": "48c6261e-33f4-487a-b1f7-b1068dfc3263",
   "metadata": {},
   "outputs": [
    {
     "name": "stdout",
     "output_type": "stream",
     "text": [
      "카운터 : 1\n",
      "카운터 : 2\n",
      "카운터 : 3\n"
     ]
    }
   ],
   "source": [
    "cnt = 0\n",
    "\n",
    "def increment_counter():\n",
    "    global cnt\n",
    "    cnt += 1\n",
    "    print(f\"카운터 : {cnt}\")\n",
    "\n",
    "increment_counter()\n",
    "increment_counter()\n",
    "increment_counter()"
   ]
  },
  {
   "cell_type": "code",
   "execution_count": 74,
   "id": "82a0dfeb-2be9-43fb-976e-293a5dce3be6",
   "metadata": {},
   "outputs": [
    {
     "data": {
      "text/plain": [
       "1685"
      ]
     },
     "execution_count": 74,
     "metadata": {},
     "output_type": "execute_result"
    }
   ],
   "source": [
    "a = 0b11010010101\n",
    "a"
   ]
  },
  {
   "cell_type": "code",
   "execution_count": 75,
   "id": "e4f3bdac-b36e-4910-a886-d75578b44b50",
   "metadata": {},
   "outputs": [
    {
     "data": {
      "text/plain": [
       "(256, 96)"
      ]
     },
     "execution_count": 75,
     "metadata": {},
     "output_type": "execute_result"
    }
   ],
   "source": [
    "16**2, 16*6"
   ]
  },
  {
   "cell_type": "markdown",
   "id": "40521adf-7ef8-48e9-bbd2-50d583973ec0",
   "metadata": {},
   "source": [
    "# float\n",
    "숫자e2 != 10^2 == 10**2\n",
    "\n",
    "숫자e-2 != 10^-2 == 10**-2"
   ]
  },
  {
   "cell_type": "code",
   "execution_count": 81,
   "id": "32bf14d4-9049-48e3-baf0-bf62029ef65f",
   "metadata": {},
   "outputs": [
    {
     "data": {
      "text/plain": [
       "1000.0"
      ]
     },
     "execution_count": 81,
     "metadata": {},
     "output_type": "execute_result"
    }
   ],
   "source": [
    "fa = 10e2\n",
    "fa"
   ]
  },
  {
   "cell_type": "code",
   "execution_count": 82,
   "id": "a39cd9f6-d570-4c5d-aaa3-cfd8315f8afe",
   "metadata": {},
   "outputs": [
    {
     "data": {
      "text/plain": [
       "0.1"
      ]
     },
     "execution_count": 82,
     "metadata": {},
     "output_type": "execute_result"
    }
   ],
   "source": [
    "fb = 10e-2\n",
    "fb"
   ]
  },
  {
   "cell_type": "code",
   "execution_count": 84,
   "id": "4f681240-9313-435c-becc-5568840c1a7b",
   "metadata": {},
   "outputs": [
    {
     "data": {
      "text/plain": [
       "3141500000.0"
      ]
     },
     "execution_count": 84,
     "metadata": {},
     "output_type": "execute_result"
    }
   ],
   "source": [
    "fc = 3.1415e9\n",
    "fc"
   ]
  },
  {
   "cell_type": "markdown",
   "id": "d073df18-b71c-4a12-99cd-0974f3cbd5ee",
   "metadata": {},
   "source": [
    "# Boolean\n",
    "\n",
    "True - False\n",
    "논리연산, 비교연산"
   ]
  },
  {
   "cell_type": "code",
   "execution_count": 86,
   "id": "ddd20d7f-b444-42e0-8335-1b7872b5ae9e",
   "metadata": {},
   "outputs": [
    {
     "data": {
      "text/plain": [
       "(True, 'true')"
      ]
     },
     "execution_count": 86,
     "metadata": {},
     "output_type": "execute_result"
    }
   ],
   "source": [
    "ba = True\n",
    "bb = \"true\"\n",
    "ba,bb"
   ]
  },
  {
   "cell_type": "code",
   "execution_count": 96,
   "id": "0c4a6482-5c41-473a-ab6b-4ae3ecb9b96f",
   "metadata": {},
   "outputs": [
    {
     "data": {
      "text/plain": [
       "1"
      ]
     },
     "execution_count": 96,
     "metadata": {},
     "output_type": "execute_result"
    }
   ],
   "source": [
    "1 | 0"
   ]
  },
  {
   "cell_type": "code",
   "execution_count": 97,
   "id": "ac4a004e-1c84-497d-bd7e-98fe4e2431ff",
   "metadata": {},
   "outputs": [
    {
     "data": {
      "text/plain": [
       "-2"
      ]
     },
     "execution_count": 97,
     "metadata": {},
     "output_type": "execute_result"
    }
   ],
   "source": [
    "~1"
   ]
  },
  {
   "cell_type": "code",
   "execution_count": 98,
   "id": "5ad5feb7-aeec-4949-ab4a-d41966945e2a",
   "metadata": {},
   "outputs": [
    {
     "data": {
      "text/plain": [
       "-1"
      ]
     },
     "execution_count": 98,
     "metadata": {},
     "output_type": "execute_result"
    }
   ],
   "source": [
    "~0"
   ]
  },
  {
   "cell_type": "code",
   "execution_count": 99,
   "id": "fc269b7a-3155-4bb0-881b-f04ebace9195",
   "metadata": {},
   "outputs": [
    {
     "data": {
      "text/plain": [
       "1"
      ]
     },
     "execution_count": 99,
     "metadata": {},
     "output_type": "execute_result"
    }
   ],
   "source": [
    "int(True)"
   ]
  },
  {
   "cell_type": "markdown",
   "id": "374b656b-10a1-4762-9a23-f6f80d016a8a",
   "metadata": {},
   "source": [
    "# String"
   ]
  },
  {
   "cell_type": "code",
   "execution_count": 113,
   "id": "bcd67218-fcd3-4b9c-9956-5b64c3ff9b3e",
   "metadata": {},
   "outputs": [
    {
     "data": {
      "text/plain": [
       "'2'"
      ]
     },
     "execution_count": 113,
     "metadata": {},
     "output_type": "execute_result"
    }
   ],
   "source": [
    "a = '20250528Rabcd'\n",
    "a[0]"
   ]
  },
  {
   "cell_type": "code",
   "execution_count": 114,
   "id": "6bf8e0db-79cd-491c-ab36-b531196ecb7b",
   "metadata": {},
   "outputs": [
    {
     "data": {
      "text/plain": [
       "'5'"
      ]
     },
     "execution_count": 114,
     "metadata": {},
     "output_type": "execute_result"
    }
   ],
   "source": [
    "a[3]"
   ]
  },
  {
   "cell_type": "code",
   "execution_count": 115,
   "id": "71a4c131-7cd8-4481-b0b9-e7129edf4407",
   "metadata": {},
   "outputs": [
    {
     "data": {
      "text/plain": [
       "('202', '202')"
      ]
     },
     "execution_count": 115,
     "metadata": {},
     "output_type": "execute_result"
    }
   ],
   "source": [
    "a[:3], a[0:3]"
   ]
  },
  {
   "cell_type": "code",
   "execution_count": 116,
   "id": "97a35b2a-594f-48df-8ee6-82b85f2571a3",
   "metadata": {},
   "outputs": [
    {
     "data": {
      "text/plain": [
       "'Rab'"
      ]
     },
     "execution_count": 116,
     "metadata": {},
     "output_type": "execute_result"
    }
   ],
   "source": [
    "a[8:11]"
   ]
  },
  {
   "cell_type": "code",
   "execution_count": 117,
   "id": "e738dec5-bf4b-4a52-8489-9524509775b6",
   "metadata": {},
   "outputs": [
    {
     "name": "stdout",
     "output_type": "stream",
     "text": [
      "True\n"
     ]
    }
   ],
   "source": [
    "s = 'abc'\n",
    "a = s\n",
    "print(a is s)"
   ]
  },
  {
   "cell_type": "code",
   "execution_count": 118,
   "id": "5f7071f6-cbee-49b6-82be-951e79d55fe5",
   "metadata": {},
   "outputs": [],
   "source": [
    "b = s[:]"
   ]
  },
  {
   "cell_type": "code",
   "execution_count": 120,
   "id": "05eee742-1483-4e51-8cdd-523b8a49510f",
   "metadata": {},
   "outputs": [
    {
     "name": "stdout",
     "output_type": "stream",
     "text": [
      "True\n"
     ]
    }
   ],
   "source": [
    "print(b is s)"
   ]
  },
  {
   "cell_type": "code",
   "execution_count": 121,
   "id": "aeb55eab-1a45-467f-ae8a-f632672f5f54",
   "metadata": {},
   "outputs": [
    {
     "data": {
      "text/plain": [
       "True"
      ]
     },
     "execution_count": 121,
     "metadata": {},
     "output_type": "execute_result"
    }
   ],
   "source": [
    "a is b"
   ]
  },
  {
   "cell_type": "code",
   "execution_count": 124,
   "id": "9e26020f-e977-42da-96c0-565806b4ab55",
   "metadata": {},
   "outputs": [],
   "source": [
    "a = [1, 2, 3]\n",
    "b = a\n",
    "b = [1, 2]"
   ]
  },
  {
   "cell_type": "code",
   "execution_count": 125,
   "id": "b9291550-699b-4323-b367-8ce10e1e6b0a",
   "metadata": {},
   "outputs": [
    {
     "data": {
      "text/plain": [
       "([1, 2, 3], [1, 2])"
      ]
     },
     "execution_count": 125,
     "metadata": {},
     "output_type": "execute_result"
    }
   ],
   "source": [
    "a, b"
   ]
  },
  {
   "cell_type": "code",
   "execution_count": null,
   "id": "c6ba1d6a-f136-4dd1-929b-97d04ca1ee45",
   "metadata": {},
   "outputs": [],
   "source": []
  }
 ],
 "metadata": {
  "kernelspec": {
   "display_name": "Python 3 (ipykernel)",
   "language": "python",
   "name": "python3"
  },
  "language_info": {
   "codemirror_mode": {
    "name": "ipython",
    "version": 3
   },
   "file_extension": ".py",
   "mimetype": "text/x-python",
   "name": "python",
   "nbconvert_exporter": "python",
   "pygments_lexer": "ipython3",
   "version": "3.12.9"
  }
 },
 "nbformat": 4,
 "nbformat_minor": 5
}
