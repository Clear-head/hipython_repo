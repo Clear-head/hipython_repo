{
 "cells": [
  {
   "cell_type": "markdown",
   "id": "1f9645ca-f4d1-443b-8bef-d66500099059",
   "metadata": {},
   "source": [
    "# 조건문"
   ]
  },
  {
   "cell_type": "code",
   "execution_count": 8,
   "id": "8674b2f5-cebd-4869-b6ed-733296ada354",
   "metadata": {},
   "outputs": [
    {
     "name": "stdin",
     "output_type": "stream",
     "text": [
      "수식 형태로 입력 하시오. 1  % 3\n"
     ]
    }
   ],
   "source": [
    "formula = list(input(\"수식 형태로 입력 하시오.\").split())"
   ]
  },
  {
   "cell_type": "code",
   "execution_count": 9,
   "id": "7da5eb6a-d278-4bfd-a093-342e56c7353c",
   "metadata": {},
   "outputs": [
    {
     "name": "stdout",
     "output_type": "stream",
     "text": [
      "답은 1\n"
     ]
    }
   ],
   "source": [
    "opr_list = [\"+\", \"-\", \"*\", \"/\", \"%\"]\n",
    "\n",
    "formula[0] = int(formula[0])\n",
    "formula[2] = int(formula[2])\n",
    "\n",
    "if opr_list[0] == formula[1]:\n",
    "    print(f\"답은 {formula[0] + formula[2]}\")\n",
    "    \n",
    "elif opr_list[1] == formula[1]:\n",
    "    print(f\"답은 {formula[0] - formula[2]}\")\n",
    "    \n",
    "elif opr_list[2] == formula[1]:\n",
    "    print(f\"답은 {formula[0] * formula[2]}\")\n",
    "    \n",
    "elif opr_list[3] == formula[1]:\n",
    "    print(f\"답은 {formula[0] / formula[2]}\")\n",
    "    \n",
    "elif opr_list[4] == formula[1]:\n",
    "    print(f\"답은 {formula[0] % formula[2]}\")\n",
    "    \n",
    "else:\n",
    "    print(\"계산 불가\")"
   ]
  },
  {
   "cell_type": "markdown",
   "id": "b0a08e8f-b78c-48d0-9186-ba9cbccc86c2",
   "metadata": {},
   "source": [
    "# 1줄로 쓰기"
   ]
  },
  {
   "cell_type": "code",
   "execution_count": 11,
   "id": "fb4a6614-96eb-4f09-ae5d-58bff5895a23",
   "metadata": {},
   "outputs": [
    {
     "name": "stdin",
     "output_type": "stream",
     "text": [
      "졸려? ㅇ\n"
     ]
    },
    {
     "name": "stdout",
     "output_type": "stream",
     "text": [
      "쉽시다\n"
     ]
    }
   ],
   "source": [
    "stat = input(\"졸려?\")\n",
    "case = [\"dd\", \"ㅇㅇ\", \"ㅇ\", \"졸려\", \"졸리다\", \"맞아\", \"d\", \"개졸려\"]\n",
    "\n",
    "print(\"쉽시다\" if stat in case else \"화이팅\")"
   ]
  },
  {
   "cell_type": "code",
   "execution_count": null,
   "id": "a7ed6916-bd4a-4e42-9b8d-a71db553e0c5",
   "metadata": {},
   "outputs": [],
   "source": []
  }
 ],
 "metadata": {
  "kernelspec": {
   "display_name": "Python 3 (ipykernel)",
   "language": "python",
   "name": "python3"
  },
  "language_info": {
   "codemirror_mode": {
    "name": "ipython",
    "version": 3
   },
   "file_extension": ".py",
   "mimetype": "text/x-python",
   "name": "python",
   "nbconvert_exporter": "python",
   "pygments_lexer": "ipython3",
   "version": "3.12.9"
  }
 },
 "nbformat": 4,
 "nbformat_minor": 5
}
