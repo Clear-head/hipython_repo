{
 "cells": [
  {
   "cell_type": "markdown",
   "id": "fc680831-6a5a-492a-907b-9f68103f8f3d",
   "metadata": {},
   "source": [
    "# 인코딩"
   ]
  },
  {
   "cell_type": "code",
   "execution_count": 7,
   "id": "8aedb00c-d0a4-4fca-b0d4-0efc168e52cb",
   "metadata": {},
   "outputs": [
    {
     "data": {
      "text/plain": [
       "b'\\xea\\xb0\\x80\\xeb\\x82\\x98\\xeb\\x8b\\xa4'"
      ]
     },
     "execution_count": 7,
     "metadata": {},
     "output_type": "execute_result"
    }
   ],
   "source": [
    "text = \"가나다\"\n",
    "\n",
    "encode_text = text.encode('utf-8')\n",
    "encode_text"
   ]
  },
  {
   "cell_type": "code",
   "execution_count": 8,
   "id": "130ba513-c666-4ff8-b8a4-bfc2dd9a7653",
   "metadata": {},
   "outputs": [
    {
     "data": {
      "text/plain": [
       "'가나다'"
      ]
     },
     "execution_count": 8,
     "metadata": {},
     "output_type": "execute_result"
    }
   ],
   "source": [
    "decode_text = encode_text.decode('utf-8')\n",
    "decode_text"
   ]
  },
  {
   "cell_type": "code",
   "execution_count": 11,
   "id": "5cb6e89c-2dff-4098-83bc-89895ec2cfe0",
   "metadata": {},
   "outputs": [
    {
     "name": "stdout",
     "output_type": "stream",
     "text": [
      "a\n",
      "b\n",
      "c\n",
      "\n"
     ]
    }
   ],
   "source": [
    "txt1 = '''a\n",
    "b\n",
    "c\n",
    "'''\n",
    "print(txt1)"
   ]
  },
  {
   "cell_type": "markdown",
   "id": "2cd5cc5f-6577-422e-baa7-cdde694cc8f4",
   "metadata": {},
   "source": [
    "# str func\n",
    "\n",
    "dir()"
   ]
  },
  {
   "cell_type": "code",
   "execution_count": null,
   "id": "79038d8e-1485-4ea5-8c0c-be7e0fa7632d",
   "metadata": {},
   "outputs": [],
   "source": [
    "dir(text)"
   ]
  },
  {
   "cell_type": "code",
   "execution_count": 22,
   "id": "72f7961f-a251-4425-97fa-8e343b7ce390",
   "metadata": {},
   "outputs": [
    {
     "data": {
      "text/plain": [
       "'가나다4'"
      ]
     },
     "execution_count": 22,
     "metadata": {},
     "output_type": "execute_result"
    }
   ],
   "source": [
    "text.__add__(\"4\")\n"
   ]
  },
  {
   "cell_type": "code",
   "execution_count": 23,
   "id": "e7f5f917-19ed-40ef-a87c-eceb5f45527f",
   "metadata": {},
   "outputs": [
    {
     "data": {
      "text/plain": [
       "0"
      ]
     },
     "execution_count": 23,
     "metadata": {},
     "output_type": "execute_result"
    }
   ],
   "source": [
    "text.count(\"4\")"
   ]
  },
  {
   "cell_type": "code",
   "execution_count": 24,
   "id": "6e05664e-297f-4702-86d5-3858541adcfb",
   "metadata": {},
   "outputs": [
    {
     "data": {
      "text/plain": [
       "'가나다'"
      ]
     },
     "execution_count": 24,
     "metadata": {},
     "output_type": "execute_result"
    }
   ],
   "source": [
    "text"
   ]
  },
  {
   "cell_type": "markdown",
   "id": "be3606d9-c11c-41ac-b457-81e7142b6377",
   "metadata": {},
   "source": [
    "# 이스케이프 문자\n",
    "\n",
    "\\\\?"
   ]
  },
  {
   "cell_type": "code",
   "execution_count": 25,
   "id": "84de99c5-bf2c-4529-8ab7-a30ecc4b97d3",
   "metadata": {},
   "outputs": [
    {
     "name": "stdout",
     "output_type": "stream",
     "text": [
      "a\n",
      "a\n"
     ]
    }
   ],
   "source": [
    "# \\n\n",
    "\n",
    "txt = 'a\\na'\n",
    "print(txt)"
   ]
  },
  {
   "cell_type": "code",
   "execution_count": 26,
   "id": "f3dc3093-4425-45cf-b457-0dbb86b5e0b2",
   "metadata": {},
   "outputs": [
    {
     "name": "stdout",
     "output_type": "stream",
     "text": [
      "a\ta\n"
     ]
    }
   ],
   "source": [
    "# \\t\n",
    "txt = 'a\\ta'\n",
    "print(txt)"
   ]
  },
  {
   "cell_type": "code",
   "execution_count": 29,
   "id": "d205e3d3-d47c-41ab-b925-39577262134e",
   "metadata": {},
   "outputs": [
    {
     "name": "stdout",
     "output_type": "stream",
     "text": [
      "a\\a\n"
     ]
    }
   ],
   "source": [
    "# \\\\\n",
    "txt = 'a\\\\a'\n",
    "print(txt)"
   ]
  },
  {
   "cell_type": "code",
   "execution_count": 30,
   "id": "8897d9a8-8147-4258-963f-88cf2edcb4cd",
   "metadata": {},
   "outputs": [
    {
     "name": "stdout",
     "output_type": "stream",
     "text": [
      "a\"a'\n"
     ]
    }
   ],
   "source": [
    "# \\', \\\"\n",
    "txt = 'a\\\"a\\''\n",
    "print(txt)"
   ]
  },
  {
   "cell_type": "markdown",
   "id": "6ace3914-5373-4c3e-b426-b45c43fb649f",
   "metadata": {},
   "source": [
    "### fstring 사용해서 이름과 자기소개를 입력받아 출력 하는 프로그램 작성"
   ]
  },
  {
   "cell_type": "code",
   "execution_count": 32,
   "id": "57a2129f-69d1-42f3-8602-38f9d134366e",
   "metadata": {},
   "outputs": [
    {
     "name": "stdin",
     "output_type": "stream",
     "text": [
      "name:  사석훈\n",
      "text:  안녕하세요 00년생 사석훈 입니다.\n"
     ]
    },
    {
     "name": "stdout",
     "output_type": "stream",
     "text": [
      "name: 사석훈\n",
      "introduce\n",
      " 안녕하세요 00년생 사석훈 입니다.\n"
     ]
    }
   ],
   "source": [
    "name = input(\"name: \")\n",
    "introduce = input(\"text: \")\n",
    "\n",
    "\n",
    "print(f\"name: {name}\\nintroduce\\n {introduce}\")"
   ]
  },
  {
   "cell_type": "code",
   "execution_count": 34,
   "id": "bbeff236-db3b-41a7-bac8-2972fcfa0370",
   "metadata": {},
   "outputs": [
    {
     "name": "stdin",
     "output_type": "stream",
     "text": [
      "menu:  pizza\n",
      "price:  15000\n",
      "count:  3\n"
     ]
    },
    {
     "name": "stdout",
     "output_type": "stream",
     "text": [
      "pizza 메뉴의 3개 가격은 총45,000입니다.\n"
     ]
    }
   ],
   "source": [
    "menu = input('menu: ')\n",
    "price = input('price: ')\n",
    "count = input('count: ')\n",
    "\n",
    "\n",
    "total = int(price) * int(count)\n",
    "\n",
    "msg = '{} 메뉴의 {}개 가격은 총{:,}d원 입니다.'\n",
    "\n",
    "print(msg.format(menu, count, total))\n",
    "\n"
   ]
  },
  {
   "cell_type": "code",
   "execution_count": 47,
   "id": "c80eda63-c12d-4c80-9fe5-bee936715e5b",
   "metadata": {},
   "outputs": [
    {
     "name": "stdout",
     "output_type": "stream",
     "text": [
      "상품명\t\t가격\t수량\t총액\n",
      "----------------------------------------\n",
      "아메리카노\t3000원\t2개\t6,000\n",
      "카페라떼\t4000원\t1개\t4,000\n",
      "샌드위치\t5500원\t3개\t16,500\n"
     ]
    }
   ],
   "source": [
    "items = [\n",
    "    {\"name\": \"아메리카노\", \"price\": 3000, \"qty\": 2},\n",
    "    {\"name\": \"카페라떼\", \"price\": 4000, \"qty\": 1},\n",
    "    {\"name\": \"샌드위치\", \"price\": 5500, \"qty\": 3}\n",
    "]\n",
    "\n",
    "print(\"상품명\\t\\t가격\\t수량\\t총액\")\n",
    "print(\"----------------------------------------\")\n",
    "for i in items:\n",
    "    print(f\"{i[\"name\"]}\\t{i[\"price\"]}원\\t{i[\"qty\"]}개\\t{i[\"price\"]*i[\"qty\"]:,}\")"
   ]
  },
  {
   "cell_type": "code",
   "execution_count": 48,
   "id": "63dd029d-c7cb-461f-a6d4-5d7589f7fbbe",
   "metadata": {},
   "outputs": [
    {
     "data": {
      "text/plain": [
       "'가나다'"
      ]
     },
     "execution_count": 48,
     "metadata": {},
     "output_type": "execute_result"
    }
   ],
   "source": [
    "text.capitalize()"
   ]
  },
  {
   "cell_type": "code",
   "execution_count": null,
   "id": "179c076d-1aa9-4337-90a0-e2dc5576effe",
   "metadata": {},
   "outputs": [],
   "source": []
  }
 ],
 "metadata": {
  "kernelspec": {
   "display_name": "Python 3 (ipykernel)",
   "language": "python",
   "name": "python3"
  },
  "language_info": {
   "codemirror_mode": {
    "name": "ipython",
    "version": 3
   },
   "file_extension": ".py",
   "mimetype": "text/x-python",
   "name": "python",
   "nbconvert_exporter": "python",
   "pygments_lexer": "ipython3",
   "version": "3.12.9"
  }
 },
 "nbformat": 4,
 "nbformat_minor": 5
}
