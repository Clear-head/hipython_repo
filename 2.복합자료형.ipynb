{
 "cells": [
  {
   "cell_type": "markdown",
   "id": "fc680831-6a5a-492a-907b-9f68103f8f3d",
   "metadata": {},
   "source": [
    "# 인코딩"
   ]
  },
  {
   "cell_type": "code",
   "execution_count": 7,
   "id": "8aedb00c-d0a4-4fca-b0d4-0efc168e52cb",
   "metadata": {},
   "outputs": [
    {
     "data": {
      "text/plain": [
       "b'\\xea\\xb0\\x80\\xeb\\x82\\x98\\xeb\\x8b\\xa4'"
      ]
     },
     "execution_count": 7,
     "metadata": {},
     "output_type": "execute_result"
    }
   ],
   "source": [
    "text = \"가나다\"\n",
    "\n",
    "encode_text = text.encode('utf-8')\n",
    "encode_text"
   ]
  },
  {
   "cell_type": "code",
   "execution_count": 8,
   "id": "130ba513-c666-4ff8-b8a4-bfc2dd9a7653",
   "metadata": {},
   "outputs": [
    {
     "data": {
      "text/plain": [
       "'가나다'"
      ]
     },
     "execution_count": 8,
     "metadata": {},
     "output_type": "execute_result"
    }
   ],
   "source": [
    "decode_text = encode_text.decode('utf-8')\n",
    "decode_text"
   ]
  },
  {
   "cell_type": "code",
   "execution_count": 11,
   "id": "5cb6e89c-2dff-4098-83bc-89895ec2cfe0",
   "metadata": {},
   "outputs": [
    {
     "name": "stdout",
     "output_type": "stream",
     "text": [
      "a\n",
      "b\n",
      "c\n",
      "\n"
     ]
    }
   ],
   "source": [
    "txt1 = '''a\n",
    "b\n",
    "c\n",
    "'''\n",
    "print(txt1)"
   ]
  },
  {
   "cell_type": "markdown",
   "id": "2cd5cc5f-6577-422e-baa7-cdde694cc8f4",
   "metadata": {},
   "source": [
    "# str func\n",
    "\n",
    "dir()"
   ]
  },
  {
   "cell_type": "code",
   "execution_count": null,
   "id": "79038d8e-1485-4ea5-8c0c-be7e0fa7632d",
   "metadata": {},
   "outputs": [],
   "source": [
    "dir(text)"
   ]
  },
  {
   "cell_type": "code",
   "execution_count": 22,
   "id": "72f7961f-a251-4425-97fa-8e343b7ce390",
   "metadata": {},
   "outputs": [
    {
     "data": {
      "text/plain": [
       "'가나다4'"
      ]
     },
     "execution_count": 22,
     "metadata": {},
     "output_type": "execute_result"
    }
   ],
   "source": [
    "text.__add__(\"4\")\n"
   ]
  },
  {
   "cell_type": "code",
   "execution_count": 23,
   "id": "e7f5f917-19ed-40ef-a87c-eceb5f45527f",
   "metadata": {},
   "outputs": [
    {
     "data": {
      "text/plain": [
       "0"
      ]
     },
     "execution_count": 23,
     "metadata": {},
     "output_type": "execute_result"
    }
   ],
   "source": [
    "text.count(\"4\")"
   ]
  },
  {
   "cell_type": "code",
   "execution_count": 24,
   "id": "6e05664e-297f-4702-86d5-3858541adcfb",
   "metadata": {},
   "outputs": [
    {
     "data": {
      "text/plain": [
       "'가나다'"
      ]
     },
     "execution_count": 24,
     "metadata": {},
     "output_type": "execute_result"
    }
   ],
   "source": [
    "text"
   ]
  },
  {
   "cell_type": "markdown",
   "id": "be3606d9-c11c-41ac-b457-81e7142b6377",
   "metadata": {},
   "source": [
    "# 이스케이프 문자\n",
    "\n",
    "\\\\?"
   ]
  },
  {
   "cell_type": "code",
   "execution_count": 25,
   "id": "84de99c5-bf2c-4529-8ab7-a30ecc4b97d3",
   "metadata": {},
   "outputs": [
    {
     "name": "stdout",
     "output_type": "stream",
     "text": [
      "a\n",
      "a\n"
     ]
    }
   ],
   "source": [
    "# \\n\n",
    "\n",
    "txt = 'a\\na'\n",
    "print(txt)"
   ]
  },
  {
   "cell_type": "code",
   "execution_count": 26,
   "id": "f3dc3093-4425-45cf-b457-0dbb86b5e0b2",
   "metadata": {},
   "outputs": [
    {
     "name": "stdout",
     "output_type": "stream",
     "text": [
      "a\ta\n"
     ]
    }
   ],
   "source": [
    "# \\t\n",
    "txt = 'a\\ta'\n",
    "print(txt)"
   ]
  },
  {
   "cell_type": "code",
   "execution_count": 29,
   "id": "d205e3d3-d47c-41ab-b925-39577262134e",
   "metadata": {},
   "outputs": [
    {
     "name": "stdout",
     "output_type": "stream",
     "text": [
      "a\\a\n"
     ]
    }
   ],
   "source": [
    "# \\\\\n",
    "txt = 'a\\\\a'\n",
    "print(txt)"
   ]
  },
  {
   "cell_type": "code",
   "execution_count": 30,
   "id": "8897d9a8-8147-4258-963f-88cf2edcb4cd",
   "metadata": {},
   "outputs": [
    {
     "name": "stdout",
     "output_type": "stream",
     "text": [
      "a\"a'\n"
     ]
    }
   ],
   "source": [
    "# \\', \\\"\n",
    "txt = 'a\\\"a\\''\n",
    "print(txt)"
   ]
  },
  {
   "cell_type": "markdown",
   "id": "6ace3914-5373-4c3e-b426-b45c43fb649f",
   "metadata": {},
   "source": [
    "### fstring 사용해서 이름과 자기소개를 입력받아 출력 하는 프로그램 작성"
   ]
  },
  {
   "cell_type": "code",
   "execution_count": 32,
   "id": "57a2129f-69d1-42f3-8602-38f9d134366e",
   "metadata": {},
   "outputs": [
    {
     "name": "stdin",
     "output_type": "stream",
     "text": [
      "name:  사석훈\n",
      "text:  안녕하세요 00년생 사석훈 입니다.\n"
     ]
    },
    {
     "name": "stdout",
     "output_type": "stream",
     "text": [
      "name: 사석훈\n",
      "introduce\n",
      " 안녕하세요 00년생 사석훈 입니다.\n"
     ]
    }
   ],
   "source": [
    "name = input(\"name: \")\n",
    "introduce = input(\"text: \")\n",
    "\n",
    "\n",
    "print(f\"name: {name}\\nintroduce\\n {introduce}\")"
   ]
  },
  {
   "cell_type": "code",
   "execution_count": 34,
   "id": "bbeff236-db3b-41a7-bac8-2972fcfa0370",
   "metadata": {},
   "outputs": [
    {
     "name": "stdin",
     "output_type": "stream",
     "text": [
      "menu:  pizza\n",
      "price:  15000\n",
      "count:  3\n"
     ]
    },
    {
     "name": "stdout",
     "output_type": "stream",
     "text": [
      "pizza 메뉴의 3개 가격은 총45,000입니다.\n"
     ]
    }
   ],
   "source": [
    "menu = input('menu: ')\n",
    "price = input('price: ')\n",
    "count = input('count: ')\n",
    "\n",
    "\n",
    "total = int(price) * int(count)\n",
    "\n",
    "msg = '{} 메뉴의 {}개 가격은 총{:,}d원 입니다.'\n",
    "\n",
    "print(msg.format(menu, count, total))\n",
    "\n"
   ]
  },
  {
   "cell_type": "code",
   "execution_count": 47,
   "id": "c80eda63-c12d-4c80-9fe5-bee936715e5b",
   "metadata": {},
   "outputs": [
    {
     "name": "stdout",
     "output_type": "stream",
     "text": [
      "상품명\t\t가격\t수량\t총액\n",
      "----------------------------------------\n",
      "아메리카노\t3000원\t2개\t6,000\n",
      "카페라떼\t4000원\t1개\t4,000\n",
      "샌드위치\t5500원\t3개\t16,500\n"
     ]
    }
   ],
   "source": [
    "items = [\n",
    "    {\"name\": \"아메리카노\", \"price\": 3000, \"qty\": 2},\n",
    "    {\"name\": \"카페라떼\", \"price\": 4000, \"qty\": 1},\n",
    "    {\"name\": \"샌드위치\", \"price\": 5500, \"qty\": 3}\n",
    "]\n",
    "\n",
    "print(\"상품명\\t\\t가격\\t수량\\t총액\")\n",
    "print(\"----------------------------------------\")\n",
    "for i in items:\n",
    "    print(f\"{i[\"name\"]}\\t{i[\"price\"]}원\\t{i[\"qty\"]}개\\t{i[\"price\"]*i[\"qty\"]:,}\")"
   ]
  },
  {
   "cell_type": "code",
   "execution_count": 48,
   "id": "63dd029d-c7cb-461f-a6d4-5d7589f7fbbe",
   "metadata": {},
   "outputs": [
    {
     "data": {
      "text/plain": [
       "'가나다'"
      ]
     },
     "execution_count": 48,
     "metadata": {},
     "output_type": "execute_result"
    }
   ],
   "source": [
    "text.capitalize()"
   ]
  },
  {
   "cell_type": "markdown",
   "id": "4c7f93b2-3f1f-4634-98c2-e6aede1fb971",
   "metadata": {},
   "source": [
    "# 복합자료 리스트\n",
    "\n",
    "여러개의 값을 묶어서 하나의 변수로 다루는 자료형"
   ]
  },
  {
   "cell_type": "code",
   "execution_count": 63,
   "id": "52742157-c4f4-4a0e-a0fc-7d355d6e920c",
   "metadata": {},
   "outputs": [],
   "source": [
    "lista = [1, 2, 3, 4, 5]"
   ]
  },
  {
   "cell_type": "code",
   "execution_count": 64,
   "id": "ecf9a2b7-2dcb-481b-ba0a-e273b0be7c50",
   "metadata": {},
   "outputs": [
    {
     "data": {
      "text/plain": [
       "(list, int)"
      ]
     },
     "execution_count": 64,
     "metadata": {},
     "output_type": "execute_result"
    }
   ],
   "source": [
    "type(lista), type(list[0])"
   ]
  },
  {
   "cell_type": "code",
   "execution_count": 65,
   "id": "0bcb2e82-a1b3-4781-986a-715dc594c5e6",
   "metadata": {
    "collapsed": true,
    "jupyter": {
     "outputs_hidden": true
    },
    "scrolled": true
   },
   "outputs": [
    {
     "data": {
      "text/plain": [
       "['__add__',\n",
       " '__class__',\n",
       " '__class_getitem__',\n",
       " '__contains__',\n",
       " '__delattr__',\n",
       " '__delitem__',\n",
       " '__dir__',\n",
       " '__doc__',\n",
       " '__eq__',\n",
       " '__format__',\n",
       " '__ge__',\n",
       " '__getattribute__',\n",
       " '__getitem__',\n",
       " '__getstate__',\n",
       " '__gt__',\n",
       " '__hash__',\n",
       " '__iadd__',\n",
       " '__imul__',\n",
       " '__init__',\n",
       " '__init_subclass__',\n",
       " '__iter__',\n",
       " '__le__',\n",
       " '__len__',\n",
       " '__lt__',\n",
       " '__mul__',\n",
       " '__ne__',\n",
       " '__new__',\n",
       " '__reduce__',\n",
       " '__reduce_ex__',\n",
       " '__repr__',\n",
       " '__reversed__',\n",
       " '__rmul__',\n",
       " '__setattr__',\n",
       " '__setitem__',\n",
       " '__sizeof__',\n",
       " '__str__',\n",
       " '__subclasshook__',\n",
       " 'append',\n",
       " 'clear',\n",
       " 'copy',\n",
       " 'count',\n",
       " 'extend',\n",
       " 'index',\n",
       " 'insert',\n",
       " 'pop',\n",
       " 'remove',\n",
       " 'reverse',\n",
       " 'sort']"
      ]
     },
     "execution_count": 65,
     "metadata": {},
     "output_type": "execute_result"
    }
   ],
   "source": [
    "dir(lista)"
   ]
  },
  {
   "cell_type": "code",
   "execution_count": 66,
   "id": "bf05e333-ed0f-4882-9f8f-187290df7870",
   "metadata": {},
   "outputs": [
    {
     "data": {
      "text/plain": [
       "([2, 4, 6, 8, 10, 12, 14, 16, 18], 18)"
      ]
     },
     "execution_count": 66,
     "metadata": {},
     "output_type": "execute_result"
    }
   ],
   "source": [
    "num_list = [i for i in range(2, 20, 2)]\n",
    "num_list, num_list[-1]"
   ]
  },
  {
   "cell_type": "code",
   "execution_count": 67,
   "id": "7f6ec571-7462-4a0a-ba2d-14c609fe25b7",
   "metadata": {},
   "outputs": [
    {
     "data": {
      "text/plain": [
       "9"
      ]
     },
     "execution_count": 67,
     "metadata": {},
     "output_type": "execute_result"
    }
   ],
   "source": [
    "num_list.__len__()"
   ]
  },
  {
   "cell_type": "code",
   "execution_count": null,
   "id": "34fc18fb-625f-4b28-83f1-d91c4295227a",
   "metadata": {},
   "outputs": [],
   "source": []
  },
  {
   "cell_type": "code",
   "execution_count": 69,
   "id": "413f473b-642f-4cb1-a243-3765c9173e91",
   "metadata": {},
   "outputs": [
    {
     "data": {
      "text/plain": [
       "[['a', 'b', 'c'], [1, 2, 'a', 'b']]"
      ]
     },
     "execution_count": 69,
     "metadata": {},
     "output_type": "execute_result"
    }
   ],
   "source": [
    "a = []\n",
    "b = [1, 2, 3, 4, 5]\n",
    "c = ['a', 'b', 'c']\n",
    "d = [1, 2, 'a', 'b']\n",
    "e = [c, d]\n",
    "e"
   ]
  },
  {
   "cell_type": "code",
   "execution_count": 70,
   "id": "fd0a6121-5d10-4ad5-b550-612189b82ebc",
   "metadata": {},
   "outputs": [
    {
     "data": {
      "text/plain": [
       "'b'"
      ]
     },
     "execution_count": 70,
     "metadata": {},
     "output_type": "execute_result"
    }
   ],
   "source": [
    "e[1][3]"
   ]
  },
  {
   "cell_type": "code",
   "execution_count": 71,
   "id": "d1222423-c69c-4427-af8c-ff9948034115",
   "metadata": {},
   "outputs": [
    {
     "data": {
      "text/plain": [
       "[[1, 2], [3, 4]]"
      ]
     },
     "execution_count": 71,
     "metadata": {},
     "output_type": "execute_result"
    }
   ],
   "source": [
    "score = [[1,2],[3,4]]\n",
    "score"
   ]
  },
  {
   "cell_type": "code",
   "execution_count": 73,
   "id": "b4aac299-0cb4-4c4f-b488-e2b25d2e3837",
   "metadata": {},
   "outputs": [
    {
     "data": {
      "text/plain": [
       "[[1, 2], [3, 4]]"
      ]
     },
     "execution_count": 73,
     "metadata": {},
     "output_type": "execute_result"
    }
   ],
   "source": [
    "new_score = score[:]\n",
    "new_score"
   ]
  },
  {
   "cell_type": "code",
   "execution_count": 76,
   "id": "a350c344-f28c-4150-bd21-6076a579d87e",
   "metadata": {},
   "outputs": [
    {
     "data": {
      "text/plain": [
       "[[1, 2], [3, 4]]"
      ]
     },
     "execution_count": 76,
     "metadata": {},
     "output_type": "execute_result"
    }
   ],
   "source": [
    "new_score2 = score\n",
    "new_score2"
   ]
  },
  {
   "cell_type": "code",
   "execution_count": 77,
   "id": "aef77216-6975-42c0-8a31-e560cca2efa7",
   "metadata": {},
   "outputs": [
    {
     "data": {
      "text/plain": [
       "[[100, 2], [3, 4]]"
      ]
     },
     "execution_count": 77,
     "metadata": {},
     "output_type": "execute_result"
    }
   ],
   "source": [
    "new_score[0][0] = 100\n",
    "new_score"
   ]
  },
  {
   "cell_type": "code",
   "execution_count": 78,
   "id": "39ed9dd5-580a-463e-81a1-791fe75d1062",
   "metadata": {},
   "outputs": [
    {
     "data": {
      "text/plain": [
       "[[100, 2], [3, 4]]"
      ]
     },
     "execution_count": 78,
     "metadata": {},
     "output_type": "execute_result"
    }
   ],
   "source": [
    "score"
   ]
  },
  {
   "cell_type": "code",
   "execution_count": 79,
   "id": "35dc61f4-30ce-4ffd-843f-7b147bda825f",
   "metadata": {},
   "outputs": [
    {
     "data": {
      "text/plain": [
       "[[100, 2], [3, 4]]"
      ]
     },
     "execution_count": 79,
     "metadata": {},
     "output_type": "execute_result"
    }
   ],
   "source": [
    "new_score2"
   ]
  },
  {
   "cell_type": "code",
   "execution_count": 80,
   "id": "2849bf63-2b58-48b5-9143-f8cde845dc1e",
   "metadata": {},
   "outputs": [
    {
     "name": "stdin",
     "output_type": "stream",
     "text": [
      "먹고 싶은 간식을 추가하세요.  단, 쉼표(,)로 연결하세요 홈런볼, 사이다\n"
     ]
    }
   ],
   "source": [
    "snack_box = ['초코파이']\n",
    "new_snack = input('먹고 싶은 간식을 추가하세요.  단, 쉼표(,)로 연결하세요').split(',')\n",
    "snack_box += new_snack"
   ]
  },
  {
   "cell_type": "code",
   "execution_count": 81,
   "id": "2b316479-ec8d-4439-990e-4204b018bb68",
   "metadata": {},
   "outputs": [
    {
     "name": "stdin",
     "output_type": "stream",
     "text": [
      "간식박스 몇 세트로 포장할까요? 예: 2 -> 2box 2\n"
     ]
    }
   ],
   "source": [
    "qty = int(input('간식박스 몇 세트로 포장할까요? 예: 2 -> 2box'))"
   ]
  },
  {
   "cell_type": "code",
   "execution_count": 82,
   "id": "eedaf55f-764a-4911-8372-14d8b4a1a1cf",
   "metadata": {},
   "outputs": [
    {
     "data": {
      "text/plain": [
       "['초코파이', '홈런볼', ' 사이다', '초코파이', '홈런볼', ' 사이다']"
      ]
     },
     "execution_count": 82,
     "metadata": {},
     "output_type": "execute_result"
    }
   ],
   "source": [
    "snack_box *= qty\n",
    "snack_box"
   ]
  },
  {
   "cell_type": "code",
   "execution_count": 83,
   "id": "6b5f4e84-b676-4029-b4d0-83819a8e0384",
   "metadata": {},
   "outputs": [
    {
     "name": "stdout",
     "output_type": "stream",
     "text": [
      "주문하신 간식상자는 초코파이,홈런볼, 사이다 등입니다. 확인해주세요.\n"
     ]
    }
   ],
   "source": [
    "print(f'주문하신 간식상자는 {snack_box[0]},{snack_box[1]},{snack_box[2]} 등입니다. 확인해주세요.')"
   ]
  },
  {
   "cell_type": "code",
   "execution_count": 84,
   "id": "9eec80be-af9e-418a-8d94-e2207ef38ebe",
   "metadata": {},
   "outputs": [
    {
     "name": "stdin",
     "output_type": "stream",
     "text": [
      "혹시 빼고싶은 간식이 있으면 입력하세요 사이다\n"
     ]
    }
   ],
   "source": [
    "# 간식박스 관리 프로그램 3\n",
    "msg = '혹시 빼고싶은 간식이 있으면 입력하세요'\n",
    "snack = input(msg)"
   ]
  },
  {
   "cell_type": "code",
   "execution_count": 87,
   "id": "d6a91af9-7981-4c1e-9574-d8b708c1715c",
   "metadata": {},
   "outputs": [],
   "source": [
    "if snack in snack_box:\n",
    "    snack_box.remove(snack)"
   ]
  },
  {
   "cell_type": "code",
   "execution_count": 88,
   "id": "cc3071f6-b5fe-4853-97c9-d7d8800b681b",
   "metadata": {},
   "outputs": [],
   "source": [
    "# 간식박스 관리 프로그램 4\n",
    "# 찾고 싶은 간식번호를 입력하세요\n",
    "# 있어요 OR 없어요 출력"
   ]
  },
  {
   "cell_type": "code",
   "execution_count": 91,
   "id": "a5d5cd0a-c6c4-4c14-b566-f82a19c9233a",
   "metadata": {},
   "outputs": [
    {
     "name": "stdout",
     "output_type": "stream",
     "text": [
      "False\n"
     ]
    }
   ],
   "source": [
    "print(snack in snack_box)"
   ]
  },
  {
   "cell_type": "code",
   "execution_count": null,
   "id": "84f306d4-4acb-4da5-8f52-a0ad44a75bed",
   "metadata": {},
   "outputs": [],
   "source": []
  }
 ],
 "metadata": {
  "kernelspec": {
   "display_name": "Python 3 (ipykernel)",
   "language": "python",
   "name": "python3"
  },
  "language_info": {
   "codemirror_mode": {
    "name": "ipython",
    "version": 3
   },
   "file_extension": ".py",
   "mimetype": "text/x-python",
   "name": "python",
   "nbconvert_exporter": "python",
   "pygments_lexer": "ipython3",
   "version": "3.12.9"
  }
 },
 "nbformat": 4,
 "nbformat_minor": 5
}
