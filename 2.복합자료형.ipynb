{
 "cells": [
  {
   "cell_type": "markdown",
   "id": "fc680831-6a5a-492a-907b-9f68103f8f3d",
   "metadata": {},
   "source": [
    "# 인코딩"
   ]
  },
  {
   "cell_type": "code",
   "execution_count": 7,
   "id": "8aedb00c-d0a4-4fca-b0d4-0efc168e52cb",
   "metadata": {},
   "outputs": [
    {
     "data": {
      "text/plain": [
       "b'\\xea\\xb0\\x80\\xeb\\x82\\x98\\xeb\\x8b\\xa4'"
      ]
     },
     "execution_count": 7,
     "metadata": {},
     "output_type": "execute_result"
    }
   ],
   "source": [
    "text = \"가나다\"\n",
    "\n",
    "encode_text = text.encode('utf-8')\n",
    "encode_text"
   ]
  },
  {
   "cell_type": "code",
   "execution_count": 8,
   "id": "130ba513-c666-4ff8-b8a4-bfc2dd9a7653",
   "metadata": {},
   "outputs": [
    {
     "data": {
      "text/plain": [
       "'가나다'"
      ]
     },
     "execution_count": 8,
     "metadata": {},
     "output_type": "execute_result"
    }
   ],
   "source": [
    "decode_text = encode_text.decode('utf-8')\n",
    "decode_text"
   ]
  },
  {
   "cell_type": "code",
   "execution_count": 11,
   "id": "5cb6e89c-2dff-4098-83bc-89895ec2cfe0",
   "metadata": {},
   "outputs": [
    {
     "name": "stdout",
     "output_type": "stream",
     "text": [
      "a\n",
      "b\n",
      "c\n",
      "\n"
     ]
    }
   ],
   "source": [
    "txt1 = '''a\n",
    "b\n",
    "c\n",
    "'''\n",
    "print(txt1)"
   ]
  },
  {
   "cell_type": "markdown",
   "id": "2cd5cc5f-6577-422e-baa7-cdde694cc8f4",
   "metadata": {},
   "source": [
    "# str func\n",
    "\n",
    "dir()"
   ]
  },
  {
   "cell_type": "code",
   "execution_count": null,
   "id": "79038d8e-1485-4ea5-8c0c-be7e0fa7632d",
   "metadata": {},
   "outputs": [],
   "source": [
    "dir(text)"
   ]
  },
  {
   "cell_type": "code",
   "execution_count": 22,
   "id": "72f7961f-a251-4425-97fa-8e343b7ce390",
   "metadata": {},
   "outputs": [
    {
     "data": {
      "text/plain": [
       "'가나다4'"
      ]
     },
     "execution_count": 22,
     "metadata": {},
     "output_type": "execute_result"
    }
   ],
   "source": [
    "text.__add__(\"4\")\n"
   ]
  },
  {
   "cell_type": "code",
   "execution_count": 23,
   "id": "e7f5f917-19ed-40ef-a87c-eceb5f45527f",
   "metadata": {},
   "outputs": [
    {
     "data": {
      "text/plain": [
       "0"
      ]
     },
     "execution_count": 23,
     "metadata": {},
     "output_type": "execute_result"
    }
   ],
   "source": [
    "text.count(\"4\")"
   ]
  },
  {
   "cell_type": "code",
   "execution_count": 24,
   "id": "6e05664e-297f-4702-86d5-3858541adcfb",
   "metadata": {},
   "outputs": [
    {
     "data": {
      "text/plain": [
       "'가나다'"
      ]
     },
     "execution_count": 24,
     "metadata": {},
     "output_type": "execute_result"
    }
   ],
   "source": [
    "text"
   ]
  },
  {
   "cell_type": "markdown",
   "id": "be3606d9-c11c-41ac-b457-81e7142b6377",
   "metadata": {},
   "source": [
    "# 이스케이프 문자\n",
    "\n",
    "\\\\?"
   ]
  },
  {
   "cell_type": "code",
   "execution_count": 25,
   "id": "84de99c5-bf2c-4529-8ab7-a30ecc4b97d3",
   "metadata": {},
   "outputs": [
    {
     "name": "stdout",
     "output_type": "stream",
     "text": [
      "a\n",
      "a\n"
     ]
    }
   ],
   "source": [
    "# \\n\n",
    "\n",
    "txt = 'a\\na'\n",
    "print(txt)"
   ]
  },
  {
   "cell_type": "code",
   "execution_count": 26,
   "id": "f3dc3093-4425-45cf-b457-0dbb86b5e0b2",
   "metadata": {},
   "outputs": [
    {
     "name": "stdout",
     "output_type": "stream",
     "text": [
      "a\ta\n"
     ]
    }
   ],
   "source": [
    "# \\t\n",
    "txt = 'a\\ta'\n",
    "print(txt)"
   ]
  },
  {
   "cell_type": "code",
   "execution_count": 29,
   "id": "d205e3d3-d47c-41ab-b925-39577262134e",
   "metadata": {},
   "outputs": [
    {
     "name": "stdout",
     "output_type": "stream",
     "text": [
      "a\\a\n"
     ]
    }
   ],
   "source": [
    "# \\\\\n",
    "txt = 'a\\\\a'\n",
    "print(txt)"
   ]
  },
  {
   "cell_type": "code",
   "execution_count": 30,
   "id": "8897d9a8-8147-4258-963f-88cf2edcb4cd",
   "metadata": {},
   "outputs": [
    {
     "name": "stdout",
     "output_type": "stream",
     "text": [
      "a\"a'\n"
     ]
    }
   ],
   "source": [
    "# \\', \\\"\n",
    "txt = 'a\\\"a\\''\n",
    "print(txt)"
   ]
  },
  {
   "cell_type": "markdown",
   "id": "6ace3914-5373-4c3e-b426-b45c43fb649f",
   "metadata": {},
   "source": [
    "### fstring 사용해서 이름과 자기소개를 입력받아 출력 하는 프로그램 작성"
   ]
  },
  {
   "cell_type": "code",
   "execution_count": 32,
   "id": "57a2129f-69d1-42f3-8602-38f9d134366e",
   "metadata": {},
   "outputs": [
    {
     "name": "stdin",
     "output_type": "stream",
     "text": [
      "name:  사석훈\n",
      "text:  안녕하세요 00년생 사석훈 입니다.\n"
     ]
    },
    {
     "name": "stdout",
     "output_type": "stream",
     "text": [
      "name: 사석훈\n",
      "introduce\n",
      " 안녕하세요 00년생 사석훈 입니다.\n"
     ]
    }
   ],
   "source": [
    "name = input(\"name: \")\n",
    "introduce = input(\"text: \")\n",
    "\n",
    "\n",
    "print(f\"name: {name}\\nintroduce\\n {introduce}\")"
   ]
  },
  {
   "cell_type": "code",
   "execution_count": 34,
   "id": "bbeff236-db3b-41a7-bac8-2972fcfa0370",
   "metadata": {},
   "outputs": [
    {
     "name": "stdin",
     "output_type": "stream",
     "text": [
      "menu:  pizza\n",
      "price:  15000\n",
      "count:  3\n"
     ]
    },
    {
     "name": "stdout",
     "output_type": "stream",
     "text": [
      "pizza 메뉴의 3개 가격은 총45,000입니다.\n"
     ]
    }
   ],
   "source": [
    "menu = input('menu: ')\n",
    "price = input('price: ')\n",
    "count = input('count: ')\n",
    "\n",
    "\n",
    "total = int(price) * int(count)\n",
    "\n",
    "msg = '{} 메뉴의 {}개 가격은 총{:,}d원 입니다.'\n",
    "\n",
    "print(msg.format(menu, count, total))\n",
    "\n"
   ]
  },
  {
   "cell_type": "code",
   "execution_count": 47,
   "id": "c80eda63-c12d-4c80-9fe5-bee936715e5b",
   "metadata": {},
   "outputs": [
    {
     "name": "stdout",
     "output_type": "stream",
     "text": [
      "상품명\t\t가격\t수량\t총액\n",
      "----------------------------------------\n",
      "아메리카노\t3000원\t2개\t6,000\n",
      "카페라떼\t4000원\t1개\t4,000\n",
      "샌드위치\t5500원\t3개\t16,500\n"
     ]
    }
   ],
   "source": [
    "items = [\n",
    "    {\"name\": \"아메리카노\", \"price\": 3000, \"qty\": 2},\n",
    "    {\"name\": \"카페라떼\", \"price\": 4000, \"qty\": 1},\n",
    "    {\"name\": \"샌드위치\", \"price\": 5500, \"qty\": 3}\n",
    "]\n",
    "\n",
    "print(\"상품명\\t\\t가격\\t수량\\t총액\")\n",
    "print(\"----------------------------------------\")\n",
    "for i in items:\n",
    "    print(f\"{i[\"name\"]}\\t{i[\"price\"]}원\\t{i[\"qty\"]}개\\t{i[\"price\"]*i[\"qty\"]:,}\")"
   ]
  },
  {
   "cell_type": "code",
   "execution_count": 48,
   "id": "63dd029d-c7cb-461f-a6d4-5d7589f7fbbe",
   "metadata": {},
   "outputs": [
    {
     "data": {
      "text/plain": [
       "'가나다'"
      ]
     },
     "execution_count": 48,
     "metadata": {},
     "output_type": "execute_result"
    }
   ],
   "source": [
    "text.capitalize()"
   ]
  },
  {
   "cell_type": "markdown",
   "id": "4c7f93b2-3f1f-4634-98c2-e6aede1fb971",
   "metadata": {},
   "source": [
    "# 복합자료 리스트\n",
    "\n",
    "여러개의 값을 묶어서 하나의 변수로 다루는 자료형"
   ]
  },
  {
   "cell_type": "code",
   "execution_count": 63,
   "id": "52742157-c4f4-4a0e-a0fc-7d355d6e920c",
   "metadata": {},
   "outputs": [],
   "source": [
    "lista = [1, 2, 3, 4, 5]"
   ]
  },
  {
   "cell_type": "code",
   "execution_count": 64,
   "id": "ecf9a2b7-2dcb-481b-ba0a-e273b0be7c50",
   "metadata": {},
   "outputs": [
    {
     "data": {
      "text/plain": [
       "(list, int)"
      ]
     },
     "execution_count": 64,
     "metadata": {},
     "output_type": "execute_result"
    }
   ],
   "source": [
    "type(lista), type(list[0])"
   ]
  },
  {
   "cell_type": "code",
   "execution_count": 65,
   "id": "0bcb2e82-a1b3-4781-986a-715dc594c5e6",
   "metadata": {
    "collapsed": true,
    "jupyter": {
     "outputs_hidden": true
    },
    "scrolled": true
   },
   "outputs": [
    {
     "data": {
      "text/plain": [
       "['__add__',\n",
       " '__class__',\n",
       " '__class_getitem__',\n",
       " '__contains__',\n",
       " '__delattr__',\n",
       " '__delitem__',\n",
       " '__dir__',\n",
       " '__doc__',\n",
       " '__eq__',\n",
       " '__format__',\n",
       " '__ge__',\n",
       " '__getattribute__',\n",
       " '__getitem__',\n",
       " '__getstate__',\n",
       " '__gt__',\n",
       " '__hash__',\n",
       " '__iadd__',\n",
       " '__imul__',\n",
       " '__init__',\n",
       " '__init_subclass__',\n",
       " '__iter__',\n",
       " '__le__',\n",
       " '__len__',\n",
       " '__lt__',\n",
       " '__mul__',\n",
       " '__ne__',\n",
       " '__new__',\n",
       " '__reduce__',\n",
       " '__reduce_ex__',\n",
       " '__repr__',\n",
       " '__reversed__',\n",
       " '__rmul__',\n",
       " '__setattr__',\n",
       " '__setitem__',\n",
       " '__sizeof__',\n",
       " '__str__',\n",
       " '__subclasshook__',\n",
       " 'append',\n",
       " 'clear',\n",
       " 'copy',\n",
       " 'count',\n",
       " 'extend',\n",
       " 'index',\n",
       " 'insert',\n",
       " 'pop',\n",
       " 'remove',\n",
       " 'reverse',\n",
       " 'sort']"
      ]
     },
     "execution_count": 65,
     "metadata": {},
     "output_type": "execute_result"
    }
   ],
   "source": [
    "dir(lista)"
   ]
  },
  {
   "cell_type": "code",
   "execution_count": 66,
   "id": "bf05e333-ed0f-4882-9f8f-187290df7870",
   "metadata": {},
   "outputs": [
    {
     "data": {
      "text/plain": [
       "([2, 4, 6, 8, 10, 12, 14, 16, 18], 18)"
      ]
     },
     "execution_count": 66,
     "metadata": {},
     "output_type": "execute_result"
    }
   ],
   "source": [
    "num_list = [i for i in range(2, 20, 2)]\n",
    "num_list, num_list[-1]"
   ]
  },
  {
   "cell_type": "code",
   "execution_count": 67,
   "id": "7f6ec571-7462-4a0a-ba2d-14c609fe25b7",
   "metadata": {},
   "outputs": [
    {
     "data": {
      "text/plain": [
       "9"
      ]
     },
     "execution_count": 67,
     "metadata": {},
     "output_type": "execute_result"
    }
   ],
   "source": [
    "num_list.__len__()"
   ]
  },
  {
   "cell_type": "code",
   "execution_count": null,
   "id": "34fc18fb-625f-4b28-83f1-d91c4295227a",
   "metadata": {},
   "outputs": [],
   "source": []
  },
  {
   "cell_type": "code",
   "execution_count": 69,
   "id": "413f473b-642f-4cb1-a243-3765c9173e91",
   "metadata": {},
   "outputs": [
    {
     "data": {
      "text/plain": [
       "[['a', 'b', 'c'], [1, 2, 'a', 'b']]"
      ]
     },
     "execution_count": 69,
     "metadata": {},
     "output_type": "execute_result"
    }
   ],
   "source": [
    "a = []\n",
    "b = [1, 2, 3, 4, 5]\n",
    "c = ['a', 'b', 'c']\n",
    "d = [1, 2, 'a', 'b']\n",
    "e = [c, d]\n",
    "e"
   ]
  },
  {
   "cell_type": "code",
   "execution_count": 70,
   "id": "fd0a6121-5d10-4ad5-b550-612189b82ebc",
   "metadata": {},
   "outputs": [
    {
     "data": {
      "text/plain": [
       "'b'"
      ]
     },
     "execution_count": 70,
     "metadata": {},
     "output_type": "execute_result"
    }
   ],
   "source": [
    "e[1][3]"
   ]
  },
  {
   "cell_type": "code",
   "execution_count": 71,
   "id": "d1222423-c69c-4427-af8c-ff9948034115",
   "metadata": {},
   "outputs": [
    {
     "data": {
      "text/plain": [
       "[[1, 2], [3, 4]]"
      ]
     },
     "execution_count": 71,
     "metadata": {},
     "output_type": "execute_result"
    }
   ],
   "source": [
    "score = [[1,2],[3,4]]\n",
    "score"
   ]
  },
  {
   "cell_type": "code",
   "execution_count": 73,
   "id": "b4aac299-0cb4-4c4f-b488-e2b25d2e3837",
   "metadata": {},
   "outputs": [
    {
     "data": {
      "text/plain": [
       "[[1, 2], [3, 4]]"
      ]
     },
     "execution_count": 73,
     "metadata": {},
     "output_type": "execute_result"
    }
   ],
   "source": [
    "new_score = score[:]\n",
    "new_score"
   ]
  },
  {
   "cell_type": "code",
   "execution_count": 76,
   "id": "a350c344-f28c-4150-bd21-6076a579d87e",
   "metadata": {},
   "outputs": [
    {
     "data": {
      "text/plain": [
       "[[1, 2], [3, 4]]"
      ]
     },
     "execution_count": 76,
     "metadata": {},
     "output_type": "execute_result"
    }
   ],
   "source": [
    "new_score2 = score\n",
    "new_score2"
   ]
  },
  {
   "cell_type": "code",
   "execution_count": 77,
   "id": "aef77216-6975-42c0-8a31-e560cca2efa7",
   "metadata": {},
   "outputs": [
    {
     "data": {
      "text/plain": [
       "[[100, 2], [3, 4]]"
      ]
     },
     "execution_count": 77,
     "metadata": {},
     "output_type": "execute_result"
    }
   ],
   "source": [
    "new_score[0][0] = 100\n",
    "new_score"
   ]
  },
  {
   "cell_type": "code",
   "execution_count": 78,
   "id": "39ed9dd5-580a-463e-81a1-791fe75d1062",
   "metadata": {},
   "outputs": [
    {
     "data": {
      "text/plain": [
       "[[100, 2], [3, 4]]"
      ]
     },
     "execution_count": 78,
     "metadata": {},
     "output_type": "execute_result"
    }
   ],
   "source": [
    "score"
   ]
  },
  {
   "cell_type": "code",
   "execution_count": 79,
   "id": "35dc61f4-30ce-4ffd-843f-7b147bda825f",
   "metadata": {},
   "outputs": [
    {
     "data": {
      "text/plain": [
       "[[100, 2], [3, 4]]"
      ]
     },
     "execution_count": 79,
     "metadata": {},
     "output_type": "execute_result"
    }
   ],
   "source": [
    "new_score2"
   ]
  },
  {
   "cell_type": "code",
   "execution_count": 80,
   "id": "2849bf63-2b58-48b5-9143-f8cde845dc1e",
   "metadata": {},
   "outputs": [
    {
     "name": "stdin",
     "output_type": "stream",
     "text": [
      "먹고 싶은 간식을 추가하세요.  단, 쉼표(,)로 연결하세요 홈런볼, 사이다\n"
     ]
    }
   ],
   "source": [
    "snack_box = ['초코파이']\n",
    "new_snack = input('먹고 싶은 간식을 추가하세요.  단, 쉼표(,)로 연결하세요').split(',')\n",
    "snack_box += new_snack"
   ]
  },
  {
   "cell_type": "code",
   "execution_count": 81,
   "id": "2b316479-ec8d-4439-990e-4204b018bb68",
   "metadata": {},
   "outputs": [
    {
     "name": "stdin",
     "output_type": "stream",
     "text": [
      "간식박스 몇 세트로 포장할까요? 예: 2 -> 2box 2\n"
     ]
    }
   ],
   "source": [
    "qty = int(input('간식박스 몇 세트로 포장할까요? 예: 2 -> 2box'))"
   ]
  },
  {
   "cell_type": "code",
   "execution_count": 82,
   "id": "eedaf55f-764a-4911-8372-14d8b4a1a1cf",
   "metadata": {},
   "outputs": [
    {
     "data": {
      "text/plain": [
       "['초코파이', '홈런볼', ' 사이다', '초코파이', '홈런볼', ' 사이다']"
      ]
     },
     "execution_count": 82,
     "metadata": {},
     "output_type": "execute_result"
    }
   ],
   "source": [
    "snack_box *= qty\n",
    "snack_box"
   ]
  },
  {
   "cell_type": "code",
   "execution_count": 83,
   "id": "6b5f4e84-b676-4029-b4d0-83819a8e0384",
   "metadata": {},
   "outputs": [
    {
     "name": "stdout",
     "output_type": "stream",
     "text": [
      "주문하신 간식상자는 초코파이,홈런볼, 사이다 등입니다. 확인해주세요.\n"
     ]
    }
   ],
   "source": [
    "print(f'주문하신 간식상자는 {snack_box[0]},{snack_box[1]},{snack_box[2]} 등입니다. 확인해주세요.')"
   ]
  },
  {
   "cell_type": "code",
   "execution_count": 84,
   "id": "9eec80be-af9e-418a-8d94-e2207ef38ebe",
   "metadata": {},
   "outputs": [
    {
     "name": "stdin",
     "output_type": "stream",
     "text": [
      "혹시 빼고싶은 간식이 있으면 입력하세요 사이다\n"
     ]
    }
   ],
   "source": [
    "# 간식박스 관리 프로그램 3\n",
    "msg = '혹시 빼고싶은 간식이 있으면 입력하세요'\n",
    "snack = input(msg)"
   ]
  },
  {
   "cell_type": "code",
   "execution_count": 87,
   "id": "d6a91af9-7981-4c1e-9574-d8b708c1715c",
   "metadata": {},
   "outputs": [],
   "source": [
    "if snack in snack_box:\n",
    "    snack_box.remove(snack)"
   ]
  },
  {
   "cell_type": "code",
   "execution_count": 88,
   "id": "cc3071f6-b5fe-4853-97c9-d7d8800b681b",
   "metadata": {},
   "outputs": [],
   "source": [
    "# 간식박스 관리 프로그램 4\n",
    "# 찾고 싶은 간식번호를 입력하세요\n",
    "# 있어요 OR 없어요 출력"
   ]
  },
  {
   "cell_type": "code",
   "execution_count": 91,
   "id": "a5d5cd0a-c6c4-4c14-b566-f82a19c9233a",
   "metadata": {},
   "outputs": [
    {
     "name": "stdout",
     "output_type": "stream",
     "text": [
      "False\n"
     ]
    }
   ],
   "source": [
    "print(snack in snack_box)"
   ]
  },
  {
   "cell_type": "code",
   "execution_count": 1,
   "id": "84f306d4-4acb-4da5-8f52-a0ad44a75bed",
   "metadata": {},
   "outputs": [
    {
     "name": "stdout",
     "output_type": "stream",
     "text": [
      "140711474506168 140711474506168\n"
     ]
    }
   ],
   "source": [
    "a = 1\n",
    "b = 1\n",
    "print(id(a), id(b))"
   ]
  },
  {
   "cell_type": "code",
   "execution_count": null,
   "id": "ea289e40-1e73-4728-af57-54062e3b0ffc",
   "metadata": {},
   "outputs": [],
   "source": []
  },
  {
   "cell_type": "markdown",
   "id": "616edf5e-dfa1-4e54-90d1-d91237826bdd",
   "metadata": {},
   "source": [
    "# 250530"
   ]
  },
  {
   "cell_type": "markdown",
   "id": "480718dd-4f06-494b-8d1a-2994535e54d9",
   "metadata": {},
   "source": [
    "## Dictionary"
   ]
  },
  {
   "cell_type": "code",
   "execution_count": 27,
   "id": "24c5592c-6d1b-47c6-bcb0-97df4ecce6b1",
   "metadata": {},
   "outputs": [],
   "source": [
    "students = [\n",
    "               {'num':'1','name':'김철수','kor':90,'eng':80,'math':85,'total':0,'avg':0.0,'order':0 },\n",
    "               {'num':'2','name':'박제동','kor':90,'eng':85,'math':90,'total':0,'avg':0.0,'order':0 },\n",
    "               {'num':'3','name':'홍길동','kor':80,'eng':80,'math':80,'total':0,'avg':0.0,'order':0 }\n",
    "           ]"
   ]
  },
  {
   "cell_type": "code",
   "execution_count": 28,
   "id": "388e4611-f0b8-44ec-b61c-89d2f0fa13e7",
   "metadata": {},
   "outputs": [
    {
     "name": "stdout",
     "output_type": "stream",
     "text": [
      "김철수 255\n",
      "박제동 265\n",
      "홍길동 240\n"
     ]
    }
   ],
   "source": [
    "for i in students:\n",
    "    i[\"total\"] = i['kor'] + i['eng'] + i['math']\n",
    "for i in students:\n",
    "    print(i['name'], i['total'])"
   ]
  },
  {
   "cell_type": "code",
   "execution_count": 29,
   "id": "164df181-a759-4b42-b869-2a7f9f079616",
   "metadata": {},
   "outputs": [
    {
     "name": "stdout",
     "output_type": "stream",
     "text": [
      "김철수 85\n",
      "박제동 88\n",
      "홍길동 80\n"
     ]
    }
   ],
   "source": [
    "for i in students:\n",
    "    i['avg'] = (i['kor'] + i['eng'] + i['math']) // 3\n",
    "for i in students:\n",
    "    print(i['name'], i['avg'])"
   ]
  },
  {
   "cell_type": "code",
   "execution_count": 34,
   "id": "e775d6b8-07f1-4073-9a88-7890d74683d7",
   "metadata": {},
   "outputs": [
    {
     "name": "stdout",
     "output_type": "stream",
     "text": [
      "[265, 255, 240]\n"
     ]
    }
   ],
   "source": [
    "tmp = []\n",
    "for i in students:\n",
    "    tmp.append(i['total'])\n",
    "tmp.sort(reverse=True)\n",
    "\n",
    "print(tmp)"
   ]
  },
  {
   "cell_type": "code",
   "execution_count": 35,
   "id": "bef1c828-efbc-4bf3-9ae9-f3242d58354e",
   "metadata": {},
   "outputs": [
    {
     "name": "stdout",
     "output_type": "stream",
     "text": [
      "김철수 2\n",
      "박제동 1\n",
      "홍길동 3\n"
     ]
    }
   ],
   "source": [
    "for i in students:\n",
    "    for j in range(len(tmp)):\n",
    "        if i['total'] == tmp[j]:\n",
    "            i['order'] = j+1\n",
    "            break\n",
    "\n",
    "for i in students:\n",
    "    print(i['name'], i['order'])"
   ]
  },
  {
   "cell_type": "markdown",
   "id": "f38f5e26-e200-4ba2-add1-a5331d81e473",
   "metadata": {},
   "source": [
    "# 리스트 퀴즈\n",
    "Q1. [1,3,5,4,2]라는 리스트를 [5,4,3,2,1]로 만들어보자\n",
    "\n",
    "Q2. ['Life','is','too','short']라는 리스트를 Life is too short라는 문자열로 만들어 출력해 보자\n",
    "\n",
    "Q3. 다음 리스트 L의 순서를 아래와 같이 변경하시오. (힌트: pop())\n",
    "\n",
    "변경 전\n",
    "\n",
    "[1, 3, 5, 7, 9]\n",
    "\n",
    "변경 후\n",
    "\n",
    "[3, 5, 7, 9, 1]"
   ]
  },
  {
   "cell_type": "markdown",
   "id": "38504e2e-83c2-4265-90f9-65af29837d1f",
   "metadata": {},
   "source": [
    "## A1"
   ]
  },
  {
   "cell_type": "code",
   "execution_count": 39,
   "id": "a5a4f43c-42c6-4a64-a9d5-2b6d0063f075",
   "metadata": {},
   "outputs": [
    {
     "name": "stdout",
     "output_type": "stream",
     "text": [
      "[5, 4, 3, 2, 1]\n"
     ]
    }
   ],
   "source": [
    "a = [1,3,5,4,2]\n",
    "\n",
    "a = sorted(a, reverse=True)\n",
    "print(a)"
   ]
  },
  {
   "cell_type": "markdown",
   "id": "cec18459-4107-4f59-880b-9cd8514ad8c5",
   "metadata": {},
   "source": [
    "## A2"
   ]
  },
  {
   "cell_type": "code",
   "execution_count": 42,
   "id": "96621388-e9b3-4a7c-a8b3-0342ee8fcc34",
   "metadata": {},
   "outputs": [
    {
     "name": "stdout",
     "output_type": "stream",
     "text": [
      "Life is too short\n"
     ]
    }
   ],
   "source": [
    "string = ['Life','is','too','short']\n",
    "\n",
    "print(*string)"
   ]
  },
  {
   "cell_type": "markdown",
   "id": "0bb15924-91ea-4591-bfe7-e8aa30c129c7",
   "metadata": {},
   "source": [
    "## A3"
   ]
  },
  {
   "cell_type": "code",
   "execution_count": 51,
   "id": "439f1d4b-b0ee-49d6-98e8-71f74d2db242",
   "metadata": {},
   "outputs": [
    {
     "name": "stdout",
     "output_type": "stream",
     "text": [
      "[3, 5, 7, 9, 1]\n"
     ]
    }
   ],
   "source": [
    "q = [1, 3, 5, 7, 9]\n",
    "tmp = []\n",
    "tmp.append(q.pop())\n",
    "tmp.append(q.pop())\n",
    "tmp.append(q.pop())\n",
    "tmp.append(q.pop())\n",
    "a = q.pop()\n",
    "q.append(tmp.pop())\n",
    "q.append(tmp.pop())\n",
    "q.append(tmp.pop())\n",
    "q.append(tmp.pop())\n",
    "q.append(a)\n",
    "\n",
    "print(q)"
   ]
  },
  {
   "cell_type": "markdown",
   "id": "9d753588-427b-4536-b1ca-e613816e380d",
   "metadata": {},
   "source": [
    "# Tuple"
   ]
  },
  {
   "cell_type": "code",
   "execution_count": 1,
   "id": "2f5b58ba-c4cc-4f11-a364-2fe607477ab8",
   "metadata": {},
   "outputs": [],
   "source": [
    "# x=2, y=1 로 만들어라\n",
    "x=1\n",
    "y=2"
   ]
  },
  {
   "cell_type": "code",
   "execution_count": 2,
   "id": "6e5770dc-68c7-4241-91db-56e50cc4c75f",
   "metadata": {},
   "outputs": [],
   "source": [
    "def swap(first, second):\n",
    "    tmp = first\n",
    "    first = second\n",
    "    second = tmp\n",
    "    return first, second"
   ]
  },
  {
   "cell_type": "code",
   "execution_count": 9,
   "id": "c5ef42f5-c5bc-470b-95ca-9dfb18467cb2",
   "metadata": {},
   "outputs": [],
   "source": [
    "x, y = y, x # 튜플의 패킹과 언패킹 작동"
   ]
  },
  {
   "cell_type": "code",
   "execution_count": 10,
   "id": "d338e8e8-069d-490f-991c-50f714712d51",
   "metadata": {},
   "outputs": [
    {
     "data": {
      "text/plain": [
       "(2, 1)"
      ]
     },
     "execution_count": 10,
     "metadata": {},
     "output_type": "execute_result"
    }
   ],
   "source": [
    "x, y"
   ]
  },
  {
   "cell_type": "code",
   "execution_count": 19,
   "id": "01e63454-7038-41fd-8f78-a11f25cb6ff0",
   "metadata": {},
   "outputs": [
    {
     "name": "stdout",
     "output_type": "stream",
     "text": [
      "-3131855777946403910\n",
      "-3131855777946403910\n"
     ]
    }
   ],
   "source": [
    "a = \"asd\"\n",
    "print(hash(a))\n",
    "print(hash(\"asd\"))"
   ]
  },
  {
   "cell_type": "markdown",
   "id": "f6fafcbf-d0e5-4f18-9fda-eb3f3533db53",
   "metadata": {},
   "source": [
    "# set 집합 연산\n",
    "\n",
    "- 교집합: &, intersectopm()\n",
    "- 합집합: |, union()\n",
    "- 차집합: -, difference()"
   ]
  },
  {
   "cell_type": "code",
   "execution_count": 11,
   "id": "9cd6583d-508b-4b2f-8557-6d0114507d6f",
   "metadata": {},
   "outputs": [],
   "source": [
    "s = set([1, 2, 3, 4])\n",
    "x = {2, 3, 4}\n",
    "y = {3, 4, 5}"
   ]
  },
  {
   "cell_type": "code",
   "execution_count": 12,
   "id": "8d0baf76-ce4a-472d-b349-3663fe8ebb8c",
   "metadata": {},
   "outputs": [
    {
     "data": {
      "text/plain": [
       "{3, 4}"
      ]
     },
     "execution_count": 12,
     "metadata": {},
     "output_type": "execute_result"
    }
   ],
   "source": [
    "x&y"
   ]
  },
  {
   "cell_type": "code",
   "execution_count": 13,
   "id": "eedd7584-f5b4-4a97-87f5-e50da76d6a68",
   "metadata": {},
   "outputs": [
    {
     "data": {
      "text/plain": [
       "{3, 4}"
      ]
     },
     "execution_count": 13,
     "metadata": {},
     "output_type": "execute_result"
    }
   ],
   "source": [
    "x.intersection(y)"
   ]
  },
  {
   "cell_type": "code",
   "execution_count": 14,
   "id": "d28a5b42-71e0-42a4-a4bf-5f5a246cad8e",
   "metadata": {},
   "outputs": [
    {
     "data": {
      "text/plain": [
       "{2, 3, 4, 5}"
      ]
     },
     "execution_count": 14,
     "metadata": {},
     "output_type": "execute_result"
    }
   ],
   "source": [
    "x|y"
   ]
  },
  {
   "cell_type": "code",
   "execution_count": 15,
   "id": "38b8e10b-fad5-4684-8f83-3232389a0181",
   "metadata": {},
   "outputs": [
    {
     "data": {
      "text/plain": [
       "{2}"
      ]
     },
     "execution_count": 15,
     "metadata": {},
     "output_type": "execute_result"
    }
   ],
   "source": [
    "x-y"
   ]
  },
  {
   "cell_type": "code",
   "execution_count": null,
   "id": "c5ff27da-e334-4aa7-9a38-4f6392ae53b1",
   "metadata": {},
   "outputs": [],
   "source": []
  }
 ],
 "metadata": {
  "kernelspec": {
   "display_name": "Python 3 (ipykernel)",
   "language": "python",
   "name": "python3"
  },
  "language_info": {
   "codemirror_mode": {
    "name": "ipython",
    "version": 3
   },
   "file_extension": ".py",
   "mimetype": "text/x-python",
   "name": "python",
   "nbconvert_exporter": "python",
   "pygments_lexer": "ipython3",
   "version": "3.12.9"
  }
 },
 "nbformat": 4,
 "nbformat_minor": 5
}
