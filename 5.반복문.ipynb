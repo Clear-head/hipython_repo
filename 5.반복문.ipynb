{
 "cells": [
  {
   "cell_type": "code",
   "execution_count": 2,
   "id": "25e7722e-a416-48c8-b3c3-92124013efdc",
   "metadata": {},
   "outputs": [
    {
     "data": {
      "text/plain": [
       "([1, 2, 3, 4, 5, 6], ['a', 'b', 'c', 'd', 'e', 'f'])"
      ]
     },
     "execution_count": 2,
     "metadata": {},
     "output_type": "execute_result"
    }
   ],
   "source": [
    "a = [1, 2, 3, 4, 5, 6]\n",
    "b = [chr(97 + i) for i in range(6)]\n",
    "\n",
    "a, b"
   ]
  },
  {
   "cell_type": "code",
   "execution_count": 3,
   "id": "fd651a35-9481-43d3-bd67-0f14e509d872",
   "metadata": {},
   "outputs": [
    {
     "name": "stdout",
     "output_type": "stream",
     "text": [
      "1 a\n",
      "2 b\n",
      "3 c\n",
      "4 d\n",
      "5 e\n",
      "6 f\n"
     ]
    }
   ],
   "source": [
    "for num, abc in zip(a, b):\n",
    "    print(num, abc)"
   ]
  },
  {
   "cell_type": "code",
   "execution_count": 6,
   "id": "cedcd2db-224c-4ed6-b248-eeffb724c5a0",
   "metadata": {},
   "outputs": [
    {
     "name": "stdout",
     "output_type": "stream",
     "text": [
      "0 a\n",
      "1 b\n",
      "2 c\n",
      "3 d\n",
      "4 e\n",
      "5 f\n"
     ]
    }
   ],
   "source": [
    "for i, j in enumerate(b):\n",
    "    print(i, j)"
   ]
  },
  {
   "cell_type": "code",
   "execution_count": 8,
   "id": "630db7ab-5406-47a7-9787-53060f3c1eab",
   "metadata": {},
   "outputs": [
    {
     "data": {
      "text/plain": [
       "4950"
      ]
     },
     "execution_count": 8,
     "metadata": {},
     "output_type": "execute_result"
    }
   ],
   "source": [
    "# 1 ~ 100 합\n",
    "cnt = 0\n",
    "for i in range(1, 100):\n",
    "    cnt += i\n",
    "\n",
    "cnt"
   ]
  },
  {
   "cell_type": "code",
   "execution_count": 10,
   "id": "2ce34000-6334-400d-8b47-2ef491778633",
   "metadata": {},
   "outputs": [
    {
     "name": "stdout",
     "output_type": "stream",
     "text": [
      "2 * 1 = 2\n",
      "2 * 2 = 4\n",
      "2 * 3 = 6\n",
      "2 * 4 = 8\n",
      "2 * 5 = 10\n",
      "2 * 6 = 12\n",
      "2 * 7 = 14\n",
      "2 * 8 = 16\n",
      "2 * 9 = 18\n"
     ]
    }
   ],
   "source": [
    "for i in range(1, 10):\n",
    "    print(f\"2 * {i} = {2*i}\")"
   ]
  },
  {
   "cell_type": "code",
   "execution_count": 14,
   "id": "adb642cf-c532-4eff-bc3c-1bda68ed4bb3",
   "metadata": {},
   "outputs": [
    {
     "name": "stdout",
     "output_type": "stream",
     "text": [
      "\n",
      "====== 2단 ======\n",
      " 2 * 1 = 2\n",
      " 2 * 2 = 4\n",
      " 2 * 3 = 6\n",
      " 2 * 4 = 8\n",
      " 2 * 5 = 10\n",
      " 2 * 6 = 12\n",
      " 2 * 7 = 14\n",
      " 2 * 8 = 16\n",
      " 2 * 9 = 18\n",
      "\n",
      "====== 3단 ======\n",
      " 3 * 1 = 3\n",
      " 3 * 2 = 6\n",
      " 3 * 3 = 9\n",
      " 3 * 4 = 12\n",
      " 3 * 5 = 15\n",
      " 3 * 6 = 18\n",
      " 3 * 7 = 21\n",
      " 3 * 8 = 24\n",
      " 3 * 9 = 27\n",
      "\n",
      "====== 4단 ======\n",
      " 4 * 1 = 4\n",
      " 4 * 2 = 8\n",
      " 4 * 3 = 12\n",
      " 4 * 4 = 16\n",
      " 4 * 5 = 20\n",
      " 4 * 6 = 24\n",
      " 4 * 7 = 28\n",
      " 4 * 8 = 32\n",
      " 4 * 9 = 36\n",
      "\n",
      "====== 5단 ======\n",
      " 5 * 1 = 5\n",
      " 5 * 2 = 10\n",
      " 5 * 3 = 15\n",
      " 5 * 4 = 20\n",
      " 5 * 5 = 25\n",
      " 5 * 6 = 30\n",
      " 5 * 7 = 35\n",
      " 5 * 8 = 40\n",
      " 5 * 9 = 45\n",
      "\n",
      "====== 6단 ======\n",
      " 6 * 1 = 6\n",
      " 6 * 2 = 12\n",
      " 6 * 3 = 18\n",
      " 6 * 4 = 24\n",
      " 6 * 5 = 30\n",
      " 6 * 6 = 36\n",
      " 6 * 7 = 42\n",
      " 6 * 8 = 48\n",
      " 6 * 9 = 54\n",
      "\n",
      "====== 7단 ======\n",
      " 7 * 1 = 7\n",
      " 7 * 2 = 14\n",
      " 7 * 3 = 21\n",
      " 7 * 4 = 28\n",
      " 7 * 5 = 35\n",
      " 7 * 6 = 42\n",
      " 7 * 7 = 49\n",
      " 7 * 8 = 56\n",
      " 7 * 9 = 63\n",
      "\n",
      "====== 8단 ======\n",
      " 8 * 1 = 8\n",
      " 8 * 2 = 16\n",
      " 8 * 3 = 24\n",
      " 8 * 4 = 32\n",
      " 8 * 5 = 40\n",
      " 8 * 6 = 48\n",
      " 8 * 7 = 56\n",
      " 8 * 8 = 64\n",
      " 8 * 9 = 72\n",
      "\n",
      "====== 9단 ======\n",
      " 9 * 1 = 9\n",
      " 9 * 2 = 18\n",
      " 9 * 3 = 27\n",
      " 9 * 4 = 36\n",
      " 9 * 5 = 45\n",
      " 9 * 6 = 54\n",
      " 9 * 7 = 63\n",
      " 9 * 8 = 72\n",
      " 9 * 9 = 81\n"
     ]
    }
   ],
   "source": [
    "for i in range(2, 10):\n",
    "    print(f\"\\n====== {i}단 ======\")\n",
    "    for ii in range(1, 10):\n",
    "        print(f\" {i} * {ii} = {i * ii}\")"
   ]
  },
  {
   "cell_type": "code",
   "execution_count": 33,
   "id": "b83fd46e-e1b8-401c-8587-bfb1b3abc94a",
   "metadata": {},
   "outputs": [
    {
     "name": "stdout",
     "output_type": "stream",
     "text": [
      "                                    *\n",
      "                                **\n",
      "                            ***\n",
      "                        ****\n",
      "                    *****\n",
      "                ******\n",
      "            *******\n",
      "        ********\n",
      "    *********\n"
     ]
    }
   ],
   "source": [
    "a = \"*\"\n",
    "space = \"    \"\n",
    "for i in range(1, 10):\n",
    "    print(f\"{(10 - i) * (space)}{a*i}\")"
   ]
  },
  {
   "cell_type": "code",
   "execution_count": 6,
   "id": "409e9fe6-35c6-4cbe-9b90-cadbe6a1f40e",
   "metadata": {},
   "outputs": [],
   "source": [
    "numbers = [1, 2, 3, 4, 5]\n",
    "\n",
    "squares = [i * 2 for i in numbers]"
   ]
  },
  {
   "cell_type": "code",
   "execution_count": 7,
   "id": "97cd0ca6-7f42-4f68-9440-ec7b26565ffe",
   "metadata": {},
   "outputs": [
    {
     "data": {
      "text/plain": [
       "[2, 4, 6, 8, 10]"
      ]
     },
     "execution_count": 7,
     "metadata": {},
     "output_type": "execute_result"
    }
   ],
   "source": [
    "squares"
   ]
  },
  {
   "cell_type": "code",
   "execution_count": 8,
   "id": "7f32b538-b67e-459b-ad43-f640ef814702",
   "metadata": {},
   "outputs": [
    {
     "data": {
      "text/plain": [
       "[0, 2, 4, 6, 8, 5, 6, 7, 8, 9]"
      ]
     },
     "execution_count": 8,
     "metadata": {},
     "output_type": "execute_result"
    }
   ],
   "source": [
    "[x*2 if x<5 else x for x in range(10)]"
   ]
  },
  {
   "cell_type": "code",
   "execution_count": 10,
   "id": "e79b9db3-03b7-43e0-8b74-5329167223b2",
   "metadata": {},
   "outputs": [
    {
     "data": {
      "text/plain": [
       "[0, 1, 2, 3, 4]"
      ]
     },
     "execution_count": 10,
     "metadata": {},
     "output_type": "execute_result"
    }
   ],
   "source": [
    "[x for x in range(10) if x<5]"
   ]
  },
  {
   "cell_type": "code",
   "execution_count": 42,
   "id": "8f5e2427-3e8b-4612-a578-9c6e183de18e",
   "metadata": {},
   "outputs": [
    {
     "name": "stdout",
     "output_type": "stream",
     "text": [
      "🎉 당첨 번호 있음! (23)\n"
     ]
    }
   ],
   "source": [
    "my_numbers = [3, 11, 17, 23, 38, 42]\n",
    "win_numbers = [7, 14, 23, 32, 38, 45]\n",
    "\n",
    "for num in my_numbers:\n",
    "    if num in win_numbers:\n",
    "        print(f\"🎉 당첨 번호 있음! ({num})\")\n",
    "        break\n",
    "else:\n",
    "    print(\"😢 꽝입니다.\")"
   ]
  },
  {
   "cell_type": "code",
   "execution_count": 51,
   "id": "887624fa-f3c7-4df5-9105-8e94688d8b57",
   "metadata": {},
   "outputs": [
    {
     "name": "stdout",
     "output_type": "stream",
     "text": [
      "[23, 38]\n"
     ]
    }
   ],
   "source": [
    "print([ i for i in my_numbers if i in win_numbers ] if [ i for i in my_numbers if i in win_numbers ] else \"꽝\")"
   ]
  },
  {
   "cell_type": "markdown",
   "id": "cf436ec1-269d-4678-be69-e397bfb9e942",
   "metadata": {},
   "source": [
    "# Iterator, Generator"
   ]
  },
  {
   "cell_type": "markdown",
   "id": "4b81fe9d-bbfe-4982-a1e8-6fc11c7ce6c0",
   "metadata": {},
   "source": [
    "- Iterable: for 의 in 에 나올 수 있는 객체의 유형\n",
    "- Iterator: iter(), enumarate()\n",
    "- Generator: yield 사용 패턴"
   ]
  },
  {
   "cell_type": "code",
   "execution_count": 5,
   "id": "b3493093-5fb5-4708-adc0-2940953eabf7",
   "metadata": {},
   "outputs": [
    {
     "data": {
      "text/plain": [
       "True"
      ]
     },
     "execution_count": 5,
     "metadata": {},
     "output_type": "execute_result"
    }
   ],
   "source": [
    "from collections.abc import Iterable\n",
    "\n",
    "isinstance('hello', Iterable)"
   ]
  },
  {
   "cell_type": "code",
   "execution_count": 37,
   "id": "39366c72-c038-4ac6-8ded-834e7fbd565e",
   "metadata": {},
   "outputs": [],
   "source": [
    "iter_test_str = 'hello'"
   ]
  },
  {
   "cell_type": "code",
   "execution_count": 38,
   "id": "e1570dd7-07d4-41fa-8e5f-ef78f4a2a2bb",
   "metadata": {},
   "outputs": [
    {
     "name": "stdout",
     "output_type": "stream",
     "text": [
      "(0, 'h')\n",
      "(1, 'e')\n",
      "(2, 'l')\n",
      "(3, 'l')\n",
      "(4, 'o')\n"
     ]
    }
   ],
   "source": [
    "for i in enumerate(iter_test_str):\n",
    "    print(i)"
   ]
  },
  {
   "cell_type": "code",
   "execution_count": 55,
   "id": "58397c0c-b8b5-429f-b234-1b09ff4469ad",
   "metadata": {},
   "outputs": [],
   "source": [
    "def genarator_test():\n",
    "    yield 'banana1'\n",
    "    yield 'banana2'\n",
    "    yield 'banana3'\n",
    "    yield 'banana4'"
   ]
  },
  {
   "cell_type": "code",
   "execution_count": 56,
   "id": "bc350d99-b72f-4239-a6a0-088685024720",
   "metadata": {},
   "outputs": [
    {
     "name": "stdout",
     "output_type": "stream",
     "text": [
      "banana1\n",
      "banana2\n",
      "banana3\n",
      "banana4\n"
     ]
    }
   ],
   "source": [
    "for i in genarator_test():\n",
    "    print(i)"
   ]
  },
  {
   "cell_type": "code",
   "execution_count": 68,
   "id": "bc142c97-63ea-4ba2-ac7b-01bf3e7a4014",
   "metadata": {},
   "outputs": [
    {
     "data": {
      "text/plain": [
       "'banana1'"
      ]
     },
     "execution_count": 68,
     "metadata": {},
     "output_type": "execute_result"
    }
   ],
   "source": [
    "gen = genarator_test()\n",
    "next(gen)"
   ]
  },
  {
   "cell_type": "code",
   "execution_count": 69,
   "id": "7d73647f-0d27-4d5e-b411-f6ed04c1f72c",
   "metadata": {},
   "outputs": [
    {
     "data": {
      "text/plain": [
       "'banana2'"
      ]
     },
     "execution_count": 69,
     "metadata": {},
     "output_type": "execute_result"
    }
   ],
   "source": [
    "next(gen)"
   ]
  },
  {
   "cell_type": "code",
   "execution_count": null,
   "id": "1bce9810-fad8-4564-99fa-9213ca58ab74",
   "metadata": {},
   "outputs": [],
   "source": []
  }
 ],
 "metadata": {
  "kernelspec": {
   "display_name": "Python 3 (ipykernel)",
   "language": "python",
   "name": "python3"
  },
  "language_info": {
   "codemirror_mode": {
    "name": "ipython",
    "version": 3
   },
   "file_extension": ".py",
   "mimetype": "text/x-python",
   "name": "python",
   "nbconvert_exporter": "python",
   "pygments_lexer": "ipython3",
   "version": "3.12.9"
  }
 },
 "nbformat": 4,
 "nbformat_minor": 5
}
